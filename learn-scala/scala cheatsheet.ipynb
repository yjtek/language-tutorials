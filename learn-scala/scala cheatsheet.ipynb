{
 "cells": [
  {
   "cell_type": "markdown",
   "metadata": {},
   "source": [
    "## Scala Cheat Sheets"
   ]
  },
  {
   "cell_type": "markdown",
   "metadata": {},
   "source": [
    "### Evaluation Rules"
   ]
  },
  {
   "cell_type": "markdown",
   "metadata": {},
   "source": [
    "- Call by value: evaluates the function arguments before calling the function\n",
    "- Call by name: evaluates the function first, and then evaluates the arguments if need be"
   ]
  },
  {
   "cell_type": "markdown",
   "metadata": {},
   "source": [
    "```scala\n",
    "    def example = 2      // evaluated when called\n",
    "    val example = 2      // evaluated immediately\n",
    "    lazy val example = 2 // evaluated once when needed\n",
    "\n",
    "    def square(x: Double)    // call by value\n",
    "    def square(x: => Double) // call by name\n",
    "    def myFct(bindings: Int*) =  ...  // bindings is a sequence of int, containing a varying # of arguments\n",
    "```"
   ]
  },
  {
   "cell_type": "markdown",
   "metadata": {},
   "source": [
    "### Higher order functions"
   ]
  },
  {
   "cell_type": "markdown",
   "metadata": {},
   "source": [
    "-  These are functions that take a function as a parameter or return functions."
   ]
  },
  {
   "cell_type": "markdown",
   "metadata": {},
   "source": [
    "```scala\n",
    "    // sum takes a function that takes an integer and returns an integer then\n",
    "    // returns a function that takes two integers and returns an integer\n",
    "    def sum(f: Int => Int): (Int, Int) => Int =\n",
    "    def sumf(a: Int, b: Int): Int = f(a) + f(b)\n",
    "    sumf\n",
    "\n",
    "    // same as above. Its type is (Int => Int) => (Int, Int) => Int\n",
    "    def sum(f: Int => Int)(a: Int, b: Int): Int =  ...\n",
    "\n",
    "    // Called like this\n",
    "    sum((x: Int) => x * x * x)          // Anonymous function, i.e. does not have a name\n",
    "    sum(x => x * x * x)                 // Same anonymous function with type inferred\n",
    "\n",
    "    def cube(x: Int) = x * x * x\n",
    "    sum(x => x * x * x)(1, 10) // sum of 1 cubed and 10 cubed\n",
    "    sum(cube)(1, 10)           // same as above  \n",
    "```"
   ]
  },
  {
   "cell_type": "markdown",
   "metadata": {},
   "source": [
    "### Currying"
   ]
  },
  {
   "cell_type": "markdown",
   "metadata": {},
   "source": [
    "- Converting a function with multiple arguments into a function with a single argument that returns another function."
   ]
  },
  {
   "cell_type": "markdown",
   "metadata": {},
   "source": [
    "```scala\n",
    "    val f2: (Int, Int) => Int = f // uncurried version (type is (Int, Int) => Int)\n",
    "    val f3: Int => Int => Int = f2.curried // transform it to a curried version (type is Int => Int => Int)\n",
    "    val f4: (Int, Int) => Int = Function.uncurried(f3) // go back to the uncurried version (type is (Int, Int) => Int)\n",
    "```"
   ]
  },
  {
   "cell_type": "markdown",
   "metadata": {},
   "source": [
    "### Classes"
   ]
  },
  {
   "cell_type": "markdown",
   "metadata": {},
   "source": [
    "- `this` references the current object, `assert(<condition>)` issues `AssertionError` if condition is not met. See `scala.Predef` for `require`, `assume` and `assert`"
   ]
  },
  {
   "cell_type": "markdown",
   "metadata": {},
   "source": [
    "```scala\n",
    "    class MyClass(x: Int, val y: Int,\n",
    "                        var z: Int):        // Defines a new type MyClass with a constructor\n",
    "                                            // x will not be available outside MyClass\n",
    "                                            // val will generate a getter for y\n",
    "                                            // var will generate a getter and a setter for z\n",
    "    require(y > 0, \"y must be positive\")    // precondition, triggering an IllegalArgumentException if not met\n",
    "    def this (x: Int) =  ...                // auxiliary constructor\n",
    "    def nb1 = x                             // public method computed every time it is called\n",
    "    private def test(a: Int): Int =  ...    // private method\n",
    "    val nb3 = x + y                         // computed only once\n",
    "    override def toString =                 // overridden method\n",
    "        x + \", \" + y\n",
    "    end MyClass\n",
    "\n",
    "    new MyClass(1, 2, 3) // creates a new object of type\n",
    "```"
   ]
  },
  {
   "cell_type": "markdown",
   "metadata": {},
   "source": [
    "### End Markers"
   ]
  },
  {
   "cell_type": "markdown",
   "metadata": {},
   "source": [
    "- When the body of a class, object, trait, method or value becomes long, visually inspecting where it ends might become challenging.\n",
    "\n",
    "- In these situations, it is possible to explicitly signal to the reader that the body is over using the end keyword with the name of the definition:"
   ]
  },
  {
   "cell_type": "markdown",
   "metadata": {},
   "source": [
    "```scala\n",
    "    class MyClass(a: Int, b: String):\n",
    "        // body\n",
    "    end MyClass\n",
    "\n",
    "    object MyObject:\n",
    "        // body\n",
    "    end MyObject\n",
    "\n",
    "    object MyTrait:\n",
    "        // body\n",
    "    end MyTrait\n",
    "\n",
    "    def myMethod(name: String): Unit =\n",
    "        println(s\"Hello $name\")\n",
    "    end myMethod\n",
    "\n",
    "    val myVal: Int =\n",
    "        42\n",
    "    end myVal\n",
    "```"
   ]
  },
  {
   "cell_type": "markdown",
   "metadata": {},
   "source": [
    "### Operators"
   ]
  },
  {
   "cell_type": "markdown",
   "metadata": {},
   "source": [
    "- `myObject myMethod 1` is the same as calling `myObject.myMethod(1)`\n",
    "\n",
    "- Operator (i.e. function) names can be alphanumeric, symbolic (e.g. `x1`, `*`, `+?%&`, `vector_++`, `counter_=`)\n",
    "\n",
    "- The precedence of an operator is determined by its first character, with the following increasing order of priority:\n",
    "    - (all letters)\n",
    "    - |\n",
    "    - ^\n",
    "    - &\n",
    "    - < >\n",
    "    - = !\n",
    "    - :\n",
    "    - + -\n",
    "    - * / %\n",
    "    - (all other special characters)\n",
    "\n",
    "- The associativity of an operator is determined by its last character: Right-associative if ending with :, Left-associative otherwise.\n",
    "\n",
    "- Note that assignment operators have lowest precedence.\n",
    "    - Logically, if you have x = 1 + 2 * 3, you want 2*3 to be evaluated first, then 1 + 6 then x = 7\n",
    "    - If `=` had the highest precedence, you end up evaluating x=1 first, which makes no sense"
   ]
  },
  {
   "cell_type": "markdown",
   "metadata": {},
   "source": [
    "### Class hierarchies"
   ]
  },
  {
   "cell_type": "markdown",
   "metadata": {},
   "source": [
    "```scala\n",
    "    abstract class TopLevel:     // abstract class\n",
    "    def method1(x: Int): Int   // abstract method\n",
    "    def method2(x: Int): Int =  ...\n",
    "    end TopLevel\n",
    "\n",
    "    class Level1 extends TopLevel:\n",
    "    def method1(x: Int): Int = ...\n",
    "    override def method2(x: Int): Int = ... // TopLevel's method2 needs to be explicitly overridden\n",
    "    end Level1\n",
    "\n",
    "    object MyObject extends TopLevel:\n",
    "    ...  // defines a singleton object. No other instance can be created\n",
    "```"
   ]
  },
  {
   "cell_type": "markdown",
   "metadata": {},
   "source": [
    "- To create runnable application in Scala:"
   ]
  },
  {
   "cell_type": "markdown",
   "metadata": {},
   "source": [
    "```scala\n",
    "    @main def run(args: Array[String]) =\n",
    "    println(\"Hello world\")\n",
    "\n",
    "    /// OR\n",
    "    \n",
    "    object Hello extends App:\n",
    "    println(\"Hello World\")\n",
    "```"
   ]
  },
  {
   "cell_type": "markdown",
   "metadata": {},
   "source": [
    "### Class Organisation"
   ]
  },
  {
   "cell_type": "markdown",
   "metadata": {},
   "source": [
    "- Classes and objects are organized in packages (`package myPackage`).\n",
    "\n",
    "- They can be referenced through import statements (`import myPackage.MyClass`, `import myPackage.*`, `import myPackage.{MyClass1, MyClass2}`, `import myPackage.{MyClass1 as A}`)\n",
    "\n",
    "- They can also be directly referenced in the code with the fully qualified name (`new myPackage.MyClass1`)\n",
    "\n",
    "- All members of packages `scala` and `java.lang` as well as all members of the object `scala.Predef` are automatically imported.\n",
    "\n",
    "- Traits are similar to Java interfaces, except they can have non-abstract members:"
   ]
  },
  {
   "cell_type": "markdown",
   "metadata": {},
   "source": [
    "```scala\n",
    "    trait Planar:\n",
    "    ...\n",
    "    class Square extends Shape with Planar\n",
    "```"
   ]
  },
  {
   "cell_type": "markdown",
   "metadata": {},
   "source": [
    "### Type Parameters"
   ]
  },
  {
   "cell_type": "markdown",
   "metadata": {},
   "source": [
    "- Similar to C++ templates or Java generics. These can apply to classes, traits or functions."
   ]
  },
  {
   "cell_type": "markdown",
   "metadata": {},
   "source": [
    "```scala\n",
    "    class MyClass[T](arg1: T):\n",
    "        ...\n",
    "\n",
    "    MyClass[Int](1)\n",
    "    MyClass(1)   // the type is being inferred, i.e. determined based on the value arguments\n",
    "```"
   ]
  },
  {
   "cell_type": "markdown",
   "metadata": {},
   "source": [
    "- It is possible to restrict the type being used, e.g."
   ]
  },
  {
   "cell_type": "markdown",
   "metadata": {},
   "source": [
    "```scala\n",
    "    def myFct[T <: TopLevel](arg: T): T = ... // T must derive from TopLevel or be TopLevel\n",
    "    def myFct[T >: Level1](arg: T): T = ...   // T must be a supertype of Level1\n",
    "    def myFct[T >: Level1 <: TopLevel](arg: T): T = ...\n",
    "```"
   ]
  },
  {
   "cell_type": "markdown",
   "metadata": {},
   "source": [
    "### Variance"
   ]
  },
  {
   "cell_type": "markdown",
   "metadata": {},
   "source": [
    "- Given `A <: B`\n",
    "    - If `C[A] <: C[B]`, C is covariant\n",
    "    - If `C[A] >: C[B]`, C is contravariant\n",
    "    - Otherwise C is nonvariant"
   ]
  },
  {
   "cell_type": "markdown",
   "metadata": {},
   "source": [
    "```scala\n",
    "    class C[+A]  // C is covariant\n",
    "    class C[-A]  // C is contravariant\n",
    "    class C[A]   // C is nonvariant\n",
    "```"
   ]
  },
  {
   "cell_type": "markdown",
   "metadata": {},
   "source": [
    "- For a function\n",
    "    - if `A2 <: A1` and `B1 <: B2`, then `A1 => B1 <: A2 => B2`\n",
    "\n",
    "- Functions must be contravariant in their argument types and covariant in their result types, e.g."
   ]
  },
  {
   "cell_type": "markdown",
   "metadata": {},
   "source": [
    "```scala\n",
    "    trait Function1[-T, +U]:\n",
    "    def apply(x: T): U\n",
    "    // Variance check is OK because T is contravariant and U is covariant\n",
    "\n",
    "    class Array[+T]:\n",
    "    def update(x: T) // variance checks fails\n",
    "```"
   ]
  },
  {
   "cell_type": "markdown",
   "metadata": {},
   "source": [
    "### Pattern Matching"
   ]
  },
  {
   "cell_type": "markdown",
   "metadata": {},
   "source": [
    "- Pattern matching is used for decomposing data structures:"
   ]
  },
  {
   "cell_type": "markdown",
   "metadata": {},
   "source": [
    "```scala\n",
    "    unknownObject match\n",
    "        case MyClass(n) => ...\n",
    "        case MyClass2(a, b) => ...\n",
    "```"
   ]
  },
  {
   "cell_type": "markdown",
   "metadata": {},
   "source": [
    "- Example patterns"
   ]
  },
  {
   "cell_type": "markdown",
   "metadata": {},
   "source": [
    "```scala\n",
    "    (someList: List[T]) match\n",
    "        case Nil => ...          // empty list\n",
    "        case x :: Nil => ...     // list with only one element\n",
    "        case List(x) => ...      // same as above\n",
    "        case x :: xs => ...      // a list with at least one element. x is bound to the head,\n",
    "                                // xs to the tail. xs could be Nil or some other list.\n",
    "        case 1 :: 2 :: cs => ... // lists that starts with 1 and then 2\n",
    "        case (x, y) :: ps => ... // a list where the head element is a pair\n",
    "        case _ => ...            // default case if none of the above matches\n",
    "```"
   ]
  },
  {
   "cell_type": "markdown",
   "metadata": {},
   "source": [
    "- The last example shows that every pattern consists of sub-patterns: it only matches lists with at least one element, where that element is a pair. x and y are again patterns that could match only specific types."
   ]
  },
  {
   "cell_type": "markdown",
   "metadata": {},
   "source": [
    "#### Pattern Matching as Option Value"
   ]
  },
  {
   "cell_type": "markdown",
   "metadata": {},
   "source": [
    "- Pattern matching can also be used for Option values. Some functions (like `Map.get`) return a value of type `Option[T]` which is either a value of type `Some[T]` or the value `None`\n",
    "\n"
   ]
  },
  {
   "cell_type": "markdown",
   "metadata": {},
   "source": [
    "```scala\n",
    "    val myMap = Map(\"a\" -> 42, \"b\" -> 43)\n",
    "\n",
    "    def getMapValue(s: String): String =\n",
    "    myMap get s match\n",
    "        case Some(nb) => \"Value found: \" + nb\n",
    "        case None => \"No value found\"\n",
    "\n",
    "    getMapValue(\"a\")  // \"Value found: 42\"\n",
    "    getMapValue(\"c\")  // \"No value found\"\n",
    "```"
   ]
  },
  {
   "cell_type": "markdown",
   "metadata": {},
   "source": [
    "- Most of the times when you write a pattern match on an option value, the same expression can be written more concisely using combinator methods of the Option class. For example, the function getMapValue can be written as follows:"
   ]
  },
  {
   "cell_type": "markdown",
   "metadata": {},
   "source": [
    "```scala\n",
    "    def getMapValue(s: String): String = \n",
    "        myMap.get(s).map(\"Value found: \" + _).getOrElse(\"No value found\")\n",
    "```"
   ]
  },
  {
   "cell_type": "markdown",
   "metadata": {},
   "source": [
    "#### Pattern Matching in Anonymous Function"
   ]
  },
  {
   "cell_type": "markdown",
   "metadata": {},
   "source": [
    "```scala\n",
    "    val options: List[Option[Char]] = Some('a') :: None :: Some('b') :: Nil\n",
    "    val chars: List[Char] = pairs.map(p => p match {\n",
    "        case Some(ch) => ch\n",
    "        case None => 'z'\n",
    "    })\n",
    "```"
   ]
  },
  {
   "cell_type": "markdown",
   "metadata": {},
   "source": [
    "- Instead of `p => p match { case ... }`, you can simply write `{ case ...}`, so the above example becomes more concise:"
   ]
  },
  {
   "cell_type": "markdown",
   "metadata": {},
   "source": [
    "```scala\n",
    "    val chars: List[Char] = pairs.map {\n",
    "        case Some(ch) => ch\n",
    "        case None => 'z'\n",
    "    }\n",
    "```"
   ]
  },
  {
   "cell_type": "markdown",
   "metadata": {},
   "source": [
    "### Scala Collection Classes"
   ]
  },
  {
   "cell_type": "markdown",
   "metadata": {},
   "source": [
    "#### Base Classes"
   ]
  },
  {
   "cell_type": "markdown",
   "metadata": {},
   "source": [
    "- Iterable\n",
    "    - collections you can iterate on\n",
    "- Seq \n",
    "    ordered sequences\n",
    "- Set\n",
    "- Map\n",
    "    - lookup data structure\n",
    "\n"
   ]
  },
  {
   "cell_type": "markdown",
   "metadata": {},
   "source": [
    "#### Immutable Collections"
   ]
  },
  {
   "cell_type": "markdown",
   "metadata": {},
   "source": [
    "- List\n",
    "    - linked list, provides fast sequential access\n",
    "\n",
    "- LazyList\n",
    "    - same as List, except that the tail is evaluated only on demand\n",
    "\n",
    "- Vector\n",
    "    - array-like type, implemented as tree of blocks, provides fast random access\n",
    "\n",
    "- Range\n",
    "    - ordered sequence of integers with equal spacing\n",
    "\n",
    "- String\n",
    "    - Java type, implicitly converted to a character sequence, so you can treat every string like a Seq[Char]\n",
    "\n",
    "- Map\n",
    "    - collection that maps keys to values\n",
    "\n",
    "- Set\n",
    "    - collection without duplicate elements"
   ]
  },
  {
   "cell_type": "markdown",
   "metadata": {},
   "source": [
    "#### Mutable Collections"
   ]
  },
  {
   "cell_type": "markdown",
   "metadata": {},
   "source": [
    "- Array\n",
    "    - Scala arrays are native JVM arrays at runtime, therefore they are very performant\n",
    "\n",
    "- Scala also has mutable maps and sets; these should only be used if there are performance issues with immutable types"
   ]
  },
  {
   "cell_type": "markdown",
   "metadata": {},
   "source": [
    "```scala\n",
    "    val fruitList = List(\"apples\", \"oranges\", \"pears\")\n",
    "    // Alternative syntax for lists\n",
    "    val fruit = \"apples\" :: (\"oranges\" :: (\"pears\" :: Nil)) // parens optional, :: (pronounced cons) is right-associative\n",
    "    fruit.head   // \"apples\"\n",
    "    fruit.tail   // List(\"oranges\", \"pears\")\n",
    "    val empty = List()\n",
    "    val empty = Nil\n",
    "\n",
    "    val nums = Vector(\"louis\", \"frank\", \"hiromi\")\n",
    "    nums(1)                     // element at index 1, returns \"frank\", complexity O(log(n))\n",
    "    nums.updated(2, \"helena\")   // new vector with a different string at index 2, complexity O(log(n))\n",
    "\n",
    "    val fruitSet = Set(\"apple\", \"banana\", \"pear\", \"banana\")\n",
    "    fruitSet.size    // returns 3: there are no duplicates, only one banana\n",
    "\n",
    "    val r: Range = 1 until 5 // 1, 2, 3, 4\n",
    "    val s: Range = 1 to 5    // 1, 2, 3, 4, 5\n",
    "    1 to 10 by 3  // 1, 4, 7, 10\n",
    "    6 to 1 by -2  // 6, 4, 2\n",
    "\n",
    "    val s = (1 to 6).toSet\n",
    "    s.map(_ + 2) // adds 2 to each element of the set\n",
    "\n",
    "    val s = \"Hello World\"\n",
    "    s.filter(c => c.isUpper) // returns \"HW\"; strings can be treated as Seq[Char]\n",
    "\n",
    "    // Operations on sequences\n",
    "    val xs = List(...)\n",
    "    xs.length         // number of elements, complexity O(n)\n",
    "    xs.last           // last element (exception if xs is empty), complexity O(n)\n",
    "    xs.init           // all elements of xs but the last (exception if xs is empty), complexity O(n)\n",
    "    xs.take(n)        // first n elements of xs\n",
    "    xs.drop(n)        // the rest of the collection after taking n elements\n",
    "    xs.splitAt(n)     // same as (xs take n, xs drop n)\n",
    "    xs(n)             // the nth element of xs, complexity O(n)\n",
    "    xs ++ ys          // concatenation, complexity O(n)\n",
    "    xs.reverse        // reverse the order, complexity O(n)\n",
    "    xs.updated(n, x)  // same list than xs, except at index n where it contains x, complexity O(n)\n",
    "    xs.indexOf(x)     // the index of the first element equal to x (-1 otherwise)\n",
    "    xs.contains(x)    // same as xs indexOf x >= 0\n",
    "    xs.filter(p)      // returns a list of the elements that satisfy the predicate p\n",
    "    xs.filterNot(p)   // filter with negated p\n",
    "    xs.partition(p)   // same as (xs filter p, xs filterNot p)\n",
    "    xs.takeWhile(p)   // the longest prefix consisting of elements that satisfy p\n",
    "    xs.dropWhile(p)   // the remainder of the list after any leading element satisfying p have been removed\n",
    "    xs.span(p)        // same as (xs takeWhile p, xs dropWhile p)\n",
    "\n",
    "    List(x1, ..., xn).reduceLeft(op)   // (...(x1 op x2) op x3) op ...) op xn\n",
    "    List(x1, ..., xn).foldLeft(z)(op)  // (...( z op x1) op x2) op ...) op xn\n",
    "    List(x1, ..., xn).reduceRight(op)  // x1 op (... (x{n-1} op xn) ...)\n",
    "    List(x1, ..., xn).foldRight(z)(op) // x1 op (... (    xn op  z) ...)\n",
    "\n",
    "    xs.exists(p)   // true if there is at least one element for which predicate p is true\n",
    "    xs.forall(p)   // true if p(x) is true for all elements\n",
    "    xs.zip(ys)     // returns a list of pairs which groups elements with same index together\n",
    "    xs.unzip       // opposite of zip: returns a pair of two lists\n",
    "    xs.flatMap(f)  // applies the function to all elements and concatenates the result\n",
    "    xs.sum         // sum of elements of the numeric collection\n",
    "    xs.product     // product of elements of the numeric collection\n",
    "    xs.max         // maximum of collection\n",
    "    xs.min         // minimum of collection\n",
    "    xs.flatten     // flattens a collection of collection into a single-level collection\n",
    "    xs.groupBy(f)  // returns a map which points to a list of elements\n",
    "    xs.distinct    // sequence of distinct entries (removes duplicates)\n",
    "\n",
    "    x +: xs  // creates a new collection with leading element x\n",
    "    xs :+ x  // creates a new collection with trailing element x\n",
    "\n",
    "    // Operations on maps\n",
    "    val myMap = Map(\"I\" -> 1, \"V\" -> 5, \"X\" -> 10)  // create a map\n",
    "    myMap(\"I\")      // => 1\n",
    "    myMap(\"A\")      // => java.util.NoSuchElementException\n",
    "    myMap.get(\"A\")  // => None\n",
    "    myMap.get(\"I\")  // => Some(1)\n",
    "    myMap.updated(\"V\", 15)  // returns a new map where \"V\" maps to 15 (entry is updated)\n",
    "                            // if the key (\"V\" here) does not exist, a new entry is added\n",
    "\n",
    "    // Operations on LazyLists\n",
    "    val xs = LazyList(1, 2, 3)\n",
    "    val xs = LazyList.cons(1, LazyList.cons(2, LazyList.cons(3, LazyList.empty))) // same as above\n",
    "    (1 to 1000).to[LazyList] // => Stream(1, ?)\n",
    "    x #:: xs // Same as LazyList.cons(x, xs)\n",
    "                // In the LazyList's cons operator, the second parameter (the tail)\n",
    "                // is defined as a \"call by name\" parameter.\n",
    "                // Note that x::xs always produces a List\n",
    "    def integers(start: Int = 0): LazyList[Int] = start #:: integers(start + 1) // infinite sequence of integers starting at \"start\"\n",
    "    integers(0).drop(10).take(100) // New lazylist starting at 10\n",
    "```"
   ]
  },
  {
   "cell_type": "markdown",
   "metadata": {},
   "source": [
    "### Pairs"
   ]
  },
  {
   "cell_type": "markdown",
   "metadata": {},
   "source": [
    "```scala\n",
    "    val pair = (\"answer\", 42)   // type: (String, Int)\n",
    "    val (label, value) = pair   // label = \"answer\", value = 42  \n",
    "    pair(0) // \"answer\"  \n",
    "    pair(1) // 42  \n",
    "```"
   ]
  },
  {
   "cell_type": "markdown",
   "metadata": {},
   "source": [
    "### Ordering"
   ]
  },
  {
   "cell_type": "markdown",
   "metadata": {},
   "source": [
    "- There is already a class in the standard library that represents orderings: `scala.math.Ordering[T]` which contains comparison functions such as `lt()` and `gt()` for standard types. \n",
    "\n",
    "- Types with a single natural ordering should inherit from the trait `scala.math.Ordered[T]`"
   ]
  },
  {
   "cell_type": "markdown",
   "metadata": {},
   "source": [
    "```scala\n",
    "    import math.Ordering\n",
    "\n",
    "    def msort[T](xs: List[T])(using Ordering[T]) = ...\n",
    "    msort(fruits)(using Ordering.String)\n",
    "    msort(fruits)  // the compiler figures out the right ordering\n",
    "```"
   ]
  },
  {
   "cell_type": "markdown",
   "metadata": {},
   "source": [
    "### For-Comprehensions\n"
   ]
  },
  {
   "cell_type": "markdown",
   "metadata": {},
   "source": [
    "- A for-comprehension is syntactic sugar for `map`, `flatMap` and `filter` operations on collections.\n",
    "\n",
    "- The general form is `for (s) yield e`\n",
    "    - `s` is a sequence of generators and filters\n",
    "    - `p <- e` is a generator\n",
    "    - `if f` is a filter\n",
    "    - If there are several generators (equivalent of a nested loop), the last generator varies faster than the first\n",
    "    - You can use `{ s }` instead of `( s )` if you want to use multiple lines without requiring semicolons\n",
    "    - `e` is an element of the resulting collection"
   ]
  },
  {
   "cell_type": "markdown",
   "metadata": {},
   "source": [
    "```scala\n",
    "    // list all combinations of numbers x and y where x is drawn from\n",
    "    // 1 to M and y is drawn from 1 to N\n",
    "    for (x <- 1 to M; y <- 1 to N)\n",
    "        yield (x, y)\n",
    "\n",
    "    //equivalent to\n",
    "    (1 to M).flatMap(x => (1 to N) map (y => (x, y)))\n",
    "```"
   ]
  },
  {
   "cell_type": "markdown",
   "metadata": {},
   "source": [
    "#### Translation Rules"
   ]
  },
  {
   "cell_type": "markdown",
   "metadata": {},
   "source": [
    "- A for-expression looks like a traditional for loop but works differently internally\n",
    "    - `for (x <- e1) yield e2` is translated to `e1.map(x => e2)`\n",
    "    - `for (x <- e1 if f; s) yield e2` is translated to `for (x <- e1.withFilter(x => f); s) yield e2`\n",
    "    - `for (x <- e1; y <- e2; s) yield e3` is translated to `e1.flatMap(x => for (y <- e2; s) yield e3)`\n",
    "\n",
    "- Note: `s` is a (potentially empty) sequence of fields (generators and filters)\n",
    "\n",
    "- This means you can use a for-comprehension for your own type, as long as you define `map`, `flatMap` and `filter`."
   ]
  },
  {
   "cell_type": "markdown",
   "metadata": {},
   "source": [
    "```scala\n",
    "    for\n",
    "        i <- 1 until n  \n",
    "        j <- 1 until i  \n",
    "        if isPrime(i + j)  \n",
    "    yield (i, j)  \n",
    "\n",
    "    // equivalent to\n",
    "    for (i <- 1 until n; j <- 1 until i if isPrime(i + j))\n",
    "        yield (i, j)  \n",
    "\n",
    "    // equivalent to\n",
    "    (1 until n).flatMap(i => (1 until i).filter(j => isPrime(i + j)).map(j => (i, j)))\n",
    "```"
   ]
  },
  {
   "cell_type": "markdown",
   "metadata": {},
   "source": []
  }
 ],
 "metadata": {
  "language_info": {
   "name": "python"
  }
 },
 "nbformat": 4,
 "nbformat_minor": 2
}
