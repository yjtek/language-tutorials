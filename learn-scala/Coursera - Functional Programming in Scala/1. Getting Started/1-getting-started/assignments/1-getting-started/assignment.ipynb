{
 "cells": [
  {
   "cell_type": "markdown",
   "metadata": {},
   "source": [
    "## Introductory Assignment"
   ]
  },
  {
   "cell_type": "markdown",
   "metadata": {},
   "source": [
    "- Rewrite the `max` and `sum` functions in `src/main/scala/example/Lists.scala`\n",
    "- See how to implement tests using MUnitt tests in `src/test/scala/example/ListsSuite.scala`"
   ]
  }
 ],
 "metadata": {
  "language_info": {
   "name": "python"
  }
 },
 "nbformat": 4,
 "nbformat_minor": 2
}
