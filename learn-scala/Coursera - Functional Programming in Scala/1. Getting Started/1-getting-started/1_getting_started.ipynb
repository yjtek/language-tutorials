{
 "cells": [
  {
   "cell_type": "markdown",
   "metadata": {
    "vscode": {
     "languageId": "plaintext"
    }
   },
   "source": [
    "## Intro to Scala"
   ]
  },
  {
   "cell_type": "markdown",
   "metadata": {},
   "source": [
    "- Both OOP and functional programming\n",
    "- Interoperates nicely with both Java and Javascript\n",
    "- Is used in implementation of Apache Spark, Kafka, and Akka"
   ]
  },
  {
   "cell_type": "markdown",
   "metadata": {},
   "source": [
    "### Set up environment"
   ]
  },
  {
   "cell_type": "markdown",
   "metadata": {},
   "source": [
    "- Will use [coursier](https://get-coursier.io/), follow guide [here](https://get-coursier.io/docs/cli-installation.html#macos-brew-based-installation)\n",
    "    - `brew install coursier/formulas/coursier`\n",
    "    - `cs setup`\n",
    "    - (not working) `cs setup --jvm adopt:11` \n",
    "    - `cs setup --jvm temurin:11`\n",
    "    - `sbt about`"
   ]
  },
  {
   "cell_type": "markdown",
   "metadata": {},
   "source": [
    "### Check Scala Installation"
   ]
  },
  {
   "cell_type": "markdown",
   "metadata": {},
   "source": [
    "- Invoke `scala` in command line"
   ]
  },
  {
   "cell_type": "markdown",
   "metadata": {},
   "source": [
    "```scala\n",
    "scala> 1 + 1\n",
    "val res0: Int = 2\n",
    "\n",
    "scala> val x = 42\n",
    "val x: Int = 42\n",
    "\n",
    "scala> x * x\n",
    "val res1: Int = 1764\n",
    "```"
   ]
  },
  {
   "cell_type": "markdown",
   "metadata": {},
   "source": [
    "### See Sample Scala Project Directory"
   ]
  },
  {
   "cell_type": "markdown",
   "metadata": {},
   "source": [
    "- In any `.sc` file, just save the file to get output"
   ]
  },
  {
   "cell_type": "markdown",
   "metadata": {},
   "source": [
    "### Creating a scala project"
   ]
  },
  {
   "cell_type": "markdown",
   "metadata": {},
   "source": [
    "- `sbt new`\n",
    "    - Use this template `d) scala/scala3.g8                   - Scala 3 seed template`\n",
    "    - Type in the directory name you want\n",
    "    - scala scaffolds everything for you\n",
    "\n",
    "- `cd` to your new directory\n",
    "\n",
    "- Run `sbt` (sbt command line), or `scala` (for scala interpreter)\n",
    "    - These are **NOT** the same thing, but you can get the scala interpreter inside `sbt` by running `console`\n",
    "    - CTRL+D to exit\n",
    "\n",
    "- `compile` once you have code to compile to bytecode from \"src/main/scala\"\n",
    "\n",
    "- `test` if you have tests to run from \" src/test/scala\"\n",
    "\n",
    "- `run`: If you have an object with a main method, or an object extending the trait `App`, then you can run the code in sbt easily by typing `run`. \n",
    "    - In case sbt finds multiple main methods, it will ask you which one you'd like to execute.\n",
    "\n",
    "- Specifically for this course, you can submit your work by using the command below in sbt shell\n",
    "    - `submit e-mail@university.org suBmISsioNPasSwoRd`\n",
    "\n",
    "- Alternatively, run this from command line\n",
    "    - `sbt \"submit e-mail@university.org suBmISsioNPasSwoRd\"`"
   ]
  },
  {
   "cell_type": "markdown",
   "metadata": {},
   "source": [
    "### Testing written Scala objects"
   ]
  },
  {
   "cell_type": "markdown",
   "metadata": {},
   "source": [
    "#### Using Scala Interpreter"
   ]
  },
  {
   "cell_type": "markdown",
   "metadata": {},
   "source": [
    "- Open scala interpreter\n",
    "- `import <proj_name>.<file_name>.*`\n",
    "- Use as per normal"
   ]
  },
  {
   "cell_type": "markdown",
   "metadata": {},
   "source": [
    "#### Using Main object"
   ]
  },
  {
   "cell_type": "markdown",
   "metadata": {},
   "source": [
    "- Create `main.scala` file\n",
    "- Add a `main` top level method as below:\n",
    "```scala\n",
    "    @main def run(): Unit =\n",
    "        println(Lists.max(List(1,3,2)))\n",
    "```\n",
    "- Then you can just invoke `run` in the sbt command line\n",
    "\n",
    "- Note that your `main.scala` file must contain the package name at the top (similar to Go)\n",
    "    - i.e. `package example`"
   ]
  },
  {
   "cell_type": "markdown",
   "metadata": {},
   "source": []
  }
 ],
 "metadata": {
  "language_info": {
   "name": "python"
  }
 },
 "nbformat": 4,
 "nbformat_minor": 2
}
