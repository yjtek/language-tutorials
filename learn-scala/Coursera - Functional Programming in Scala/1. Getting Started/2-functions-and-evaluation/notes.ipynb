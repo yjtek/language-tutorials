{
 "cells": [
  {
   "cell_type": "markdown",
   "metadata": {},
   "source": [
    "- Note that the purpose of this course is to teach functional programming, with Scala providing a good platform to put both functional and Object oriented programming in practise"
   ]
  },
  {
   "cell_type": "markdown",
   "metadata": {},
   "source": [
    "## Elements of Programming"
   ]
  },
  {
   "cell_type": "markdown",
   "metadata": {},
   "source": [
    "- All proper languages provide\n",
    "    1. Primitives - Representing simplest elements of the language (int, str)\n",
    "    2. Ways to combine expressions (add 2 numbers, concat 2 strings)\n",
    "    3. Ways to abstract expressions (name an expression and then we can refer to it by name)\n",
    "\n",
    "- A non-primitive expression is evaluated by:\n",
    "    - Take leftmost operator\n",
    "    - Evaluate its operands (left before right)\n",
    "    - Apply operator to operands"
   ]
  },
  {
   "cell_type": "markdown",
   "metadata": {},
   "source": [
    "- In scala, this is the general way of defining a function. Not too far from Python\n",
    "\n",
    "```scala\n",
    "    def square(x: Double): Double = x * x\n",
    "\n",
    "    def sumOfSquares(x: Double, y: Double): Double = square(x) + square(y)\n",
    "```"
   ]
  },
  {
   "cell_type": "markdown",
   "metadata": {},
   "source": [
    "- In Scala, primitives follow Java primitives\n",
    "    | Type | Description |\n",
    "    | --- | --- |\n",
    "    | Int | 32 bit ints |\n",
    "    | Long | 64 bit ints |\n",
    "    | Float | 32 bit floats |\n",
    "    | Double | 64 bit floats |\n",
    "    | Char | 16-bit unicode chars |\n",
    "    | Short | 16-bit integer |\n",
    "    | Byte | 8-bit integer |\n",
    "    | Boolean | true/false |"
   ]
  },
  {
   "cell_type": "markdown",
   "metadata": {},
   "source": [
    "### Evaluation Basics"
   ]
  },
  {
   "cell_type": "markdown",
   "metadata": {},
   "source": [
    "- General rules of evaluation\n",
    "    - A name is evaluated by replacing the RHS of its definition\n",
    "    - The evaluation process stops when it results in a value\n",
    "    - A value is a number (let's just assume this for now)\n",
    "\n",
    "- Evaluation of function applications (similar to evaluating operators)\n",
    "    - Evaluate all function arguments from left to right\n",
    "    - Replace the function application by the function's right hand side\n",
    "    - Replace the formal parameters of the function by actual arguments\n",
    "\n",
    "    - Example\n",
    "        - sumOfSquares(3, 2+2)\n",
    "        - sumOfSquares(3, 4)\n",
    "        - sumOfSquares(3, 4)\n",
    "        - square(3) + square(4)\n",
    "        - 3*3 + square(4)\n",
    "        - 9 + square(4)\n",
    "        - 9 + 4*4\n",
    "        - 9 + 16\n",
    "        - 25\n",
    "\n",
    "- Why is this important?\n",
    "    - This is known as the **substitution model**, and the idea is that all evaluation simply reduces an expression to a value\n",
    "    - As it turns out, we can express all algorithms using this model, so long as there are no side-effects (i.e. doesn't modify anything external to the function)\n",
    "    - Formally, this is known as **$\\lambda$-calculus**, which is the foundation for functional programming\n",
    "\n",
    "- Termination\n",
    "    - Does every expression reduce to a value in a finite number of steps?\n",
    "    - No\n",
    "    - `def loop: int = loop`\n",
    "\n",
    "- Is this the only evaluation strategy possible? For example, rather than reducing 2+2 to 4 immediately, can we just pass 2+2 downwards?\n",
    "    - Yes of course!\n",
    "        - sumOfSquares(3, 2+2)\n",
    "        - square(3) + square(2+2)\n",
    "        - 3*3 + square(2+2)\n",
    "        - 9 + square(2+2)\n",
    "        - 9 + (2+2)*(2+2)\n",
    "        - 9 + 4*4\n",
    "        - 9 + 16\n",
    "        - 25 \n",
    "    - Passing in the unevaluated expression is known as **call-by-name**, while the former example is a **call-by-value**\n",
    "    - Both strategies reach the same final value so long as the reduced expression consist of pure functions, and both evaluations terminate\n",
    "    - Pros vs Cons\n",
    "        - **call-by-name**: don't need to evaluate stuff that is not used in the function \n",
    "        - **call-by-value**: every function argument is evaluated only once"
   ]
  },
  {
   "cell_type": "markdown",
   "metadata": {},
   "source": [
    "- Pop Quiz: Suppose you are given the function below. For each of the following function application, which strategy is faster; call-by-name (CBN) or call-by-value (CBV)?\n",
    "    ```scala\n",
    "        def test(x: Int, y: Int) = x * x\n",
    "    ```\n",
    "\n",
    "    - `test(2,3)`\n",
    "        - Same. `Int` is a primitive, so no additional evaluation needed for either CBN/CBV\n",
    "    - `test(3+4, 8)`\n",
    "        - CBV; because you only need to evalute 3+4 once, vs twice is you CBN\n",
    "    - `test(7, 2*4)`\n",
    "        - CBN, because 2*4 is not evaluated in CBN\n",
    "    - `test(3+4, 2*4)`\n",
    "        - Same, because in CBV you save time evaluating 3+4 only once, but lose time by evaluated 2*4 which is not needed\n",
    "    "
   ]
  },
  {
   "cell_type": "markdown",
   "metadata": {},
   "source": [
    "### Evaluation Strategies and Termination"
   ]
  },
  {
   "cell_type": "markdown",
   "metadata": {},
   "source": [
    "- We talked about \"Call-By-Name\" and \"Call-By-Value\" in the previous section, and how they reduce to the same value so long as termination is guaranteed\n",
    "\n",
    "- But what if it is not?\n",
    "    - Then CBN is guaranteed to terminate if CBV terminates\n",
    "    - BUT the inverse is not true!!\n",
    "\n",
    "- Let's see an example where termination occurs in CBN but not CBV\n",
    "    ```scala\n",
    "        def first(x: Int, y: Int): Int = x\n",
    "\n",
    "        first(1, loop)\n",
    "    ```\n",
    "    - In CBN, `loop` is never evaluated, so it returns `x`. But in CBV, the program tries to evaluation `loop`, which never terminates\n",
    "\n",
    "- In Scala, CBV is the default, BUT it allows you to specify whether to CBV or CBN!!\n",
    "    ```scala\n",
    "        def constOne_callYByName(x: Int, y => Int): Int = 1\n",
    "\n",
    "        def constOne_callYByValue(x: Int, y: Int): Int = 1\n",
    "    ```\n",
    "    - In the first case, `=>` allows us to get Scala to call `y` by name!\n",
    "\n",
    "- Scala also supports delayed evaluation of variables that are evaluated only when used. This is called `lazy val`"
   ]
  },
  {
   "cell_type": "markdown",
   "metadata": {},
   "source": [
    "### Conditionals"
   ]
  },
  {
   "cell_type": "markdown",
   "metadata": {},
   "source": [
    "- Conditional Expressions: `if-else`\n",
    "    - This is similar to Java if-else, but works on expressions, not statements \n",
    "    - Actually the closest analogous expression from java would be `x >= 0 ? x: -x`\n",
    "    - Jargon: `x >= 0` in the function below is the **predicate** of type Boolean\n",
    "    ```scala\n",
    "        def abs(x: Int) = if x >= 0 then x else -x\n",
    "    ```\n",
    "\n",
    "- Boolean Expressions\n",
    "    - Can be composed of \n",
    "        ```scala\n",
    "            true false  // Constants\n",
    "            !b // Negation\n",
    "            b && b // Conjunction\n",
    "            b || b // Disjunction\n",
    "        ```\n",
    "    - Also has the usual comparison operators\n",
    "        - > < >= <= == !=\n",
    "    - Boolean expressions also have their own evaluation rules that come very close to Python\n",
    "        ```scala\n",
    "            !true // false\n",
    "            !false // true\n",
    "            true && e // e\n",
    "            false && e // false\n",
    "            true || e // true\n",
    "            false || e // e\n",
    "        ```\n",
    "    - Note that && and || do not always require the RHS to be evaluated\n",
    "        - That is, if you want `true || e`, it will return `true` without evaluating `e`\n",
    "        - this is known as **short circuit evaluation**"
   ]
  },
  {
   "cell_type": "markdown",
   "metadata": {},
   "source": [
    "### Value Definitions"
   ]
  },
  {
   "cell_type": "markdown",
   "metadata": {},
   "source": [
    "- Just as function parameters can be passed by value or by name, the same distinction applies for definitions!\n",
    "    - By name --> Use `def`\n",
    "        - RHS is evaluated on use\n",
    "    - By value --> use `val`\n",
    "        - e.g. `val x = square(2)`\n",
    "        - RHS is evaluated at the point of the definition\n",
    "\n",
    "- To be clear what the difference is, let's examine the case where the RHS does not terminate\n",
    "    ```scala\n",
    "        def loop: Boolean = loop\n",
    "\n",
    "        def x = loop // will work\n",
    "        val x = loop // infinite loop\n",
    "    ```"
   ]
  },
  {
   "cell_type": "markdown",
   "metadata": {},
   "source": [
    "- POP QUIZ: Implement functions `and` and `or` such that \n",
    "    ```scala\n",
    "        // and(x, y) == x && y\n",
    "        // or(x, y) == x || y\n",
    "\n",
    "        def and(x: Boolean, y => Boolean): Boolean = if x then y else false\n",
    "\n",
    "        def or(x: Boolean, y => Boolean): Boolean = if x then true else y\n",
    "    ```\n",
    "\n",
    "- We pass $y$ by name instead of value, to allow expression to short circuit (i.e. lazily evaluate y)"
   ]
  },
  {
   "cell_type": "markdown",
   "metadata": {},
   "source": [
    "### Exercise: Implement Square Root with Newton's Method"
   ]
  },
  {
   "cell_type": "markdown",
   "metadata": {},
   "source": [
    "- We define a function `sqrt` by implementing successive approximations using Newton's Method\n",
    "\n",
    "- Recap of Newton's Method: See your notes on Newton's Method under Mathematics"
   ]
  },
  {
   "cell_type": "markdown",
   "metadata": {},
   "source": [
    "```scala\n",
    "    def isGoodEnough(guess: Double, x: Double): Boolean =\n",
    "      math.abs(x - (guess*guess)) < 0.001\n",
    "\n",
    "    def isGoodEnoughPct(guess: Double, x: Double): Boolean =\n",
    "      math.abs(1 - x/(guess*guess)) < 0.01\n",
    "    \n",
    "    def improve(guess: Double, x: Double): Double = \n",
    "      0.5 * (guess + (x/guess))\n",
    "\n",
    "    def sqrtIter(guess: Double, x: Double): Double = //recursive functions need an explicit return type, optional for regular functions\n",
    "      if isGoodEnough(guess, x) then guess\n",
    "      else sqrtIter(improve(guess, x), x)\n",
    "\n",
    "    def sqrt(x: Double) = sqrtIter(1.0, x)\n",
    "```"
   ]
  },
  {
   "cell_type": "markdown",
   "metadata": {},
   "source": [
    "### Blocks and Lexical Scope"
   ]
  },
  {
   "cell_type": "markdown",
   "metadata": {},
   "source": [
    "- In the previous exercise"
   ]
  }
 ],
 "metadata": {
  "language_info": {
   "name": "python"
  }
 },
 "nbformat": 4,
 "nbformat_minor": 2
}
