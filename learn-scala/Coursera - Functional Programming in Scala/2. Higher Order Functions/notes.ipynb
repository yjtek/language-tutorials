{
 "cells": [
  {
   "cell_type": "markdown",
   "metadata": {},
   "source": [
    "## Higher Order Functions"
   ]
  },
  {
   "cell_type": "markdown",
   "metadata": {},
   "source": [
    "- Higher order functions are functions that accept another function as an argument, and return them as result\n",
    "    - Kind of like a decorator in Python\n",
    "\n",
    "- Like in Python, Scala treats function as **first-class values**\n",
    "    - This means that functions can be passed as a value, and returned as a result\n",
    "\n",
    "- This can give us some really flexible use cases, where we can compose higher order functions that take in functions as an input. \n",
    "\n",
    "- Imagine we have these functions below\n",
    "    ```scala\n",
    "        def sumDoubles(a: Int, b: Int): Int = \n",
    "          def double(a: Int): Int = {\n",
    "            2*a\n",
    "          }\n",
    "          if a > b then 0 else double(a) + sumDoubles(a+1, b)\n",
    "        \n",
    "        def sumCubes(a: Int, b: Int): Int = \n",
    "          def cube(x: Int): Int = {\n",
    "            x*x*x\n",
    "          }\n",
    "          if a > b then 0 else cube(a) + sumCubes(a+1, b)\n",
    "        \n",
    "        def sumFactorials(a: Int, b: Int): Int = \n",
    "          def factorial(x: Int): Int = {\n",
    "            if x == 0 then 1 else x * factorial(x-1)\n",
    "          }\n",
    "          if a > b then 0 else factorial(a) + sumFactorials(a+1, b)\n",
    "    ```\n",
    "\n",
    "- Thinking through the above, these are all generalisations of a common pattern:\n",
    "    $$\\begin{aligned}\n",
    "        \\sum_{n=a}^{b} f(n)\n",
    "    \\end{aligned}$$\n",
    "\n",
    "- So instead of implementing 3 different functions, why not just abstract the common pattern out?\n",
    "    ```scala\n",
    "        def double(a: Int): Int = {\n",
    "          2*a\n",
    "        }\n",
    "        \n",
    "        def cube(x: Int): Int = {\n",
    "          x*x*x\n",
    "        }\n",
    "\n",
    "        def factorial(x: Int): Int = {\n",
    "          if x == 0 then 1 else x * factorial(x-1)\n",
    "        }\n",
    "\n",
    "        def sumfunc(func: Int => Int, a: Int, b: Int): Int = {\n",
    "            if a > b then 0\n",
    "            else func(a) + sumfunc(func, a+1, b)\n",
    "        }\n",
    "\n",
    "        def sumfunc_With2Inputs(func: (Int, Int) => Int, a: Int, b: Int): Int = {\n",
    "            if a > b then 0\n",
    "            else func(a) + sumfunc(func, a+1, b)\n",
    "        }\n",
    "\n",
    "        def sumfunc_With2Inputs(func: (Int, Int) => Int, a: Int, b: Int): Int = {\n",
    "            if a > b then 0\n",
    "            else func(a) + sumfunc(func, a+1, b)\n",
    "        }\n",
    "    ```\n",
    "\n",
    "- The new notation here is `func: Int => Int`, which indicates that `func` accepts a function that maps an Int to another Int. \n",
    "    - We have also shown how to implement this with a function that takes 2 inputs"
   ]
  },
  {
   "cell_type": "markdown",
   "metadata": {},
   "source": [
    "### Anonymous Functions"
   ]
  },
  {
   "cell_type": "markdown",
   "metadata": {},
   "source": [
    "- For cases when you are passing functions into functions, you will almost certainly end up with many small functions, which causes problems because\n",
    "    - It pollutes your namespace\n",
    "    - It is **tedious** to write and maintain\n",
    "\n",
    "- Is there a way we can pass a function \"on-demand\" without naming it? Kind of like a lambda function in python?\n",
    "\n",
    "- Scala lets you do this too!\n",
    "    ```scala\n",
    "        (x: Int) => x * x * x // (parameter) => body\n",
    "        \n",
    "        // same thing\n",
    "        def cube(x: Int): Int = {\n",
    "          x*x*x\n",
    "        }\n",
    "    ```\n",
    "\n",
    "- So in fact, our earlier `sumfunc` can be used in a more concise way!!\n",
    "    ```scala\n",
    "        def sumCubes(a: Int, b: Int) = sumfunc(x => x*x*x, a, b)\n",
    "    ```"
   ]
  },
  {
   "cell_type": "markdown",
   "metadata": {},
   "source": [
    "### Exercise"
   ]
  },
  {
   "cell_type": "markdown",
   "metadata": {},
   "source": [
    "- The sum function uses linear recursion. Write a tail-recursive version by\n",
    "replacing the ???\n",
    "\n",
    "    ```scala\n",
    "        def sum(f: Int => Int, a: Int, b: Int): Int =\n",
    "          def loop(a: Int, acc: Int): Int =\n",
    "            if ??? then ???\n",
    "            else loop(???, ???)\n",
    "          loop(???, ???)\n",
    "    ```\n",
    "\n",
    "    ```scala\n",
    "        def sum(f: Int => Int, a: Int, b: Int): Int =\n",
    "          def loop(a: Int, acc: Int): Int =\n",
    "            if a > b then acc\n",
    "            else loop(a+1, acc+f(a))\n",
    "          loop(a, 0)\n",
    "    ```"
   ]
  },
  {
   "cell_type": "markdown",
   "metadata": {},
   "source": [
    "## Currying"
   ]
  },
  {
   "cell_type": "markdown",
   "metadata": {},
   "source": [
    "- From the section above, we talked about using lambda functions to compose multiple functions together\n",
    "    \n",
    "    ```scala\n",
    "        def sumfunc(func: Int => Int, a: Int, b: Int): Int = {\n",
    "          if a > b then 0\n",
    "          else func(a) + sumfunc(func, a+1, b)\n",
    "        }\n",
    "\n",
    "        def sumCubes(a: Int, b: Int) = sumfunc(x => x*x*x, a, b)\n",
    "    ```"
   ]
  },
  {
   "cell_type": "markdown",
   "metadata": {},
   "source": [
    "- This style presents some problems\n",
    "    - `a` and `b` are unused by `sumfunc` (directly, anyway)\n",
    "    - If we want to chain an arbtrary number of functions together, the syntax becomes unwieldy e.g. \n",
    "        ```scala \n",
    "            sumfunc(x => y => z => x*2*y*3*z, a, b)\n",
    "        ```"
   ]
  },
  {
   "cell_type": "markdown",
   "metadata": {},
   "source": [
    "- Let's do a little separation of concerns; we'll abstract `sumfunc` as a function that return a fuction\n",
    "    ```scala\n",
    "        def sumfunc(f: Int => Int): (Int, Int) => Int = {\n",
    "          def composedFunc(a: Int, b: Int): Int = {\n",
    "            if a > b then 0\n",
    "            else f(a) + composedFunc(a+1, b)\n",
    "          }\n",
    "          composedFunc\n",
    "        }\n",
    "    ```\n",
    "\n",
    "- By writing it this way, our `sumCubes` function can now be written as:\n",
    "    ```scala\n",
    "        def sumCubes = sumfunc(x => x * x * x)\n",
    "    ```"
   ]
  },
  {
   "cell_type": "markdown",
   "metadata": {},
   "source": [
    "- Yet, this approach still has problems, because we still need to define an intermediate function `sumCubes`!!\n",
    "    - This causes the namespace pollution we previously discussed\n",
    "\n",
    "- In actual fact, we can reduce the `sumfunc` definition even further by using a new syntax that Scala enables\n",
    "    ```scala\n",
    "        // takes in a function mapping Int => Int\n",
    "        // you can use this to create a partial function, without supplying `a` and `b`!\n",
    "        // i.e. val partialfunc = sum(func1); partialfunc(1,10)\n",
    "\n",
    "        def sum(f: Int => Int)(a: Int, b: Int): Int = {\n",
    "          if a > b then 0 else f(a) + sum(f)(a+1, b)\n",
    "        }\n",
    "    ```\n",
    "\n",
    "\n",
    "- This can actually be avoided, if we apply this syntax!\n",
    "    ```scala\n",
    "        sumfunc(cube)(1, 10)\n",
    "    ```\n",
    "\n",
    "- The main value of this syntax is that it allows you to create the equivalent of Python's `partial` function natively! That is, I could define a partial function, and reuse it!\n",
    "    ```scala\n",
    "        def sumFunc(f: Int => Int)(a: Int, b: Int, baseCase: Int): Int = {\n",
    "          def subFunc(a: Int, b: Int, baseCase: Int): Int = {\n",
    "            if a > b then baseCase\n",
    "            else f(a) + subFunc(a+1, b, baseCase)\n",
    "          }\n",
    "          subFunc\n",
    "        }\n",
    "    ```"
   ]
  },
  {
   "cell_type": "markdown",
   "metadata": {},
   "source": [
    "- QUIZ: Given the function below, what is the type of sum?\n",
    "    ```scala\n",
    "        def sum(f: Int => Int)(a: Int, b: Int): Int = ...\n",
    "    ```\n",
    "    - `sum` returns an Int eventually"
   ]
  },
  {
   "cell_type": "markdown",
   "metadata": {},
   "source": [
    "### Exercise"
   ]
  },
  {
   "cell_type": "markdown",
   "metadata": {},
   "source": [
    "- Write a `product` function that calculates the product of the values of a function for the points on a given interval\n",
    "\n",
    "- Write `factorial` in terms of `product`\n",
    "\n",
    "- Can you write a more general function, which generalizes both `sum`\n",
    "and `product`?"
   ]
  },
  {
   "cell_type": "markdown",
   "metadata": {},
   "source": [
    "```scala\n",
    "    def product(a: Int, b: Int): Int = {\n",
    "      var res = 1\n",
    "      for (i <- a to b) {\n",
    "        res = res * i\n",
    "      }\n",
    "      res\n",
    "    }\n",
    "\n",
    "    def productRecursive(f: Int => Int, a: Int, b: Int): Int = {\n",
    "      if a > b then 1\n",
    "      else f(a) * productRecursive(f, a+1, b)\n",
    "    }\n",
    "\n",
    "    def productCurry(f: Int => Int)(a: Int, b: Int): Int = {\n",
    "      if a > b then 1\n",
    "      else f(a) * productCurry(f)(a+1, b)\n",
    "    }\n",
    "\n",
    "    def mapReduce(valueFunc: Int => Int, combineFunc: (Int, Int) => Int, baseCase: Int)(a: Int, b: Int): Int = {\n",
    "      def recur(a: Int): Int = {\n",
    "        if a > b then baseCase\n",
    "        else combineFunc(valueFunc(a), recur(a+1))\n",
    "      }\n",
    "      recur(a)\n",
    "    }\n",
    "\n",
    "    def productMapReduce(f: Int => Int)(a: Int, b: Int) = {\n",
    "      mapReduce(f, _ * _, 1)(a, b)\n",
    "    }\n",
    "\n",
    "    def sumMapReduce(f: Int => Int)(a: Int, b: Int) = {\n",
    "      mapReduce(f, _ + _, 0)(a, b)\n",
    "    }\n",
    "\n",
    "    def factorial(x: Int): Int = {\n",
    "      // product(1, x)\n",
    "      // productRecursive(x => x, 1, x)\n",
    "      // productCurry(x => x)(1, x)\n",
    "      productMapReduce(x => x)(1, 10)\n",
    "    }\n",
    "\n",
    "```"
   ]
  },
  {
   "cell_type": "markdown",
   "metadata": {},
   "source": [
    "## Example of Higher Order Functions: Finding Fixed Point"
   ]
  },
  {
   "cell_type": "markdown",
   "metadata": {},
   "source": [
    "- A fixed point of a function occurs if $f(x) = x$\n",
    "    - For example, $\\sin(0) = 0$\n",
    "- For some functions, if we iteratively apply the function to an initial estimate, we will end up locating a fixed point! That is;\n",
    "    - start with random value $a$\n",
    "    - $f(a)$\n",
    "    - $f(f(a))$\n",
    "    - ...\n",
    "    - this sequence approaches $x$"
   ]
  },
  {
   "cell_type": "markdown",
   "metadata": {},
   "source": [
    "- Let's try first with this\n",
    "  ```scala\n",
    "    import scala.math.abs\n",
    "\n",
    "    val tolerance = 0.0001\n",
    "\n",
    "    def isCloseEnough(guess: Double, nextGuess: Double): Boolean = {\n",
    "      abs((nextGuess - guess) / guess) < tolerance\n",
    "    }\n",
    "\n",
    "    def getNextGuess(candidate: Double)(guess: Double): Double = {\n",
    "      candidate/guess\n",
    "    }\n",
    "\n",
    "    def getNextGuessDamping(candidate: Double)(guess: Double): Double = {\n",
    "      (guess + candidate/guess) / 2\n",
    "    }\n",
    "\n",
    "    def fixedPoint(getNextGuessFunc: Double => Double, isCloseEnough: (Double, Double) => Boolean)(firstGuess: Double): Double = {\n",
    "      def iterate(guess: Double): Double =\n",
    "        val nextGuess = getNextGuessFunc(guess)\n",
    "        println(guess + \"||\" + firstGuess + \"||\" + nextGuess)\n",
    "        if isCloseEnough(guess, nextGuess) then nextGuess\n",
    "        else iterate(nextGuess)\n",
    "      iterate(firstGuess)\n",
    "    }\n",
    "\n",
    "    @main def sqrt(x: Double) = {\n",
    "      // val res = fixedPoint(getNextGuess(x), isCloseEnough)(1.0)\n",
    "      val res = fixedPoint(getNextGuessDamping(x), isCloseEnough)(1.0)\n",
    "      println(res)\n",
    "    }\n",
    "  ```\n",
    "\n",
    "- This is all sensible, but we have a problem. The `getNextGuess` function for `candidate=2` will cycle between returning 2 and 1 and will never terminate!\n",
    "\n",
    "- To avoid this problem, we modify our candidate acquisition `getNextGuess` by taking an average of the current guess and the next guess! We'll call this `getNextGuessDamping`\n",
    "\n",
    "- As you can see, the abiliy to pass functions into other functions can give us the ability to do some remarkable things!"
   ]
  },
  {
   "cell_type": "code",
   "execution_count": null,
   "metadata": {
    "vscode": {
     "languageId": "plaintext"
    }
   },
   "outputs": [],
   "source": []
  }
 ],
 "metadata": {
  "language_info": {
   "name": "python"
  }
 },
 "nbformat": 4,
 "nbformat_minor": 2
}
