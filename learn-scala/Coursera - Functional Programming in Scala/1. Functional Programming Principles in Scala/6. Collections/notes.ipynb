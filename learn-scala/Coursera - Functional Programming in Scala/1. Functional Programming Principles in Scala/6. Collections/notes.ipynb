{
 "cells": [
  {
   "cell_type": "markdown",
   "metadata": {},
   "source": [
    "## Other Collections"
   ]
  },
  {
   "cell_type": "markdown",
   "metadata": {},
   "source": [
    "- So far we've been hyper-focused on `List()`\n",
    "\n",
    "- There are other collection objects in Scala that are closer in implementation to `list` in Python\n",
    "  - `Vector()` --> Faster random access, but slower prepend than list\n",
    "    - All operations are the same, with the exception of `::`, which is replaced by `x +: l` for prepend, and `l :+ x` for append\n",
    "\n",
    "- looking at the class inheritance for `Iterable` objects in Scala:\n",
    "  - Iterable\n",
    "    - Seq\n",
    "      - List\n",
    "      - Vector\n",
    "      - Range\n",
    "      - Array (*from Java)\n",
    "    - Set\n",
    "    - Map\n",
    "\n",
    "- Instead of the single `list` object you have in Python, you have 2 in Scala\n",
    "  - `List` --> Linked list for fast prepend\n",
    "  - `Vector` --> For fast access\n",
    "  - `Range` --> Syntactic sugar to define specific array of values \n",
    "\n",
    "- Also useful to note that `Array` isn't a direct descendent of `Seq` because it is a Java class, but it supports the same operations by and large"
   ]
  },
  {
   "cell_type": "markdown",
   "metadata": {},
   "source": [
    "### Using `Range`"
   ]
  },
  {
   "cell_type": "markdown",
   "metadata": {},
   "source": [
    "- This has kind of the same idea as python's `range`; i.e. `for i in range(20): ...`\n",
    "\n",
    "- But it is a little more expressive. You can do\n",
    "  - `1 to 5` --> [1,5]\n",
    "  - `1 until 5` --> [1,5)\n",
    "  - `1 to 5 by 2` --> [1,3,5]"
   ]
  },
  {
   "cell_type": "markdown",
   "metadata": {},
   "source": [
    "### All operations of `Seq`"
   ]
  },
  {
   "cell_type": "markdown",
   "metadata": {},
   "source": [
    "- Let s be some `Seq[T]` object of type \n",
    "\n",
    "- Then the following operations are valid:\n",
    "  - `s.exists(p)` -> p is of type `T => Boolean`. Returns `true` if at least one `p(x)` is `true` else `false`\n",
    "  - `s.forall(p)` -> p is of type `T => Boolean`. Returns `true` if all `p(x)` is `true` else `false`\n",
    "  - `s.zip(s2)` -> return `Seq[(T,T)]` of pairs from `s` and `s2`\n",
    "  - `s.unzip` -> The inverse of `s.zip(s2)`, will return 2 sequences where the first is element 0 of every pair, and the second is element 1 of every pair\n",
    "  - `s.flatMap(f)` -> Applies `f` to all elements of `s`\n",
    "  - `s.sum` -> s1 + s2 + ...\n",
    "  - `s.product` -> s1 * s2 * ...\n",
    "  - `s.max` -> max value\n",
    "  - `s.min` -> min value"
   ]
  },
  {
   "cell_type": "markdown",
   "metadata": {},
   "source": [
    "### Some illustrative applications"
   ]
  },
  {
   "cell_type": "markdown",
   "metadata": {},
   "source": [
    "- See `1-slides.scala`"
   ]
  },
  {
   "cell_type": "markdown",
   "metadata": {},
   "source": [
    "## `for` expressions"
   ]
  },
  {
   "cell_type": "markdown",
   "metadata": {},
   "source": [
    "- Like Python, Scala also has a `for` loop syntax. This is best illustrated with an example\n",
    "\n",
    "- Given a positive integer `n`, find all pairs of positive integers `i` and `j`, with `1 <= j < i < n` such that `i + j` is prime\n",
    "\n",
    "- Let's first get every combination of pairs, then check the primality of their sum. \n",
    "\n",
    "- We could implement this in the way we did this previously, using 2 `Range` objects\n",
    "  ```scala\n",
    "    def getAllPairs(n: Int): Seq[(Int, Int)] = {\n",
    "      (1 until n).flatMap(i =>\n",
    "        (1 until i).map(j =>\n",
    "          (i, j)\n",
    "        )\n",
    "      )\n",
    "    }\n",
    "  ```\n",
    "\n",
    "- Next, assuming we have `allPairs: Seq[(Int, Int)]`, we filter out the pairs that add to a prime. For simplicity, let's reuse the `isPrime` function we wrote in `1-slides.scala`\n",
    "  ```scala\n",
    "    def isPrime(x: Int): Boolean = {\n",
    "      val upper = Math.floor(Math.sqrt(x)).toInt\n",
    "      (2 to upper).forall(v => ((x % v)!= 0))\n",
    "    }\n",
    "\n",
    "    allPairs.filter((x,y) => isPrime(x + y))\n",
    "  ```\n",
    "\n",
    "- This is not ideal because the work is spread over a few functions. But we can actually apply a more straightforward `for` syntax!\n",
    "  ```scala\n",
    "    for \n",
    "      i <- 1 until n\n",
    "      j <- 1 until i\n",
    "      if isPrime(i+j)\n",
    "    yield (i,j)\n",
    "  ```"
   ]
  },
  {
   "cell_type": "markdown",
   "metadata": {},
   "source": [
    "### Exercise"
   ]
  },
  {
   "cell_type": "markdown",
   "metadata": {},
   "source": [
    "- Write a version of scalarProduct (see last session) that makes use of a `for`:\n",
    "  ```scala\n",
    "    def scalarProduct(xs: List[Double], ys: List[Double]) : Double = ???\n",
    "  ```\n",
    "\n",
    "- What will the following produce?\n",
    "  ```scala\n",
    "    (for x <- xs; y <- ys yield x * y).sum\n",
    "  ```"
   ]
  },
  {
   "cell_type": "markdown",
   "metadata": {},
   "source": [
    "- See `2-slides.scala`"
   ]
  },
  {
   "cell_type": "markdown",
   "metadata": {},
   "source": [
    "## Sets"
   ]
  },
  {
   "cell_type": "markdown",
   "metadata": {},
   "source": [
    "- Sets are another subclass of `Seq`\n",
    "\n",
    "- Similar to Python, `Set` holds distinct values, and are unordered\n",
    "\n",
    "- The underlying structure is a `Hashset`, so `Set` is mainly used when there is a need to do `.contains()` operation in `O(1)`\n",
    "\n",
    "- We'll see how to apply `Set` in the following examples"
   ]
  },
  {
   "cell_type": "markdown",
   "metadata": {},
   "source": [
    "### Example: N-Queens"
   ]
  },
  {
   "cell_type": "markdown",
   "metadata": {},
   "source": [
    "- This is Leetcode 51 problem\n",
    "\n",
    "- See `3-slides.scala` for implementation\n",
    "\n",
    "- See your Leetcode 51 solution for full explanation"
   ]
  },
  {
   "cell_type": "markdown",
   "metadata": {},
   "source": [
    "## Maps and list grouping"
   ]
  },
  {
   "cell_type": "markdown",
   "metadata": {},
   "source": [
    "### Maps"
   ]
  },
  {
   "cell_type": "markdown",
   "metadata": {},
   "source": [
    "- `Map` is the Scala implementation of hashmaps\n",
    "\n",
    "- `Map` is a subclass of `Iterable`, and a map is basically some collection of tuples `Iterable[(String, Int)]`\n",
    "\n",
    "- This makes it possible to map function over Hashmaps (similar to python's dict.items()) in this way:\n",
    "  \n",
    "  ```scala\n",
    "    val hm = Map(\"a\" -> 1, \"b\" -> 2, \"c\" -> 3)\n",
    "    hm.map((k,v) => (v, k)) //inverting the hashmap\n",
    "  ```\n",
    "\n",
    "- Similar to Python, there are 2 main ways to retrieve a value from a hashmap; via bracket notation or using \"get\"\n",
    "  ```scala\n",
    "    val hm = Map(\"a\" -> 1, \"b\" -> 2, \"c\" -> 3)\n",
    "\n",
    "    hm(\"a\") //1\n",
    "    hm.get(\"a\") //1\n",
    "  ```\n",
    "\n",
    "- One gotcha here\n",
    "  - Similar to Python, if you use brackets to retrieve a key and it doesn't exist, you get an error. \n",
    "  - Again, similar to python, if you use `get` to retrieve a key and it doesn't exist, you get `None`\n",
    "  - In Scala, you cannot specify a custom return value for `get`. So `get` ALWAYS returns None if the key doesn't exist\n",
    "  - If you want to specify a custom return value, you can use the following syntax \n",
    "\n",
    "  ```scala\n",
    "    val hm = Map(1 -> 100, 2 -> 200).withDefault(k => k*100)\n",
    "\n",
    "    hm(3) //300\n",
    "    hm.get(3) //None\n",
    "  ```"
   ]
  },
  {
   "cell_type": "markdown",
   "metadata": {},
   "source": [
    "- Another important difference between bracket notation and the `get` function is: if the key exists, the bracket notation's return type follows the key's type. However, `get` will return a `Some(ValueType)` type, where `ValueType` is the type of the value in the hashmap\n",
    "\n",
    "- This is important, because there will be times when overriding the default return behaviour becomes super important. You can do this via the usual `match...case...` syntax, where the return type is of the superclass of `Some` and `None` called **`Option`**"
   ]
  },
  {
   "cell_type": "markdown",
   "metadata": {},
   "source": [
    "- To update a map, you can use either `+` or `++`\n",
    "\n",
    "```scala\n",
    "  val m = Map(1 -> 100, 2 -> 200)\n",
    "\n",
    "  m + (3 -> 300) //add a new value to map\n",
    "  m + (2 -> 300) //override existing value in map\n",
    "\n",
    "  m ++ Map(3 -> 300, 2 -> 400) //combine 2 maps\n",
    "```"
   ]
  },
  {
   "cell_type": "markdown",
   "metadata": {},
   "source": [
    "### Sorting and Grouping Lists"
   ]
  },
  {
   "cell_type": "markdown",
   "metadata": {},
   "source": [
    "- In Scala, `List` is kinda like a DataFrame, in the sense that you can sort and/or group a `List`\n",
    "\n",
    "- Sorting is self explanatory; but grouping just means you create a `Map` from the `List` such that every key is a result of a user defined function `f()`, and the values for that key are the values in the original List that share the same result of `f()`\n",
    "\n",
    "  ```scala\n",
    "    val l = List(10,1,2,3,4,5)\n",
    "    \n",
    "    l.sorted //List(1,2,3,4,5,10)\n",
    "    l.sortWith(_ < _)\n",
    "\n",
    "    l.groupBy(x => x % 2)\n",
    "  ```"
   ]
  },
  {
   "cell_type": "markdown",
   "metadata": {},
   "source": [
    "### Exercise"
   ]
  },
  {
   "cell_type": "markdown",
   "metadata": {},
   "source": [
    "- To apply these concepts, we'll define a class `Polynomial` that lets us to polynomial addition easily\n",
    "\n",
    "- Start by observing that any arbitrary polynomial can be represented as a `Map`, where the keys are the polynomial degrees, and values are the polynomial coefficients\n",
    "\n",
    "- Concept: Note that when inputs are variable length, you can use `*` to represent them\n",
    "  ```scala\n",
    "    def Polynom(bindings: (Int, Double)*) = ???\n",
    "  ```\n",
    "\n",
    "- What if you have multiple variable length inputs? There are 2 solutions\n",
    "  ```scala\n",
    "    // Use collection of Seq as input\n",
    "    def Polynom(bindings1: Seq[(Int, Double)], bindings2: Seq[(Int, Double)]) = ???\n",
    "\n",
    "    // Use separate parameter lists\n",
    "    def Polynom(bindings: (Int, Double)*)(bindings2: (Int, Double)*) = ???\n",
    "  ```\n",
    "\n",
    "- See `4-slides.scala` for implementation"
   ]
  },
  {
   "cell_type": "markdown",
   "metadata": {},
   "source": [
    "### Exercise 2"
   ]
  },
  {
   "cell_type": "markdown",
   "metadata": {},
   "source": [
    "- Apply the `+` function using `foldLeft` \n",
    "\n",
    "- Interestingly, the foldLeft can be considered faster, because ++ requires you to build up an intermediate map, while foldLeft modifies in place"
   ]
  },
  {
   "cell_type": "markdown",
   "metadata": {},
   "source": [
    "## Mini Project: Implement String Encoding"
   ]
  },
  {
   "cell_type": "markdown",
   "metadata": {},
   "source": [
    "- In the old timey phones, you have letters associated with numbers (i.e. 2 -> \"ABC\", 3 -> \"DEF\")\n",
    "\n",
    "- In this project, you want to create a way to encode a fixed bunch of strings into a Map\n",
    "\n",
    "- Then, when given some sequence of numbers, you want to return all possible strings that can be generated from that number sequence\n",
    "  - For example, we encode \"scala\" as \"82252\"\n",
    "  - then when given 82252, return \"scala\" as a possible string candidate\n",
    "\n"
   ]
  },
  {
   "cell_type": "markdown",
   "metadata": {},
   "source": [
    "- See `5-slides.scala`"
   ]
  },
  {
   "cell_type": "markdown",
   "metadata": {},
   "source": [
    "## Assignment"
   ]
  },
  {
   "cell_type": "markdown",
   "metadata": {},
   "source": [
    "- Objective: To produce `sentenceAnagrams` where given `List[String]`, produce another `List[String]` where every `String` is meaningful (i.e. is an actual word), and the characters match the input sentence exactly\n",
    "\n",
    "- Predefined Approach\n",
    "  - 3 data types\n",
    "    - Word = String\n",
    "    - Sentence = List[Word]\n",
    "    - Occurrences = List[(Char, Int)]\n",
    "  - Preloaded object\n",
    "    - dictionary: List[Word] \n",
    "  - Steps\n",
    "    1. Given a word compute the character occurences of the word. Using this, given a sentence, define the character occurences of the sentence\n",
    "      \n",
    "    2. Group the `Occurences` from `sentenceOccurences` \n",
    "    \n",
    "    3. Compute sentence anagrams. Two sentences are anagrams if their `sentOccs` are the same. Don't need to worry about ordering because `sentOccs` is returned as a sorted List. Basically, we need two functions. \n",
    "    \n",
    "      - One to create `dictionaryByOccurences` which takes every word in the dictionary, calls `wordOccurences`, and stores the `Occurences`. Then, do a groupBy to group all words with the same `Occurences` value together      \n",
    "\n",
    "      - The other will create `wordAnagrams` function, which will look up `dictionaryByOccurences` to get the anagram of a given word (using occurences as the key)\n",
    "\n",
    "    4. Compute subsets of `Occurrences`. That is, given `Occurrences = List((\"a\", 2), (\"b\", 2))`, you want to generate all possible combinations of the given character sets as follows:\n",
    "    \n",
    "    5. Implement `subtract` to take away counts between 2 occurences. So List(('a',2), ('b',2)) - List(('a',1)) = List(('a',1),('b',2))\n",
    "\n",
    "    6. Putting these together, we can recursively find all anagrams of a sentence\n",
    "      - Convert sentence to Occurences\n",
    "      - Suppose we have `val test = List(('x', x), ('y', y), ...)`\n",
    "      - Decompose into head :: tail\n",
    "      - ('x', x) can take on any value from ('x', 1) to ('x', x). Call this `head`\n",
    "      - Take `subtract(test, head)`\n",
    "      - Then recursively call anagram on the subtracted `Occurrences`\n"
   ]
  },
  {
   "cell_type": "markdown",
   "metadata": {},
   "source": []
  }
 ],
 "metadata": {
  "language_info": {
   "name": "python"
  }
 },
 "nbformat": 4,
 "nbformat_minor": 2
}
