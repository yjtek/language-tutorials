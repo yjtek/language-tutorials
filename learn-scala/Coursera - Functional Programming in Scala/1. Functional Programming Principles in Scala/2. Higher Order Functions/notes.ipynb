{
 "cells": [
  {
   "cell_type": "markdown",
   "metadata": {},
   "source": [
    "## 1. Higher Order Functions"
   ]
  },
  {
   "cell_type": "markdown",
   "metadata": {},
   "source": [
    "- Higher order functions are functions that accept another function as an argument, and return them as result\n",
    "    - Kind of like a decorator in Python\n",
    "\n",
    "- Like in Python, Scala treats function as **first-class values**\n",
    "    - This means that functions can be passed as a value, and returned as a result\n",
    "\n",
    "- This can give us some really flexible use cases, where we can compose higher order functions that take in functions as an input. \n",
    "\n",
    "- Imagine we have these functions below\n",
    "    ```scala\n",
    "        def sumDoubles(a: Int, b: Int): Int = \n",
    "          def double(a: Int): Int = {\n",
    "            2*a\n",
    "          }\n",
    "          if a > b then 0 else double(a) + sumDoubles(a+1, b)\n",
    "        \n",
    "        def sumCubes(a: Int, b: Int): Int = \n",
    "          def cube(x: Int): Int = {\n",
    "            x*x*x\n",
    "          }\n",
    "          if a > b then 0 else cube(a) + sumCubes(a+1, b)\n",
    "        \n",
    "        def sumFactorials(a: Int, b: Int): Int = \n",
    "          def factorial(x: Int): Int = {\n",
    "            if x == 0 then 1 else x * factorial(x-1)\n",
    "          }\n",
    "          if a > b then 0 else factorial(a) + sumFactorials(a+1, b)\n",
    "    ```\n",
    "\n",
    "- Thinking through the above, these are all generalisations of a common pattern:\n",
    "    $$\\begin{aligned}\n",
    "        \\sum_{n=a}^{b} f(n)\n",
    "    \\end{aligned}$$\n",
    "\n",
    "- So instead of implementing 3 different functions, why not just abstract the common pattern out?\n",
    "    ```scala\n",
    "        def double(a: Int): Int = {\n",
    "          2*a\n",
    "        }\n",
    "        \n",
    "        def cube(x: Int): Int = {\n",
    "          x*x*x\n",
    "        }\n",
    "\n",
    "        def factorial(x: Int): Int = {\n",
    "          if x == 0 then 1 else x * factorial(x-1)\n",
    "        }\n",
    "\n",
    "        def sumfunc(func: Int => Int, a: Int, b: Int): Int = {\n",
    "            if a > b then 0\n",
    "            else func(a) + sumfunc(func, a+1, b)\n",
    "        }\n",
    "\n",
    "        def sumfunc_With2Inputs(func: (Int, Int) => Int, a: Int, b: Int): Int = {\n",
    "            if a > b then 0\n",
    "            else func(a) + sumfunc(func, a+1, b)\n",
    "        }\n",
    "\n",
    "        def sumfunc_With2Inputs(func: (Int, Int) => Int, a: Int, b: Int): Int = {\n",
    "            if a > b then 0\n",
    "            else func(a) + sumfunc(func, a+1, b)\n",
    "        }\n",
    "    ```\n",
    "\n",
    "- The new notation here is `func: Int => Int`, which indicates that `func` accepts a function that maps an Int to another Int. \n",
    "    - We have also shown how to implement this with a function that takes 2 inputs"
   ]
  },
  {
   "cell_type": "markdown",
   "metadata": {},
   "source": [
    "### Anonymous Functions"
   ]
  },
  {
   "cell_type": "markdown",
   "metadata": {},
   "source": [
    "- For cases when you are passing functions into functions, you will almost certainly end up with many small functions, which causes problems because\n",
    "    - It pollutes your namespace\n",
    "    - It is **tedious** to write and maintain\n",
    "\n",
    "- Is there a way we can pass a function \"on-demand\" without naming it? Kind of like a lambda function in python?\n",
    "\n",
    "- Scala lets you do this too!\n",
    "    ```scala\n",
    "        (x: Int) => x * x * x // (parameter) => body\n",
    "        \n",
    "        // same thing\n",
    "        def cube(x: Int): Int = {\n",
    "          x*x*x\n",
    "        }\n",
    "    ```\n",
    "\n",
    "- So in fact, our earlier `sumfunc` can be used in a more concise way!!\n",
    "    ```scala\n",
    "        def sumCubes(a: Int, b: Int) = sumfunc(x => x*x*x, a, b)\n",
    "    ```"
   ]
  },
  {
   "cell_type": "markdown",
   "metadata": {},
   "source": [
    "### Exercise"
   ]
  },
  {
   "cell_type": "markdown",
   "metadata": {},
   "source": [
    "- The sum function uses linear recursion. Write a tail-recursive version by\n",
    "replacing the ???\n",
    "\n",
    "    ```scala\n",
    "        def sum(f: Int => Int, a: Int, b: Int): Int =\n",
    "          def loop(a: Int, acc: Int): Int =\n",
    "            if ??? then ???\n",
    "            else loop(???, ???)\n",
    "          loop(???, ???)\n",
    "    ```\n",
    "\n",
    "    ```scala\n",
    "        def sum(f: Int => Int, a: Int, b: Int): Int =\n",
    "          def loop(a: Int, acc: Int): Int =\n",
    "            if a > b then acc\n",
    "            else loop(a+1, acc+f(a))\n",
    "          loop(a, 0)\n",
    "    ```"
   ]
  },
  {
   "cell_type": "markdown",
   "metadata": {},
   "source": [
    "## 2. Currying"
   ]
  },
  {
   "cell_type": "markdown",
   "metadata": {},
   "source": [
    "- From the section above, we talked about using lambda functions to compose multiple functions together\n",
    "    \n",
    "    ```scala\n",
    "        def sumfunc(func: Int => Int, a: Int, b: Int): Int = {\n",
    "          if a > b then 0\n",
    "          else func(a) + sumfunc(func, a+1, b)\n",
    "        }\n",
    "\n",
    "        def sumCubes(a: Int, b: Int) = sumfunc(x => x*x*x, a, b)\n",
    "    ```"
   ]
  },
  {
   "cell_type": "markdown",
   "metadata": {},
   "source": [
    "- This style presents some problems\n",
    "    - `a` and `b` are unused by `sumfunc` (directly, anyway)\n",
    "    - If we want to chain an arbtrary number of functions together, the syntax becomes unwieldy e.g. \n",
    "        ```scala \n",
    "            sumfunc(x => y => z => x*2*y*3*z, a, b)\n",
    "        ```"
   ]
  },
  {
   "cell_type": "markdown",
   "metadata": {},
   "source": [
    "- Let's do a little separation of concerns; we'll abstract `sumfunc` as a function that return a fuction\n",
    "    ```scala\n",
    "        def sumfunc(f: Int => Int): (Int, Int) => Int = {\n",
    "          def composedFunc(a: Int, b: Int): Int = {\n",
    "            if a > b then 0\n",
    "            else f(a) + composedFunc(a+1, b)\n",
    "          }\n",
    "          composedFunc\n",
    "        }\n",
    "    ```\n",
    "\n",
    "- By writing it this way, our `sumCubes` function can now be written as:\n",
    "    ```scala\n",
    "        def sumCubes = sumfunc(x => x * x * x)\n",
    "    ```"
   ]
  },
  {
   "cell_type": "markdown",
   "metadata": {},
   "source": [
    "- Yet, this approach still has problems, because we still need to define an intermediate function `sumCubes`!!\n",
    "    - This causes the namespace pollution we previously discussed\n",
    "\n",
    "- In actual fact, we can reduce the `sumfunc` definition even further by using a new syntax that Scala enables\n",
    "    ```scala\n",
    "        // takes in a function mapping Int => Int\n",
    "        // you can use this to create a partial function, without supplying `a` and `b`!\n",
    "        // i.e. val partialfunc = sum(func1); partialfunc(1,10)\n",
    "\n",
    "        def sum(f: Int => Int)(a: Int, b: Int): Int = {\n",
    "          if a > b then 0 else f(a) + sum(f)(a+1, b)\n",
    "        }\n",
    "    ```\n",
    "\n",
    "\n",
    "- This can actually be avoided, if we apply this syntax!\n",
    "    ```scala\n",
    "        sumfunc(cube)(1, 10)\n",
    "    ```\n",
    "\n",
    "- The main value of this syntax is that it allows you to create the equivalent of Python's `partial` function natively! That is, I could define a partial function, and reuse it!\n",
    "    ```scala\n",
    "        def sumFunc(f: Int => Int)(a: Int, b: Int, baseCase: Int): Int = {\n",
    "          def subFunc(a: Int, b: Int, baseCase: Int): Int = {\n",
    "            if a > b then baseCase\n",
    "            else f(a) + subFunc(a+1, b, baseCase)\n",
    "          }\n",
    "          subFunc\n",
    "        }\n",
    "    ```"
   ]
  },
  {
   "cell_type": "markdown",
   "metadata": {},
   "source": [
    "- QUIZ: Given the function below, what is the type of sum?\n",
    "    ```scala\n",
    "        def sum(f: Int => Int)(a: Int, b: Int): Int = ...\n",
    "    ```\n",
    "    - `sum` returns an Int eventually"
   ]
  },
  {
   "cell_type": "markdown",
   "metadata": {},
   "source": [
    "### Exercise"
   ]
  },
  {
   "cell_type": "markdown",
   "metadata": {},
   "source": [
    "- Write a `product` function that calculates the product of the values of a function for the points on a given interval\n",
    "\n",
    "- Write `factorial` in terms of `product`\n",
    "\n",
    "- Can you write a more general function, which generalizes both `sum`\n",
    "and `product`?"
   ]
  },
  {
   "cell_type": "markdown",
   "metadata": {},
   "source": [
    "```scala\n",
    "    def product(a: Int, b: Int): Int = {\n",
    "      var res = 1\n",
    "      for (i <- a to b) {\n",
    "        res = res * i\n",
    "      }\n",
    "      res\n",
    "    }\n",
    "\n",
    "    def productRecursive(f: Int => Int, a: Int, b: Int): Int = {\n",
    "      if a > b then 1\n",
    "      else f(a) * productRecursive(f, a+1, b)\n",
    "    }\n",
    "\n",
    "    def productCurry(f: Int => Int)(a: Int, b: Int): Int = {\n",
    "      if a > b then 1\n",
    "      else f(a) * productCurry(f)(a+1, b)\n",
    "    }\n",
    "\n",
    "    def mapReduce(valueFunc: Int => Int, combineFunc: (Int, Int) => Int, baseCase: Int)(a: Int, b: Int): Int = {\n",
    "      def recur(a: Int): Int = {\n",
    "        if a > b then baseCase\n",
    "        else combineFunc(valueFunc(a), recur(a+1))\n",
    "      }\n",
    "      recur(a)\n",
    "    }\n",
    "\n",
    "    def productMapReduce(f: Int => Int)(a: Int, b: Int) = {\n",
    "      mapReduce(f, _ * _, 1)(a, b)\n",
    "    }\n",
    "\n",
    "    def sumMapReduce(f: Int => Int)(a: Int, b: Int) = {\n",
    "      mapReduce(f, _ + _, 0)(a, b)\n",
    "    }\n",
    "\n",
    "    def factorial(x: Int): Int = {\n",
    "      // product(1, x)\n",
    "      // productRecursive(x => x, 1, x)\n",
    "      // productCurry(x => x)(1, x)\n",
    "      productMapReduce(x => x)(1, 10)\n",
    "    }\n",
    "\n",
    "```"
   ]
  },
  {
   "cell_type": "markdown",
   "metadata": {},
   "source": [
    "## 3. Example of Higher Order Functions: Finding Fixed Point"
   ]
  },
  {
   "cell_type": "markdown",
   "metadata": {},
   "source": [
    "- A fixed point of a function occurs if $f(x) = x$\n",
    "    - For example, $\\sin(0) = 0$\n",
    "- For some functions, if we iteratively apply the function to an initial estimate, we will end up locating a fixed point! That is;\n",
    "    - start with random value $a$\n",
    "    - $f(a)$\n",
    "    - $f(f(a))$\n",
    "    - ...\n",
    "    - this sequence approaches $x$"
   ]
  },
  {
   "cell_type": "markdown",
   "metadata": {},
   "source": [
    "- Let's try first with this\n",
    "  ```scala\n",
    "    import scala.math.abs\n",
    "\n",
    "    val tolerance = 0.0001\n",
    "\n",
    "    def isCloseEnough(guess: Double, nextGuess: Double): Boolean = {\n",
    "      abs((nextGuess - guess) / guess) < tolerance\n",
    "    }\n",
    "\n",
    "    def getNextGuess(candidate: Double)(guess: Double): Double = {\n",
    "      candidate/guess\n",
    "    }\n",
    "\n",
    "    def getNextGuessDamping(candidate: Double)(guess: Double): Double = {\n",
    "      (guess + candidate/guess) / 2\n",
    "    }\n",
    "\n",
    "    def fixedPoint(getNextGuessFunc: Double => Double, isCloseEnough: (Double, Double) => Boolean)(firstGuess: Double): Double = {\n",
    "      def iterate(guess: Double): Double =\n",
    "        val nextGuess = getNextGuessFunc(guess)\n",
    "        println(guess + \"||\" + firstGuess + \"||\" + nextGuess)\n",
    "        if isCloseEnough(guess, nextGuess) then nextGuess\n",
    "        else iterate(nextGuess)\n",
    "      iterate(firstGuess)\n",
    "    }\n",
    "\n",
    "    @main def sqrt(x: Double) = {\n",
    "      // val res = fixedPoint(getNextGuess(x), isCloseEnough)(1.0)\n",
    "      val res = fixedPoint(getNextGuessDamping(x), isCloseEnough)(1.0)\n",
    "      println(res)\n",
    "    }\n",
    "  ```\n",
    "\n",
    "- This is all sensible, but we have a problem. The `getNextGuess` function for `candidate=2` will cycle between returning 2 and 1 and will never terminate!\n",
    "\n",
    "- To avoid this problem, we modify our candidate acquisition `getNextGuess` by taking an average of the current guess and the next guess! We'll call this `getNextGuessDamping`\n",
    "\n",
    "- As you can see, the abiliy to pass functions into other functions can give us the ability to do some remarkable things!"
   ]
  },
  {
   "cell_type": "markdown",
   "metadata": {},
   "source": [
    "## 5. Functions and Data"
   ]
  },
  {
   "cell_type": "markdown",
   "metadata": {},
   "source": [
    "- Just as data objects are often expressed as `class` in Python, Scala offers the same notion of a `class`\n",
    "\n",
    "- In this section, we'll design a package for doing arithmetic for rational numbers  \n",
    "\n",
    "- Intuitively, the first thing we want to define is a class `Rational` that allows us to define a rational number. What happens when we don't? We end up with some really ugly function signatures\n",
    "    ```scala\n",
    "      def addRationalNumerator(n1: Int, d1: Int, n2: Int, d2: Int): Int = ...\n",
    "      def addRationalDenominator(n1: Int, d1: Int, n2: Int, d2: Int): Int = ...\n",
    "    ```\n",
    "\n",
    "- Defining the `Rational` class. In Scala this does 2 things; creates a new **type** that you can use, and creates a new **constructor** for objects of this type\n",
    "    ```scala\n",
    "      class Rational(x: Int, y: Int):\n",
    "        def numerator = x\n",
    "        def denominator = y\n",
    "    ```\n",
    "\n",
    "- All elements that are defined by `class` are **objects**. \n",
    "  - An object can simply be created by calling the constructor of this class. \n",
    "  - We can access **members** (aka attributes) of the class by using the `.` operator\n",
    "    ```scala\n",
    "      val x = Rational(1,2)\n",
    "      x.numerator // 1\n",
    "      x.denominator // 2\n",
    "    ```\n",
    "\n",
    "- Having defined the `Rational` class, we can more easily implement functions that operate on objects of this class;\n",
    "    ```scala\n",
    "      def addRational(r1: Rational, r2: Rational): Rational = {\n",
    "        Rational(\n",
    "          (r1.numerator * r2.denominator) + (r2.numerator * r1.denominator),\n",
    "          r1.denominator * r2.denominator\n",
    "        )\n",
    "      }\n",
    "\n",
    "      def makeString(r: Rational): String = {\n",
    "        s\"${r.numerator}/${r.denominator}\" //string interpolation, similar to f-string in Python\n",
    "      }\n",
    "    ```\n",
    "\n",
    "- In fact, to better group functions together, we can actually add them to the class directly. When added this way, functions become class `method`s\n",
    "    ```scala\n",
    "      class Rational(x: Int, y: Int):\n",
    "        def numerator = x\n",
    "        def denominator = y\n",
    "\n",
    "        def add(r: Rational) = {\n",
    "          Rational(\n",
    "            (numerator * r.denominator) + (r.numerator * denominator),\n",
    "            denominator * r.denominator\n",
    "          )\n",
    "        }\n",
    "\n",
    "        def multiply(r: Rational) = {\n",
    "          Rational(\n",
    "            numerator * r.numerator,\n",
    "            denominator * r.denominator\n",
    "          )\n",
    "        }\n",
    "\n",
    "        override def toString = s\"${numerator}/${denominator}\"\n",
    "\n",
    "        val x = Rational(1,3)\n",
    "        val y = Rational(5,7)\n",
    "        val z = Rational(3,2)\n",
    "\n",
    "        x.add(y).multiply(z)\n",
    "    ```\n"
   ]
  },
  {
   "cell_type": "markdown",
   "metadata": {},
   "source": [
    "## 6. Data Abstraction"
   ]
  },
  {
   "cell_type": "markdown",
   "metadata": {},
   "source": [
    "- In this segment, let's try to extend the `Rational` class we wrote in the last section"
   ]
  },
  {
   "cell_type": "markdown",
   "metadata": {},
   "source": [
    "### Adding a private method within a class"
   ]
  },
  {
   "cell_type": "markdown",
   "metadata": {},
   "source": [
    "- You may have noticed that in the previous `Rational` implementation, we do not return the normalised rational number. That is, 10/6 is returned as is, not as 5/3\n",
    "\n",
    "- Let's try adding this by dividing the numerator and denominator by their greatest common divisor `gcd`\n",
    "  ```scala\n",
    "    class Rational(x: Int, y: Int):\n",
    "      private def gcd(x: Int, y: Int): Int = {\n",
    "        if y == 0 then x\n",
    "        else gcd(y, x % y)\n",
    "      }\n",
    "\n",
    "      private var gcdVal: Int = gcd(x, y)\n",
    "\n",
    "      // def numerator: Int = x /gcdVal\n",
    "      // def denominator: Int = y / gcdVal\n",
    "      val numerator: Int = x /gcdVal\n",
    "      val denominator: Int = y / gcdVal\n",
    "\n",
    "      override def toString() = {\n",
    "        s\"${numerator}/${denominator}\"\n",
    "      }\n",
    "  ```\n",
    "\n",
    "- Notice a few things \n",
    "  - `gcd()` method is marked with a `private`, which blocks it from being used outside the class. Similar to Java!\n",
    "\n",
    "  - `numerator` and `denominator` are changed from `def` to `val`. This is because `val` is evaluated only once, but `def` is evaluated each time it is called!"
   ]
  },
  {
   "cell_type": "markdown",
   "metadata": {},
   "source": [
    "### Self Reference"
   ]
  },
  {
   "cell_type": "markdown",
   "metadata": {},
   "source": [
    "- Similar to how a Python class allows you to reference a class method by using the keyword `self`, Scala lets you reference its own functions/attributes using the `this` keyword\n",
    "\n",
    "  ```scala\n",
    "    class Rational(x: Int, y: Int):\n",
    "      private def gcd(x: Int, y: Int): Int = {\n",
    "        if y == 0 then x\n",
    "        else gcd(y, x % y)\n",
    "      }\n",
    "\n",
    "      private var gcdVal: Int = gcd(x, y)\n",
    "\n",
    "      // def numerator: Int = x /gcdVal\n",
    "      // def denominator: Int = y / gcdVal\n",
    "      val numerator: Int = x /gcdVal\n",
    "      val denominator: Int = y / gcdVal\n",
    "\n",
    "      override def toString() = {\n",
    "        s\"${numerator}/${denominator}\"\n",
    "      }\n",
    "\n",
    "      def less(that: Rational): Boolean = {\n",
    "        this.numerator * that.denominator < that.numerator * this.denominator\n",
    "      }     \n",
    "      \n",
    "      def max(that: Rational): Rational = {\n",
    "        if this.less(that) then that else this\n",
    "      }\n",
    "  ```"
   ]
  },
  {
   "cell_type": "markdown",
   "metadata": {},
   "source": [
    "### Preconditions vs Assertions"
   ]
  },
  {
   "cell_type": "markdown",
   "metadata": {},
   "source": [
    "- Preconditions are enforced by the keyword `require`, while assertions are enforced by the keyword `assert`\n",
    "\n",
    "- Both serve similar functions; that is to check that specific expectations are met\n",
    "\n",
    "- However, `assert` can be switched off at run time, but `require` cannot\n",
    "\n",
    "- Therefore, it is always recommended to use `require` whenever you want to ensure something MUST happen\n",
    "\n",
    "  ```scala\n",
    "      class Rational(x: Int, y: Int):\n",
    "        ...\n",
    "        \n",
    "        require(y > 0, \"cannot have 0 denominator\")\n",
    "        val numerator: Int = x /gcdVal\n",
    "        val denominator: Int = y / gcdVal\n",
    "\n",
    "    ```"
   ]
  },
  {
   "cell_type": "markdown",
   "metadata": {},
   "source": [
    "### Constructors"
   ]
  },
  {
   "cell_type": "markdown",
   "metadata": {},
   "source": [
    "- We said previously that defining a class adds both a type and a constructor to the namespace by default\n",
    "\n",
    "- HOWEVER, it is possible to add a custom constructor, known in Scala as an **auxiliary constructor**\n",
    "  - This is done by adding a method called `this(...)` with the relevant signature\n",
    "\n",
    "  ```scala\n",
    "    class Rational(x: Int, y: Int):\n",
    "      def this(x: Int) = this(x, 1)\n",
    "  ```"
   ]
  },
  {
   "cell_type": "markdown",
   "metadata": {},
   "source": [
    "### End Markers"
   ]
  },
  {
   "cell_type": "markdown",
   "metadata": {},
   "source": [
    "- While this is not strictly needed, it is sometimes useful to add the `end` marker to your classes or methods\n",
    "\n",
    "- This enhances readability"
   ]
  },
  {
   "cell_type": "markdown",
   "metadata": {},
   "source": [
    "### Exercise"
   ]
  },
  {
   "cell_type": "markdown",
   "metadata": {},
   "source": [
    "- Modify the Rational class so that rational numbers are kept unsimplified internally, but the simplification is applied when numbers are converted to strings.\n",
    "\n",
    "- Do clients observe the same behavior when interacting with the rational class?\n",
    "  - Yes assuming no overflow\n",
    "\n",
    "\n",
    "- See `6-slides.scala`"
   ]
  },
  {
   "cell_type": "markdown",
   "metadata": {},
   "source": [
    "## 7. Evaluation and Operators"
   ]
  },
  {
   "cell_type": "markdown",
   "metadata": {},
   "source": [
    "- Writing a class also entails its own order of operations, and evaluation logic. We previously saw something similar in Module 1 7-slides.pdf\n",
    "\n",
    "- I don't think learning the notation of the substitution process is super important, so will just cover the 2 things I found important this week;\n",
    "  - `extension` methods\n",
    "  - `infix` methods"
   ]
  },
  {
   "cell_type": "markdown",
   "metadata": {},
   "source": [
    "### Using Extensions"
   ]
  },
  {
   "cell_type": "markdown",
   "metadata": {},
   "source": [
    "- If you keep adding methods to the class, you end up with a massive ugly class. Which, from a readability POV, is not ideal\n",
    "\n",
    "- Scala lets you create an `extension` to a class that can be kept logically separated from the main class\n",
    "  - This lets you define non-core methods for the class away from the class\n",
    "  - BUT it assumes they do not need to operate on stuff that is internal to the class\n",
    "  - You also cannot use an `extension` to overwrite any existing methods\n",
    "\n",
    "  ```scala\n",
    "    extension (r: Rational)\n",
    "      def min(s: Rational): Rational = if s.less(r) then s else r\n",
    "      def abs: Rational = Rational(r.numer.abs, r.denom)\n",
    "  ```\n"
   ]
  },
  {
   "cell_type": "markdown",
   "metadata": {},
   "source": [
    "### Infix Operators"
   ]
  },
  {
   "cell_type": "markdown",
   "metadata": {},
   "source": [
    "- In our `Rational` class, we define a method `add`\n",
    "\n",
    "- This has the same behaviour as `+`, but it is not recognised as a `+` operation\n",
    "\n",
    "- This poorly designed interface can lead to confusion \n",
    "  - for `Int`, we can do `x + y`\n",
    "  - for `Rational`, we have to do `x.add(y)`\n",
    "\n",
    "- In Scala, we can eliminate this difference in interface by **infix**-ing a new operator\n",
    "\n",
    "- To do this, we can define custom behaviour for operators\n",
    "  ```scala\n",
    "    extension (x: Rational)\n",
    "      def + (y: Rational): Rational = x.add(y)\n",
    "      def * (y: Rational): Rational = x.mul(y)\n",
    "      ...\n",
    "  ```\n",
    "\n",
    "  - Why is this allowed? Because `+` / `*` etc operators are valid identifiers! \n",
    "\n",
    "- Next, we use the `infix` keyword to declare the behaviour tied to this operator\n",
    "  ```scala\n",
    "    extension (x: Rational)\n",
    "      infix def min(that: Rational): Rational = ...\n",
    "  ```\n",
    "\n",
    "- This allows us to do\n",
    "  ```scala\n",
    "    r + s\n",
    "    r min s\n",
    "  ```\n"
   ]
  },
  {
   "cell_type": "markdown",
   "metadata": {},
   "source": [
    "- When making composite operators, its precedence is determined by its first character \n",
    "  - That is `*=` will always be resolved before `+=`\n",
    "\n",
    "- The order of precedence is (from lowest to highest)\n",
    "  - (all letters)\n",
    "  - `|`\n",
    "  - `^`\n",
    "  - `&`\n",
    "  - `< >`\n",
    "  - `= !`\n",
    "  - `:`\n",
    "  - `+ -`\n",
    "  - `* / %`\n",
    "  - (any other special chars)"
   ]
  },
  {
   "cell_type": "markdown",
   "metadata": {},
   "source": [
    "### Exercise"
   ]
  },
  {
   "cell_type": "markdown",
   "metadata": {},
   "source": [
    "- Provide a fully parenthesized version of: \n",
    "  - `a + b ^? c ?^ d less a ==> b | c`\n",
    "\n",
    "- Every binary operation needs to be put into parentheses, but the structure of the expression should not change.\n",
    "\n",
    "- Referencing order of precedence above:\n",
    "\n",
    "    - `(((a + b) ^? (c ?^ d)) less ((a ==> b) | c))`"
   ]
  }
 ],
 "metadata": {
  "language_info": {
   "name": "python"
  }
 },
 "nbformat": 4,
 "nbformat_minor": 2
}
