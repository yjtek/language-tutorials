{
 "cells": [
  {
   "cell_type": "markdown",
   "metadata": {},
   "source": [
    "## Class Hierachies"
   ]
  },
  {
   "cell_type": "markdown",
   "metadata": {},
   "source": [
    "### Abstract Classes"
   ]
  },
  {
   "cell_type": "markdown",
   "metadata": {},
   "source": [
    "- The concept of inheritance exists in Scala like it does in all Object Oriented languages\n",
    "\n",
    "- We have the usual notion of classes inheriting from abstract classes\n",
    "\n",
    "- In an abstract class, you can either define a method fully, or just a method signature, and leave the implementation to be defined downstream\n",
    "  - This is similar to \"abstract method\" in Python, and is known as an **abstract member** in Scala\n",
    "\n",
    "- To inherit from base classes, use the key word `extends`\n",
    "\n",
    "- Similar to the Python case, if `B` inherits from some abstract class `A` , then object of type `B` can be used wherever object of type `A` is required\n",
    "\n",
    "- If no superclass is specified via `extends`, each new class definition is subclassed from the standard Java `Object` class\n",
    "\n",
    "- Use `override` key word to override a method from a super class\n",
    "\n",
    "  ```scala\n",
    "    abstract class IntSet:\n",
    "      def incl(x: Int): IntSet\n",
    "      def contains(x: Int): Boolean\n",
    "\n",
    "      def overrideMe(): Int = {\n",
    "        1\n",
    "      }\n",
    "  ```"
   ]
  },
  {
   "cell_type": "markdown",
   "metadata": {},
   "source": [
    "- Let's try an example; we want to implement the `IntSet` abstract class as binary trees\n",
    "\n",
    "  ```scala\n",
    "    class Empty() extends IntSet:\n",
    "      def contains(x: Int): Boolean = False\n",
    "      \n",
    "      def incl(x: Int): IntSet = {\n",
    "        NonEmpty(x, Empty(), Empty())\n",
    "      } \n",
    "\n",
    "      override def overwriteMe(): Int = {\n",
    "        2\n",
    "      }\n",
    "\n",
    "    end Empty\n",
    "\n",
    "    class NonEmpty(elem: Int, left: IntSet, right: IntSet) extends IntSet:\n",
    "      def contains(x: Int): Boolean = {\n",
    "        if x < elem then left.contains(x)\n",
    "        else if x > elem then right.contains(x)\n",
    "        else true\n",
    "      }\n",
    "\n",
    "      def incl(x: Int): IntSet = {\n",
    "        if x < elem then NonEmpty(elem, left.incl(x), right)\n",
    "        else if x > elem then NonEmpty(elem, left, right.incl(x))\n",
    "        else this\n",
    "      }\n",
    "  ```"
   ]
  },
  {
   "cell_type": "markdown",
   "metadata": {
    "vscode": {
     "languageId": "plaintext"
    }
   },
   "source": [
    "- Interestingly, Scala also has built in method to define singleton object; that is, objects that you don't want to instantiate multiple times (either because instantiation is expensive, or serves no purpose besides cluttering up your memory)\n",
    "\n",
    "- We can define **singleton** by using the `object` keyword\n",
    "\n",
    "  ```scala\n",
    "    object Empty extends IntSet:\n",
    "      def contains(x: Int): Boolean = false\n",
    "      def incl(x: Int): IntSet = NonEmpty(x, Empty, Empty)\n",
    "    end Empty\n",
    "  ```"
   ]
  },
  {
   "cell_type": "markdown",
   "metadata": {},
   "source": [
    "### Scala Namespace"
   ]
  },
  {
   "cell_type": "markdown",
   "metadata": {},
   "source": [
    "- Something to note about Scala is that there are 2 global namespaces to keep track of\n",
    "  - A namespace for **types**\n",
    "  - A namespace for **values**\n",
    "\n",
    "- The implication here is that you can separate the definition of a type from the definition of the object. That is;\n",
    "  ```scala\n",
    "    class IntSet ...\n",
    "    object IntSet:\n",
    "      def singleton(x: Int) = NonEmpty(x, Empty, Empty)\n",
    "  ```\n",
    "\n",
    "- An object defined separately from the `class` is called a **companion object**"
   ]
  },
  {
   "cell_type": "markdown",
   "metadata": {},
   "source": [
    "### Running Scala Programs"
   ]
  },
  {
   "cell_type": "markdown",
   "metadata": {},
   "source": [
    "- To create a standalone Scala application, we can simply create an `object` that is called from the REPL\n",
    "\n",
    "  ```scala\n",
    "    object Hello:\n",
    "      def main(args: Array[String]): Unit = println(\"hello world\")\n",
    "\n",
    "  ```\n",
    "\n",
    "  ```bash\n",
    "    > scala Hello\n",
    "  ```\n",
    "\n",
    "- Scala also has a convenience annotation `@main` that lets you run functions from command line while supplying args directly\n",
    "\n",
    "  ```scala\n",
    "    @main def birthday(name: String, age: Int) = {\n",
    "      println(s\"Hpbd ${name} you are ${age}\")\n",
    "    }\n",
    "  ```\n",
    "\n",
    "  ```bash\n",
    "    > scala birthday Peter 100\n",
    "  ```"
   ]
  },
  {
   "cell_type": "markdown",
   "metadata": {},
   "source": [
    "### Exercise"
   ]
  },
  {
   "cell_type": "markdown",
   "metadata": {},
   "source": [
    "- Write a method union for forming the union of two sets. You should\n",
    "implement the following abstract class.\n",
    "\n",
    "- See `1-slides.scala`"
   ]
  },
  {
   "cell_type": "markdown",
   "metadata": {},
   "source": [
    "### Dynamic Binding"
   ]
  },
  {
   "cell_type": "markdown",
   "metadata": {},
   "source": [
    "- Scala's ability to run methods based on the runtime type of the object that calls the method is known as **Dynamic Binding**"
   ]
  },
  {
   "cell_type": "markdown",
   "metadata": {},
   "source": [
    "## Class Organisation"
   ]
  },
  {
   "cell_type": "markdown",
   "metadata": {},
   "source": [
    "### Imports"
   ]
  },
  {
   "cell_type": "markdown",
   "metadata": {},
   "source": [
    "- We have looked into how individual classes/objects are constructed in some detail. Now, we should discuss how multiple classes/objects are organised\n",
    "\n",
    "- Scala allows you to define the package name on top of every `*.scala` file, which acts like a sort of identifier \n",
    "\n",
    "- You can use the package name to specify functions to import, and/or reference functions/objects\n",
    "\n",
    "  ```scala\n",
    "    package myScalaPackage\n",
    "\n",
    "    def test() = {\n",
    "      1\n",
    "    }\n",
    "\n",
    "    def test2() = {\n",
    "      2\n",
    "    }\n",
    "  ```\n",
    "\n",
    "  ```scala\n",
    "    package myOtherScalaPackage\n",
    "\n",
    "    import myScalaPackage.test //import single function\n",
    "    import myScalaPackage.{test, test2} //import multiple\n",
    "    import myScalaPackage._ //import everything\n",
    "\n",
    "    val valid = test()\n",
    "    val alsoValid = myScalaPackage.test()\n",
    "\n",
    "  ```"
   ]
  },
  {
   "cell_type": "markdown",
   "metadata": {},
   "source": [
    "### Traits"
   ]
  },
  {
   "cell_type": "markdown",
   "metadata": {},
   "source": [
    "- Scala also enables a difference between inheritance and composition\n",
    "\n",
    "- Inheritance\n",
    "  - Previously, we looked at the `extends` keyword that allows you to create subclasses\n",
    "  - Classes can only inherit from 1 superclass, so you cannot extend multiple classes\n",
    "\n",
    "- Composition\n",
    "  - The same keyword `extends` is used to do composition\n",
    "  - The difference is that when you do `extends` from another class, the assumption is that you are specifying inheritance\n",
    "  - To do composition, the superclass needs to be defined as a `trait` instead of an `abstract class`"
   ]
  },
  {
   "cell_type": "markdown",
   "metadata": {},
   "source": [
    "- All Scala objects are subtypes of the `scala.Any` type \n",
    "\n",
    "- All reference types inherit from `scala.AnyRef`\n",
    "\n",
    "- All primitive types inherit from `scala.AnyVal`\n",
    "\n",
    "- At the bottom-most of Scala's type hierachy, there is the `Nothing` type, which is typically used for exceptions `Exc`"
   ]
  },
  {
   "cell_type": "markdown",
   "metadata": {
    "vscode": {
     "languageId": "plaintext"
    }
   },
   "source": [
    "### Exercise"
   ]
  },
  {
   "cell_type": "markdown",
   "metadata": {},
   "source": [
    "- What is the type of `if true then 1 else false`?\n",
    "\n",
    "- You may think that this is `int` because the predicate always evaluates to true\n",
    "\n",
    "- However, for stability, Scala deliberately considers BOTH paths of the if statement\n",
    "\n",
    "- In this case, the statement could return a `Boolean`, or an `Int`, so the superclass `AnyVal` is the return type"
   ]
  },
  {
   "cell_type": "markdown",
   "metadata": {},
   "source": [
    "## Polymorphism"
   ]
  },
  {
   "cell_type": "markdown",
   "metadata": {},
   "source": [
    "- When defining anything in Scala, it is possible that a class/trait/function can be composed of different types on runtime\n",
    "  - For example, if we define a `List`, we can say `List[Int]`, or `List[String]` etc\n",
    "\n",
    "- For generality, if we don't know what type we will pass into the object, we can simply mark it with a generic type parameter `[T]`\n",
    "\n",
    "- Scala doesn't use the type parameter for anything; it is generally inferred at run-time regardless (known as **type erasure**)\n",
    "  - Nonetheless, it is good practise for some languages (C++, C#)\n",
    "  ```scala\n",
    "    def singleton[T](elem: T) = Cons[T](elem, Nil[T])\n",
    "\n",
    "    singleton[Int](1) //valid\n",
    "    singleton(1) //also valid\n",
    "  ```\n",
    "\n",
    "- The ability to accept multiple types in the same function is an example of  **polymorphism**"
   ]
  },
  {
   "cell_type": "markdown",
   "metadata": {},
   "source": [
    "### Example: Create Immutable Linked List (Cons-List)"
   ]
  },
  {
   "cell_type": "markdown",
   "metadata": {},
   "source": [
    "- A ConsList is a just a singly linked list\n",
    "- Generally, it is made up from 2 building blocks;\n",
    "  - `Nil` --> The empty list\n",
    "  - `Cons` --> A cell containing an element and the remainder of the list\n",
    "\n",
    "  ```scala\n",
    "    //trait IntList ... //Not scalable. you need a FloatList, StringList etc\n",
    "    trait List[T]: // So we define a List with a type parameter instead\n",
    "      def isEmpty: Boolean\n",
    "      def head: T\n",
    "      def tail: List[T]\n",
    "\n",
    "    class Cons[T](val head: T, val tail: List[T]) extends List[T]:\n",
    "      def isEmpty = false\n",
    "    \n",
    "    class Nil[T] extends List[T]:\n",
    "      def isEmpty = true\n",
    "      def head = throw new NoSuchElementException(”Nil.head”)\n",
    "      def tail = throw new NoSuchElementException(”Nil.tail”)\n",
    "\n",
    "  ```"
   ]
  },
  {
   "cell_type": "markdown",
   "metadata": {
    "vscode": {
     "languageId": "plaintext"
    }
   },
   "source": [
    "### Exercise"
   ]
  },
  {
   "cell_type": "markdown",
   "metadata": {},
   "source": [
    "- Write a function nth that takes a list and an integer n and selects the n’th\n",
    "element of the list.\n",
    "\n",
    "  ```scala\n",
    "    def nth[T](xs: List[T], n: Int): Int = ???\n",
    "  ```\n",
    "\n",
    "- Elements are numbered from 0.\n",
    "\n",
    "- If index is outside the range from 0 up the the length of the list minus one, a `IndexOutOfBoundsException` should be thrown.\n",
    "\n",
    "- See `3-slides.scala`"
   ]
  },
  {
   "cell_type": "markdown",
   "metadata": {},
   "source": [
    "## Objects in Scala"
   ]
  },
  {
   "cell_type": "markdown",
   "metadata": {},
   "source": [
    "- We'll try to define some Scala primitives from scratch as an exercise\n",
    "  - Boolean\n",
    "  - Int"
   ]
  },
  {
   "cell_type": "markdown",
   "metadata": {},
   "source": [
    "- See `4-slides.scala`"
   ]
  },
  {
   "cell_type": "markdown",
   "metadata": {
    "vscode": {
     "languageId": "plaintext"
    }
   },
   "source": [
    "## Functions as Objects"
   ]
  },
  {
   "cell_type": "markdown",
   "metadata": {},
   "source": [
    "- So clearly, from the section above, primitives can be implemented as objects. What about functions?\n",
    "\n",
    "- Functions are naturally objects in Scala\n",
    "\n",
    "- For example, the functions below are equivalent\n",
    "\n",
    "  ```scala\n",
    "    package scala\n",
    "\n",
    "    type A => B\n",
    "\n",
    "    trait Function1[A, B]:\n",
    "      def apply(x: A): B = {\n",
    "        ???\n",
    "      }\n",
    "\n",
    "    trait Function2[A, B, C]: ???\n",
    "\n",
    "    ...\n",
    "  ```\n",
    "\n",
    "- Even anonymous functions can be expanded to actual classes\n",
    "  ```scala\n",
    "    (x: Int) => x * x\n",
    "\n",
    "    // same as\n",
    "    new Function1[Int, Int]:\n",
    "      def apply(x: Int) = x * x\n",
    "\n",
    "    // same as\n",
    "    { class $anonfun() extends Function1[Int, Int]:\n",
    "        def apply(x: Int) = x * x\n",
    "      $anonfun\n",
    "    }\n",
    "  ```"
   ]
  },
  {
   "cell_type": "markdown",
   "metadata": {},
   "source": [
    "- Note the use of the keyword `apply`; when you call some function `f(a,b)`, you are implicitly doing `f.apply(a,b)`\n",
    "\n",
    "- That is, the two code chunks below are equivalent\n",
    "  ```scala\n",
    "    val f = (x: Int) => x * x\n",
    "    f(7)\n",
    "\n",
    "    val f = new Function1[Int, Int]:\n",
    "      def apply(x: Int) = x * x\n",
    "    f.apply(7)\n",
    "  ```"
   ]
  },
  {
   "cell_type": "markdown",
   "metadata": {},
   "source": [
    "### Exercise"
   ]
  },
  {
   "cell_type": "markdown",
   "metadata": {},
   "source": [
    "- See `5-slides.scala`"
   ]
  }
 ],
 "metadata": {
  "language_info": {
   "name": "python"
  }
 },
 "nbformat": 4,
 "nbformat_minor": 2
}
