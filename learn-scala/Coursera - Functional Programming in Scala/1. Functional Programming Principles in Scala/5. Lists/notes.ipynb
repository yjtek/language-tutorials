{
 "cells": [
  {
   "cell_type": "markdown",
   "metadata": {},
   "source": [
    "## Closer look at lists"
   ]
  },
  {
   "cell_type": "markdown",
   "metadata": {},
   "source": [
    "- We have explored a few of the built-in methods of a `List` in Scala\n",
    "  ```scala\n",
    "    type List[Fruit]\n",
    "    val fruits = List(\"apple\", \"orange\", \"banana\")\n",
    "    val nums = 1 :: 2 :: Nil //Nil is built in\n",
    "\n",
    "    nums match\n",
    "      case x :: y:: _ => x+y //3\n",
    "      case _ => nums\n",
    "    \n",
    "    fruits.isEmpty //false\n",
    "    fruits.length //3\n",
    "\n",
    "    fruits.head //\"apple\"\n",
    "    fruits.last //\"banana\"\n",
    "\n",
    "    fruits.init //List(\"apple\", \"orange\")\n",
    "    fruits.tail //List(\"orange\", \"banana\")\n",
    "\n",
    "    fruits.take(2) //List(\"apple\", \"orange\")\n",
    "    fruits.drop(2) //List(\"banana\")\n",
    "    fruits(2) //\"banana\"\n",
    "\n",
    "    fruits ++ List(\"pineapple\") //List(\"apple\", \"orange\", \"banana\", \"pineapple\")\n",
    "    fruits.reverse //List(\"banana\", \"orange\", \"apple\")\n",
    "    fruits.updated(0, \"mango\") //List(\"mango\", \"orange\", \"banana\")\n",
    "\n",
    "    fruits.indexOf(\"apple\") //0\n",
    "    fruits.contains(\"watermelon\") //false\n",
    "\n",
    "  ```"
   ]
  },
  {
   "cell_type": "markdown",
   "metadata": {},
   "source": [
    "### Implementation of some list methods"
   ]
  },
  {
   "cell_type": "markdown",
   "metadata": {},
   "source": [
    "- To de-mystify some of the methods above, we'll implement some of them from scratch. Let `val l: List[Any]`. We will implement:\n",
    "  - `last(l)`\n",
    "  - `init(l)`\n",
    "  - `l ++ m`\n",
    "  - `l.reverse`\n",
    "  - `removeAt(n: Int, l)`\n",
    "  - `flatten(l)`\n",
    "\n",
    "- See `1-slides.scala`"
   ]
  },
  {
   "cell_type": "markdown",
   "metadata": {},
   "source": [
    "## Tuples and Generic Methods"
   ]
  },
  {
   "cell_type": "markdown",
   "metadata": {},
   "source": [
    "- Tuples in Scala are similar to list, with the following differences\n",
    "  - They can be heterogeneous\n",
    "  - They cannot be extended\n",
    "  - Element access can be done via `t._1`, `t._2`, ...\n",
    "\n",
    "- To see how this can be applied (indirectly), we'll write a function to do merge sort\n",
    "\n",
    "- Note the implementation accounts for `mergeSort` that takes in any parameter type T, and so lets you pass in an arbitrary comparison function `lt`\n",
    "\n",
    "- See `2-slides.scala`"
   ]
  },
  {
   "cell_type": "markdown",
   "metadata": {},
   "source": [
    "## Higher-Order List Functions"
   ]
  },
  {
   "cell_type": "markdown",
   "metadata": {},
   "source": [
    "- In Scala, functions can be combined to give you higher order functions\n",
    "\n",
    "- We have already seen some repeated patterns being used in Scala; transforming elements in a list, retrieving elements that meet a criteria, combine elements with some operator\n",
    "\n",
    "- For example, let's suppose we want to write a function that takes a list, and multiples all elements by 2\n",
    "  ```scala\n",
    "    def multByFactor(l: List[Int], factor: Int): List[Int] = {\n",
    "      l match\n",
    "        case Nil => Nil\n",
    "        case elem :: tail => elem*factor :: multByFactor(l, factor)\n",
    "    }\n",
    "\n",
    "    multByFactor(l, 2)\n",
    "  ```\n",
    "\n",
    "- We could, however, just as easily write a general function that follows this pattern of applying a function to every element in a list!\n",
    "\n",
    "  ```scala\n",
    "    extension [T](l: List[T])\n",
    "      def map[U](f: T => U): List[U] = {\n",
    "        l match\n",
    "          case Nil => Nil\n",
    "          case elem :: tail => f(elem) :: tail.map(f)\n",
    "      }\n",
    "\n",
    "    l.map(x => 2*x)\n",
    "  ```\n",
    "\n",
    "- The idea here is to go one step beyond functions; we write functions that allow us to apply arbitrary function patterns"
   ]
  },
  {
   "cell_type": "markdown",
   "metadata": {},
   "source": [
    "### Exercise 1"
   ]
  },
  {
   "cell_type": "markdown",
   "metadata": {},
   "source": [
    "- Consider a function to square each element of a list, and return the result. Complete the two following equivalent definitions of squareList.\n",
    "\n",
    "  ```scala\n",
    "    def squareList(xs: List[Int]): List[Int] = xs match\n",
    "      case Nil => Nil\n",
    "      case y :: ys => y*y :: squareList(ys)\n",
    "    \n",
    "    def squareList(xs: List[Int]): List[Int] =\n",
    "      xs.map(x => x*x)\n",
    "  ```\n",
    "\n"
   ]
  },
  {
   "cell_type": "markdown",
   "metadata": {},
   "source": [
    "### Higher Level Function: Filtering"
   ]
  },
  {
   "cell_type": "markdown",
   "metadata": {},
   "source": [
    "- Same idea as above; but generalising for `filter`\n",
    "  ```scala\n",
    "    def posElems(xs: List[Int]): List[Int] = xs match\n",
    "      case Nil => xs\n",
    "      case y :: ys => if y > 0 then y :: posElems(ys) else posElems(ys)\n",
    "\n",
    "    extension [T](l: List[T])\n",
    "      def filter(f: T => Boolean): List[T] = {\n",
    "        l match\n",
    "          case Nil => Nil\n",
    "          case elem :: tail => if f(elem) then elem :: tail.filter(f) else tail.filter(f)\n",
    "      }\n",
    "\n",
    "    l.filter(x => x > 0) //equivalent\n",
    "    posElems(l) //equivalent\n",
    "  ```"
   ]
  },
  {
   "cell_type": "markdown",
   "metadata": {},
   "source": [
    "### Exercise 2"
   ]
  },
  {
   "cell_type": "markdown",
   "metadata": {},
   "source": [
    "- Let's try to apply this concept for the following functions\n",
    "  - `l.filterNot(f)`: filter elements that do not meet condition `f`\n",
    "  - `l.partition(f)`: returns a tuple of Lists, with one where all elements meet condition `f`, and one where all elements do not\n",
    "  - `l.takeWhile(f)`: starting from l.head, while f is true, append element to result, and stop when f is false\n",
    "  - `l.dropWhile(f)`: starting from l.head, while f is true, drop element from list, and stop when f is false\n",
    "  - `l.span(f)`: returns a tuple of lists, with first element being `l.takeWhile(f)` and second being `l.dropWhile(f)`\n",
    "\n",
    "- See `3-slides.scala`"
   ]
  },
  {
   "cell_type": "markdown",
   "metadata": {},
   "source": [
    "### Exercise 3"
   ]
  },
  {
   "cell_type": "markdown",
   "metadata": {},
   "source": [
    "- Write a function pack that packs consecutive duplicates of list elements into sublists. For instance, `pack(List(\"a\", \"a\", \"a\", \"b\", \"c\", \"c\", \"a\"))` should give `List(List(\"a\", \"a\", \"a\"), List(\"b\"), List(\"c\", \"c\"), List(\"a\"))`"
   ]
  },
  {
   "cell_type": "markdown",
   "metadata": {},
   "source": [
    "- See `3-slides.scala`"
   ]
  },
  {
   "cell_type": "markdown",
   "metadata": {},
   "source": [
    "### Exercise 4"
   ]
  },
  {
   "cell_type": "markdown",
   "metadata": {},
   "source": [
    "- Using `pack`, write a function encode that produces the run-length encoding of a list. The idea is to encode n consecutive duplicates of an element x as a pair `(x, n)`. For instance, `encode(List(\"a\", \"a\", \"a\", \"b\", \"c\", \"c\", \"a\"))` should give `List((\"a\", 3), (\"b\", 1), (\"c\", 2), (\"a\", 1))`"
   ]
  },
  {
   "cell_type": "markdown",
   "metadata": {},
   "source": [
    "- See `3-slides.scala`"
   ]
  },
  {
   "cell_type": "markdown",
   "metadata": {},
   "source": [
    "## Reduction of Lists"
   ]
  },
  {
   "cell_type": "markdown",
   "metadata": {},
   "source": [
    "- Scala's design makes it deliberately hard to do any type of iteration of objects. It is more idiomatic to things like `reduce`\n",
    "  - For instance, if you want to do something like `sum([1,2,3])`, you will need to write your own iterator\n",
    "\n",
    "- There are 2 main iterators in Scala to be familiar with; `foldLeft` and `foldRight`\n",
    "  - Technically there is also `reduceLeft` and `reduceRight`\n",
    "  - However, `reduce*` doesn't give you the ability to specify a base case, which makes it a lot less flexible. So conceptually, all you really need is `fold*`\n",
    "\n",
    "- To illustrate the use of `foldLeft` and `foldRight`, let's imagine that we wish to concatenate 2 Lists together. Notwithstanding the fact that there is an obvious syntax to do this (`++` or `:::`), let's try to implement it via `foldLeft` and `foldRight`\n",
    "\n",
    "  ```scala\n",
    "  val l1 = List(1,2,3)\n",
    "  val l2 = List(10,20,30)\n",
    "\n",
    "  /*\n",
    "    Accumulates into l2 by appending elements of l1 into l2 from left to right\n",
    "    ((List(10,20,30) :+ 1) :+ 2) :+ 3\n",
    "  */\n",
    "  l1.foldLeft(l2)(_ :+ _) \n",
    "\n",
    "  /*\n",
    "    Accumulates into l2 by prepending elements of l1 into l2 from right to left\n",
    "    1 :: (2 :: (3 :: List(10,20,30)))\n",
    "  */\n",
    "  l1.foldRight(l2)(_ :: _) \n",
    "  ```"
   ]
  },
  {
   "cell_type": "markdown",
   "metadata": {},
   "source": [
    "### Implementations of fold* and reduce*"
   ]
  },
  {
   "cell_type": "markdown",
   "metadata": {},
   "source": [
    "- See `4-slides.scala`"
   ]
  },
  {
   "cell_type": "markdown",
   "metadata": {},
   "source": [
    "### Exercise 1"
   ]
  },
  {
   "cell_type": "markdown",
   "metadata": {},
   "source": [
    "- In this formulation of concat, it isn’t possible to replace foldRight by foldLeft. Why?\n",
    "\n",
    "```scala\n",
    "  def concat[T](xs: List[T], ys: List[T]): List[T] =\n",
    "    xs.foldRight(ys)(_ :: _)\n",
    "```\n",
    "\n",
    "- Clearly, the issue is one of `type`\n",
    "  - Recall that in `a.foldLeft(b)(f)`, we are doing `f(f(b,a(0)), a(1)...`\n",
    "  - But in `a.foldRight(b)(f)`, we are doing `...f(a(N-1), f(a(N), b))`\n",
    "  - In the example above, with fold right, you are doing `...(xs(N-1) :: (xs(N) :: ys))`, which makes sense because `::` expects the LHS to be a single value, and the RHs to be a list\n",
    "  - If you change it to `foldLeft` however, this becomes `(ys :: xs(0)...` which is obviously wrong syntax for `::`"
   ]
  },
  {
   "cell_type": "markdown",
   "metadata": {},
   "source": [
    "### Reversing List"
   ]
  },
  {
   "cell_type": "markdown",
   "metadata": {},
   "source": [
    "- Previously, we implemented reverse in this way, which is an $O(N^2)$ implementation\n",
    "  ```scala\n",
    "  def MYreverse: List[T] = {\n",
    "    l match \n",
    "      case Nil => Nil\n",
    "      case elem :: tail => tail.MYreverse `MY++` List(elem)\n",
    "  }\n",
    "  ```\n",
    "\n",
    "- But we can do better with this `foldLeft` syntax!!\n",
    "\n",
    "- See `4-slides.scala`"
   ]
  },
  {
   "cell_type": "markdown",
   "metadata": {},
   "source": [
    "### Exercise 2"
   ]
  },
  {
   "cell_type": "markdown",
   "metadata": {},
   "source": [
    "- Complete the following definitions of the basic functions map and length on lists, such that their implementation uses foldRight:\n",
    "  ```scala\n",
    "    def mapFun[T, U](xs: List[T], f: T => U): List[U] =\n",
    "      xs.foldRight(List[U]())( ??? )\n",
    "      \n",
    "    def lengthFun[T](xs: List[T]): Int =\n",
    "      xs.foldRight(0)( ??? )\n",
    "  ```\n",
    "\n",
    "-  See `4-slides.scala`"
   ]
  },
  {
   "cell_type": "markdown",
   "metadata": {},
   "source": [
    "## List Reasoning"
   ]
  },
  {
   "cell_type": "markdown",
   "metadata": {},
   "source": [
    "- This is some proof by induction nonsense that doesn't seem super relevant IMO. Just read for fun"
   ]
  }
 ],
 "metadata": {
  "language_info": {
   "name": "python"
  }
 },
 "nbformat": 4,
 "nbformat_minor": 2
}
