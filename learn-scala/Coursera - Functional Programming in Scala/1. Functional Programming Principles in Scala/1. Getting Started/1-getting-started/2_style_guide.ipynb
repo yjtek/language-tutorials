{
 "cells": [
  {
   "cell_type": "markdown",
   "metadata": {},
   "source": [
    "## Scala Style Guide"
   ]
  },
  {
   "cell_type": "markdown",
   "metadata": {},
   "source": [
    "### 1. Avoid Casts and Type Tests"
   ]
  },
  {
   "cell_type": "markdown",
   "metadata": {},
   "source": [
    "- Never use isInstanceOf or asInstanceOf - there’s always a better solution, both for the assignments, and also for any real-world Scala project.\n",
    "\n",
    "- If you find yourself wanting to use casts, take a step back and think about what you’re trying to achieve. Re-read the assignment instructions and have another look at the corresponding lecture videos."
   ]
  },
  {
   "cell_type": "markdown",
   "metadata": {},
   "source": [
    "### 2. Indentation"
   ]
  },
  {
   "cell_type": "markdown",
   "metadata": {},
   "source": [
    "- Make sure your code is properly indented, it becomes a lot more readable.\n",
    "\n",
    "- This might seem trivial and not very relevant for our exercises, but imagine yourself in the future being part of a team, working on the same files with other coders: it is very important that everybody respects the style rules to keep the code healthy.\n",
    "\n",
    "- If your editor does not do indentation the way you would like it to have, you should find out how to change its settings. In Scala, the standard is to indent using 2 spaces (no tabs)."
   ]
  },
  {
   "cell_type": "markdown",
   "metadata": {},
   "source": [
    "### 3. Line Length and Whitespace"
   ]
  },
  {
   "cell_type": "markdown",
   "metadata": {},
   "source": [
    "- Make sure the lines are not too long, otherwise your code is very hard to read. Instead of writing very long lines, introduce some local value bindings. Using whitespace uniformly makes your code more readable.\n",
    "\n",
    "- Example (long line, missing spaces):\n",
    "```scala\n",
    "    if(p(this.head))this.tail.filter0(p, accu.incl(this.head))else this.tail.filter0(p, accu)\n",
    "```\n",
    "\n",
    "- Better:\n",
    "```scala\n",
    "    if p(this.head) then\n",
    "    this.tail.filter0(p, accu.incl(this.head))\n",
    "    else\n",
    "    this.tail.filter0(p, accu)\n",
    "```\n",
    "\n",
    "- Best:\n",
    "```scala\n",
    "    val newAccu =\n",
    "        if p(this.head) then accu.incl(this.head)\n",
    "        else accu\n",
    "    this.tail.filter0(p, newAccu)\n",
    "```"
   ]
  },
  {
   "cell_type": "markdown",
   "metadata": {},
   "source": [
    "### 4. Use local Values to simplify complex Expressions\n"
   ]
  },
  {
   "cell_type": "markdown",
   "metadata": {},
   "source": [
    "- When writing code in functional style, methods are often implemented as a combination of function calls. If such a combined expression grows too big, the code might become hard to understand.\n",
    "\n",
    "- In such cases it is better to store some arguments in a local value before passing them to the function (see #3 above). Make sure that the local value has a meaningful name (see #5 below)!"
   ]
  },
  {
   "cell_type": "markdown",
   "metadata": {},
   "source": [
    "### 5. Choose meaningful Names for Methods and Values"
   ]
  },
  {
   "cell_type": "markdown",
   "metadata": {},
   "source": [
    "- Self explanatory"
   ]
  },
  {
   "cell_type": "markdown",
   "metadata": {},
   "source": [
    "### 6. Common Subexpressions"
   ]
  },
  {
   "cell_type": "markdown",
   "metadata": {},
   "source": [
    "- You should avoid unnecessary invocations of computation-intensive methods. For example"
   ]
  },
  {
   "cell_type": "markdown",
   "metadata": {},
   "source": [
    "```scala\n",
    "    this.remove(this.findMin).ascending(t + this.findMin)\n",
    "```"
   ]
  },
  {
   "cell_type": "markdown",
   "metadata": {},
   "source": [
    "- `findMin` is invoked twice, don't do this. Instead:\n"
   ]
  },
  {
   "cell_type": "markdown",
   "metadata": {},
   "source": [
    "```scala\n",
    "    this.remove(min).ascending(t + min)\n",
    "```"
   ]
  },
  {
   "cell_type": "markdown",
   "metadata": {},
   "source": [
    "### 7. Avoid using Return"
   ]
  },
  {
   "cell_type": "markdown",
   "metadata": {},
   "source": [
    "- In Scala, you often don’t need to use explicit returns because control structures such as `if` are expressions. For example, you can drop the return below"
   ]
  },
  {
   "cell_type": "markdown",
   "metadata": {},
   "source": [
    "```scala\n",
    "    def factorial(n: Int): Int =\n",
    "        if n <= 0 then return 1\n",
    "        else return (n * factorial(n-1))\n",
    "```"
   ]
  },
  {
   "cell_type": "markdown",
   "metadata": {},
   "source": [
    "### 8. Avoid mutable local Variables"
   ]
  },
  {
   "cell_type": "markdown",
   "metadata": {},
   "source": [
    "- Since this is a course on functional programming, we want you to get used to writing code in a purely functional style, without using side-effecting operations. You can often rewrite code that uses mutable local variables to code with helper functions that take accumulators. Instead of this..."
   ]
  },
  {
   "cell_type": "markdown",
   "metadata": {},
   "source": [
    "```scala\n",
    "    def fib(n: Int): Int =\n",
    "        var a = 0\n",
    "        var b = 1\n",
    "        var i = 0\n",
    "        while (i < n)\n",
    "            val prev_a = a\n",
    "            a = b\n",
    "            b = prev_a + b\n",
    "            i = i + 1\n",
    "        a\n",
    "```"
   ]
  },
  {
   "cell_type": "markdown",
   "metadata": {},
   "source": [
    "- ...prefer this instead"
   ]
  },
  {
   "cell_type": "markdown",
   "metadata": {},
   "source": [
    "```scala\n",
    "    def fib(n: Int): Int =\n",
    "        def fibIter(i: Int, a: Int, b: Int): Int =\n",
    "            if i == n then a else fibIter(i+1, b, a+b)\n",
    "        fibIter(0, 0, 1)\n",
    "```"
   ]
  },
  {
   "cell_type": "markdown",
   "metadata": {},
   "source": [
    "### 9. Eliminate redundant “If” Expressions\n"
   ]
  },
  {
   "cell_type": "markdown",
   "metadata": {},
   "source": [
    "```scala\n",
    "    if cond then true else false\n",
    "    \n",
    "    // is equal to \n",
    "    \n",
    "    cond\n",
    "```"
   ]
  },
  {
   "cell_type": "markdown",
   "metadata": {},
   "source": []
  }
 ],
 "metadata": {
  "language_info": {
   "name": "python"
  }
 },
 "nbformat": 4,
 "nbformat_minor": 2
}
