{
 "cells": [
  {
   "cell_type": "markdown",
   "metadata": {},
   "source": [
    "## Other Collections"
   ]
  },
  {
   "cell_type": "markdown",
   "metadata": {},
   "source": [
    "- So far we've been hyper-focused on `List()`\n",
    "\n",
    "- There are other collection objects in Scala that are closer in implementation to `list` in Python\n",
    "  - `Vector()` --> Faster random access, but slower prepend than list\n",
    "    - All operations are the same, with the exception of `::`, which is replaced by `x +: l` for prepend, and `l :+ x` for append\n",
    "\n",
    "- looking at the class inheritance for `Iterable` objects in Scala:\n",
    "  - Iterable\n",
    "    - Seq\n",
    "      - List\n",
    "      - Vector\n",
    "      - Range\n",
    "      - Array (*from Java)\n",
    "    - Set\n",
    "    - Map\n",
    "\n",
    "- Instead of the single `list` object you have in Python, you have 2 in Scala\n",
    "  - `List` --> Linked list for fast prepend\n",
    "  - `Vector` --> For fast access\n",
    "  - `Range` --> Syntactic sugar to define specific array of values \n",
    "\n",
    "- Also useful to note that `Array` isn't a direct descendent of `Seq` because it is a Java class, but it supports the same operations by and large"
   ]
  },
  {
   "cell_type": "markdown",
   "metadata": {},
   "source": [
    "### Using `Range`"
   ]
  },
  {
   "cell_type": "markdown",
   "metadata": {},
   "source": [
    "- This has kind of the same idea as python's `range`; i.e. `for i in range(20): ...`\n",
    "\n",
    "- But it is a little more expressive. You can do\n",
    "  - `1 to 5` --> [1,5]\n",
    "  - `1 until 5` --> [1,5)\n",
    "  - `1 to 5 by 2` --> [1,3,5]"
   ]
  },
  {
   "cell_type": "markdown",
   "metadata": {},
   "source": [
    "### All operations of `Seq`"
   ]
  },
  {
   "cell_type": "markdown",
   "metadata": {},
   "source": [
    "- Let s be some `Seq[T]` object of type \n",
    "\n",
    "- Then the following operations are valid:\n",
    "  - `s.exists(p)` -> p is of type `T => Boolean`. Returns `true` if at least one `p(x)` is `true` else `false`\n",
    "  - `s.forall(p)` -> p is of type `T => Boolean`. Returns `true` if all `p(x)` is `true` else `false`\n",
    "  - `s.zip(s2)` -> return `Seq[(T,T)]` of pairs from `s` and `s2`\n",
    "  - `s.unzip` -> The inverse of `s.zip(s2)`, will return 2 sequences where the first is element 0 of every pair, and the second is element 1 of every pair\n",
    "  - `s.flatMap(f)` -> Applies `f` to all elements of `s`\n",
    "  - `s.sum` -> s1 + s2 + ...\n",
    "  - `s.product` -> s1 * s2 * ...\n",
    "  - `s.max` -> max value\n",
    "  - `s.min` -> min value"
   ]
  },
  {
   "cell_type": "markdown",
   "metadata": {},
   "source": [
    "### Some illustrative applications"
   ]
  },
  {
   "cell_type": "markdown",
   "metadata": {},
   "source": [
    "- See `1-slides.scala`"
   ]
  },
  {
   "cell_type": "markdown",
   "metadata": {},
   "source": [
    "## `for` expressions"
   ]
  },
  {
   "cell_type": "markdown",
   "metadata": {},
   "source": [
    "- Like Python, Scala also has a `for` loop syntax. This is best illustrated with an example\n",
    "\n",
    "- Given a positive integer `n`, find all pairs of positive integers `i` and `j`, with `1 <= j < i < n` such that `i + j` is prime\n",
    "\n",
    "- Let's first get every combination of pairs, then check the primality of their sum. \n",
    "\n",
    "- We could implement this in the way we did this previously, using 2 `Range` objects\n",
    "  ```scala\n",
    "    def getAllPairs(n: Int): Seq[(Int, Int)] = {\n",
    "      (1 until n).flatMap(i =>\n",
    "        (1 until i).map(j =>\n",
    "          (i, j)\n",
    "        )\n",
    "      )\n",
    "    }\n",
    "  ```\n",
    "\n",
    "- Next, assuming we have `allPairs: Seq[(Int, Int)]`, we filter out the pairs that add to a prime. For simplicity, let's reuse the `isPrime` function we wrote in `1-slides.scala`\n",
    "  ```scala\n",
    "    def isPrime(x: Int): Boolean = {\n",
    "      val upper = Math.floor(Math.sqrt(x)).toInt\n",
    "      (2 to upper).forall(v => ((x % v)!= 0))\n",
    "    }\n",
    "\n",
    "    allPairs.filter((x,y) => isPrime(x + y))\n",
    "  ```\n",
    "\n",
    "- This is not ideal because the work is spread over a few functions. But we can actually apply a more straightforward `for` syntax!\n",
    "  ```scala\n",
    "    for \n",
    "      i <- 1 until n\n",
    "      j <- 1 until i\n",
    "      if isPrime(i+j)\n",
    "    yield (i,j)\n",
    "  ```"
   ]
  },
  {
   "cell_type": "markdown",
   "metadata": {},
   "source": [
    "### Exercise"
   ]
  },
  {
   "cell_type": "markdown",
   "metadata": {},
   "source": [
    "- Write a version of scalarProduct (see last session) that makes use of a `for`:\n",
    "  ```scala\n",
    "    def scalarProduct(xs: List[Double], ys: List[Double]) : Double = ???\n",
    "  ```\n",
    "\n",
    "- What will the following produce?\n",
    "  ```scala\n",
    "    (for x <- xs; y <- ys yield x * y).sum\n",
    "  ```"
   ]
  },
  {
   "cell_type": "markdown",
   "metadata": {},
   "source": [
    "- See `2-slides.scala`"
   ]
  },
  {
   "cell_type": "markdown",
   "metadata": {},
   "source": [
    "## "
   ]
  }
 ],
 "metadata": {
  "language_info": {
   "name": "python"
  }
 },
 "nbformat": 4,
 "nbformat_minor": 2
}
