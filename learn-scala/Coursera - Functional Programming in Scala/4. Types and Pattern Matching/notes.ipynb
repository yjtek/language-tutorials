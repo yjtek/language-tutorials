{
 "cells": [
  {
   "cell_type": "markdown",
   "metadata": {},
   "source": [
    "# Types and Pattern Matching"
   ]
  },
  {
   "cell_type": "markdown",
   "metadata": {},
   "source": [
    "## Decomposition"
   ]
  },
  {
   "cell_type": "markdown",
   "metadata": {},
   "source": [
    "- Let's motivate this with an example; suppose we want to write an interpreter for arithmetic expressions\n",
    "\n",
    "- For simplicity, let's only deal with 2 types of Expressions; either I get a `Number`, or I get a `Sum`\n",
    "  - That is, in my evaluator, either I receieve a number, or an expression of a `Sum` of 2 `Numbers`\n",
    "\n",
    "  ```scala\n",
    "    trait Expr:\n",
    "      def isNumber: Boolean\n",
    "      def isSum: Boolean\n",
    "      def numValue: Int\n",
    "      def leftOp: Expr\n",
    "      def rightOp: Expr\n",
    "\n",
    "    class Number(n: Int) extends Expr:\n",
    "      def isNumber = true\n",
    "      def isSum = false\n",
    "      def numValue = n\n",
    "      def leftOp = throw new Error(\"Number.leftOp\")\n",
    "      def rightOp = throw new Error(\"Number.rightOp\")\n",
    "\n",
    "    class Sum(e1: Expr, e2: Expr) extends Expr:\n",
    "      def isNumber = false\n",
    "      def isSum = true\n",
    "      def numValue = throw new Error(\"Sum.numValue\")\n",
    "      def leftOp = e1\n",
    "      def rightOp = e2\n",
    "  ```\n"
   ]
  },
  {
   "cell_type": "markdown",
   "metadata": {},
   "source": [
    "- Let's try to implement the evaluator `eval`\n",
    "  ```scala\n",
    "    def eval(e: Expr): Int = \n",
    "      if e.isNumber then e.numValue\n",
    "      else if e.isSum then eval(e.leftOp) + eval(e.rightOp)\n",
    "      else throw new Error(\"Unknown expression \" + e)\n",
    "  ```"
   ]
  },
  {
   "cell_type": "markdown",
   "metadata": {},
   "source": [
    "- This works, but what if we want to add in operators like multiply? Subtract? Divide?\n",
    "  - It will become super messy\n",
    "  - And it will be hell on earth to run the evaluator, because before parsing, you need to check the `Expr` type properly, or you may access members that are not available (e.g. trying to access `numValue` in a Sum)\n",
    "\n",
    "  ```scala\n",
    "  class Prod(e1: Expr, e2: Expr) extends Expr\n",
    "\n",
    "  class Var(x: String) extends Expr\n",
    "\n",
    "  ```\n",
    "\n",
    "- Exercise: To integrate Prod and Var into the hierarchy, how many new method\n",
    "definitions do you need?\n",
    "  - isProd\n",
    "  - isVar\n",
    "  - [Optional] varValue \n",
    "  - So depending on implementation, you are adding more than 10 new methods for a basic change!"
   ]
  },
  {
   "cell_type": "markdown",
   "metadata": {},
   "source": [
    "### (Bad) Solution 1: Type Tests and Type Casts"
   ]
  },
  {
   "cell_type": "markdown",
   "metadata": {},
   "source": [
    "- In `eval` You can deliberately check the type of the `Expr` before doing the evaluation\n",
    "\n",
    "- This is both ugly and not scalable\n",
    "\n",
    "  ```scala\n",
    "    def eval(e: Expr): Int = {\n",
    "      if e.isInstanceOf[Number] then\n",
    "        e.asInstanceOf[Number].numValue\n",
    "      else if e.isInstanceOf[Sum] then\n",
    "        eval(e.leftOp) + eval(e.rightOp)\n",
    "      else\n",
    "        throw Error(\"Unknown Expression \" + e)\n",
    "    }\n",
    "  ```"
   ]
  },
  {
   "cell_type": "markdown",
   "metadata": {},
   "source": [
    "### Solution 2: Object-Oriented Decomposition"
   ]
  },
  {
   "cell_type": "markdown",
   "metadata": {},
   "source": [
    "- Instead of a single eval function, you could add `eval` as an abstract method to the `Expr` trait, then initialise it in each of the subclasses\n",
    "\n",
    "  ```scala\n",
    "    trait Expr:\n",
    "      def eval: Int\n",
    "\n",
    "    class Number(n: Int) extends Expr:\n",
    "      def eval: Int = n\n",
    "\n",
    "    class Sum(e1: Expr, e2: Expr) extends Expr:\n",
    "      def eval: Int = e1.eval + e2.eval\n",
    "  ```\n",
    "\n",
    "- This is known as object-oriented decomposition, where you mix the data object with the relevant operations\n",
    "\n",
    "- Pros: To add a new class of data, you can just add a single class\n",
    "\n",
    "  ```scala\n",
    "    class Product(e1: Expr, e2: Expr) extends Expr:\n",
    "      def eval: Int = e1.eval * e2.eval\n",
    "  ```\n",
    "\n",
    "- Cons: Suppose you wish to add an operation that doesn't just work on a single object\n",
    "  - e.g. I want to simplify `a*b + a*c` into `a * (b+c)`\n",
    "  - This operation is non-local (i.e. involves more than 1 object)\n",
    "  - Therefore, encapsulating the `eval` method within individual classes will still require some sort of eval type check, which we desperately want to avoid"
   ]
  },
  {
   "cell_type": "markdown",
   "metadata": {},
   "source": [
    "## Pattern Matching"
   ]
  },
  {
   "cell_type": "markdown",
   "metadata": {},
   "source": [
    "- Recall from the previous section, we are trying to find a way to access objects in a class hierachy\n",
    "\n",
    "- In the last section, we tried\n",
    "  - Adding common methods to all classes ==> led to quadratic explosion\n",
    "  - Adding type tests ==> Non maintainable code + potentially unsafe\n",
    "  - Object-oriented decomposition ==> Couples data and operations, all classes affected when adding new method\n",
    "\n",
    "- Let's try to generalise what we want to do; basically we need the same method to do different things according to the class it is presented\n",
    "  - In this case, the type checks/decomposition etc are all trying to **reverse** the construction process (i.e. figure out which subclass was used and what the arguments were)\n",
    "\n",
    "- Thankfully in Scala, there is an idiomatic way to do this via **case classes**\n",
    "\n",
    "- This can be applied in 2 steps. First, define the relevant `case class`. Then, use the keyword `match` to check if the input matches the `case class`\n",
    "\n",
    "  ```scala\n",
    "    trait Expr\n",
    "    case class Number(n: Int) extends Expr\n",
    "    case class Sum(e1: Expr, e2: Expr) extends Expr\n",
    "\n",
    "    def eval(e: Expr): Int = e match\n",
    "      case Number(n) => n\n",
    "      case Sum(e1, e2) => eval(e1) + eval(e2)\n",
    "      case _ => throw new Error(\"wtf is this\")\n",
    "  ```\n",
    "\n",
    "- Patterns must match one of:\n",
    "  - constructors e.g. `Number`, `Sum`\n",
    "  - variable e.g. `e1`\n",
    "  - wildcard pattern e.g. `_`\n",
    "  - constants e.g. `true`\n",
    "  - type tests e.g. `n: Number`\n",
    "\n",
    "- The evaluation resolves in the following order\n",
    "  ```scala\n",
    "    //1\n",
    "    eval(Sum(Number(1), Number(2))) \n",
    "\n",
    "    //2\n",
    "    Sum(Number(1), Number(2)) match\n",
    "      case Number(n) => n\n",
    "      case Sum(e1, e2) => eval(e1) + eval(e2)\n",
    "\n",
    "    //3\n",
    "    eval(Number(1)) + eval(Number(2))\n",
    "\n",
    "    //4\n",
    "    Number(1) match\n",
    "      case Number(n) => n\n",
    "      case Sum(e1, e2) => eval(e1) + eval(e2)\n",
    "    + eval(Number(2))\n",
    "\n",
    "    //4\n",
    "    Number(1) match\n",
    "      case Number(n) => n\n",
    "      case Sum(e1, e2) => eval(e1) + eval(e2)\n",
    "    + eval(Number(2))\n",
    "\n",
    "    //5\n",
    "    1 + eval(Number(2))\n",
    "\n",
    "    //6\n",
    "    3\n",
    "  ```\n",
    "\n"
   ]
  },
  {
   "cell_type": "markdown",
   "metadata": {},
   "source": [
    "- As a convenient alternative, you can place the `eval` function under the `Expr` trait\n",
    "  ```scala\n",
    "  trait Expr:\n",
    "    def eval: Int = this match\n",
    "      case Number(n) => n\n",
    "      case Sum(e1, e2) => e1.eval + e2.eval\n",
    "  ```"
   ]
  },
  {
   "cell_type": "markdown",
   "metadata": {},
   "source": [
    "### Exercise"
   ]
  },
  {
   "cell_type": "markdown",
   "metadata": {},
   "source": [
    "- Write a function show that uses pattern matching to return the\n",
    "representation of a given expressions as a string.\n",
    "\n",
    "  ```scala\n",
    "    def show(e: Expr): String = ???\n",
    "  ```"
   ]
  },
  {
   "cell_type": "markdown",
   "metadata": {},
   "source": [
    "- See `2-slides.scala`"
   ]
  },
  {
   "cell_type": "markdown",
   "metadata": {},
   "source": [
    "### Exercise 2"
   ]
  },
  {
   "cell_type": "markdown",
   "metadata": {},
   "source": [
    "- Add case classes Var for variables x and Prod for products x * y as discussed previously.\n",
    "\n",
    "- Change your show function so that it also deals with products. Pay attention you get operator precedence right but to use as few parentheses as possible\n",
    "\n",
    "- Examples\n",
    "  - Sum(Prod(2, Var(\"x\")), Var(\"y\")) ==> \"2 * x + y\"\n",
    "  - Prod(Sum(2, Var(\"x\")), Var(\"y\")) ==> \"(2 + x) * y\""
   ]
  },
  {
   "cell_type": "markdown",
   "metadata": {},
   "source": [
    "- See 2-slides.scala"
   ]
  }
 ],
 "metadata": {
  "language_info": {
   "name": "python"
  }
 },
 "nbformat": 4,
 "nbformat_minor": 2
}
