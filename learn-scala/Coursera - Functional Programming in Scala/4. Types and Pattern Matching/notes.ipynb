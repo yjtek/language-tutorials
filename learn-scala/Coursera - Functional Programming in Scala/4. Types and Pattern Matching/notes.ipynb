{
 "cells": [
  {
   "cell_type": "markdown",
   "metadata": {},
   "source": [
    "# Types and Pattern Matching"
   ]
  },
  {
   "cell_type": "markdown",
   "metadata": {},
   "source": [
    "## Decomposition"
   ]
  },
  {
   "cell_type": "markdown",
   "metadata": {},
   "source": [
    "- Let's motivate this with an example; suppose we want to write an interpreter for arithmetic expressions\n",
    "\n",
    "- For simplicity, let's only deal with 2 types of Expressions; either I get a `Number`, or I get a `Sum`\n",
    "  - That is, in my evaluator, either I receieve a number, or an expression of a `Sum` of 2 `Numbers`\n",
    "\n",
    "  ```scala\n",
    "    trait Expr:\n",
    "      def isNumber: Boolean\n",
    "      def isSum: Boolean\n",
    "      def numValue: Int\n",
    "      def leftOp: Expr\n",
    "      def rightOp: Expr\n",
    "\n",
    "    class Number(n: Int) extends Expr:\n",
    "      def isNumber = true\n",
    "      def isSum = false\n",
    "      def numValue = n\n",
    "      def leftOp = throw new Error(\"Number.leftOp\")\n",
    "      def rightOp = throw new Error(\"Number.rightOp\")\n",
    "\n",
    "    class Sum(e1: Expr, e2: Expr) extends Expr:\n",
    "      def isNumber = false\n",
    "      def isSum = true\n",
    "      def numValue = throw new Error(\"Sum.numValue\")\n",
    "      def leftOp = e1\n",
    "      def rightOp = e2\n",
    "  ```\n"
   ]
  },
  {
   "cell_type": "markdown",
   "metadata": {},
   "source": [
    "- Let's try to implement the evaluator `eval`\n",
    "  ```scala\n",
    "    def eval(e: Expr): Int = \n",
    "      if e.isNumber then e.numValue\n",
    "      else if e.isSum then eval(e.leftOp) + eval(e.rightOp)\n",
    "      else throw new Error(\"Unknown expression \" + e)\n",
    "  ```"
   ]
  },
  {
   "cell_type": "markdown",
   "metadata": {},
   "source": [
    "- This works, but what if we want to add in operators like multiply? Subtract? Divide?\n",
    "  - It will become super messy\n",
    "  - And it will be hell on earth to run the evaluator, because before parsing, you need to check the `Expr` type properly, or you may access members that are not available (e.g. trying to access `numValue` in a Sum)\n",
    "\n",
    "  ```scala\n",
    "  class Prod(e1: Expr, e2: Expr) extends Expr\n",
    "\n",
    "  class Var(x: String) extends Expr\n",
    "\n",
    "  ```\n",
    "\n",
    "- Exercise: To integrate Prod and Var into the hierarchy, how many new method\n",
    "definitions do you need?\n",
    "  - isProd\n",
    "  - isVar\n",
    "  - [Optional] varValue \n",
    "  - So depending on implementation, you are adding more than 10 new methods for a basic change!"
   ]
  },
  {
   "cell_type": "markdown",
   "metadata": {},
   "source": [
    "### (Bad) Solution 1: Type Tests and Type Casts"
   ]
  },
  {
   "cell_type": "markdown",
   "metadata": {},
   "source": [
    "- In `eval` You can deliberately check the type of the `Expr` before doing the evaluation\n",
    "\n",
    "- This is both ugly and not scalable\n",
    "\n",
    "  ```scala\n",
    "    def eval(e: Expr): Int = {\n",
    "      if e.isInstanceOf[Number] then\n",
    "        e.asInstanceOf[Number].numValue\n",
    "      else if e.isInstanceOf[Sum] then\n",
    "        eval(e.leftOp) + eval(e.rightOp)\n",
    "      else\n",
    "        throw Error(\"Unknown Expression \" + e)\n",
    "    }\n",
    "  ```"
   ]
  },
  {
   "cell_type": "markdown",
   "metadata": {},
   "source": [
    "### Solution 2: Object-Oriented Decomposition"
   ]
  },
  {
   "cell_type": "markdown",
   "metadata": {},
   "source": [
    "- Instead of a single eval function, you could add `eval` as an abstract method to the `Expr` trait, then initialise it in each of the subclasses\n",
    "\n",
    "  ```scala\n",
    "    trait Expr:\n",
    "      def eval: Int\n",
    "\n",
    "    class Number(n: Int) extends Expr:\n",
    "      def eval: Int = n\n",
    "\n",
    "    class Sum(e1: Expr, e2: Expr) extends Expr:\n",
    "      def eval: Int = e1.eval + e2.eval\n",
    "  ```\n",
    "\n",
    "- This is known as object-oriented decomposition, where you mix the data object with the relevant operations\n",
    "\n",
    "- Pros: To add a new class of data, you can just add a single class\n",
    "\n",
    "  ```scala\n",
    "    class Product(e1: Expr, e2: Expr) extends Expr:\n",
    "      def eval: Int = e1.eval * e2.eval\n",
    "  ```\n",
    "\n",
    "- Cons: Suppose you wish to add an operation that doesn't just work on a single object\n",
    "  - e.g. I want to simplify `a*b + a*c` into `a * (b+c)`\n",
    "  - This operation is non-local (i.e. involves more than 1 object)\n",
    "  - Therefore, encapsulating the `eval` method within individual classes will still require some sort of eval type check, which we desperately want to avoid"
   ]
  },
  {
   "cell_type": "markdown",
   "metadata": {},
   "source": [
    "## Pattern Matching"
   ]
  },
  {
   "cell_type": "markdown",
   "metadata": {},
   "source": [
    "- Recall from the previous section, we are trying to find a way to access objects in a class hierachy\n",
    "\n",
    "- In the last section, we tried\n",
    "  - Adding common methods to all classes ==> led to quadratic explosion\n",
    "  - Adding type tests ==> Non maintainable code + potentially unsafe\n",
    "  - Object-oriented decomposition ==> Couples data and operations, all classes affected when adding new method\n",
    "\n",
    "- Let's try to generalise what we want to do; basically we need the same method to do different things according to the class it is presented\n",
    "  - In this case, the type checks/decomposition etc are all trying to **reverse** the construction process (i.e. figure out which subclass was used and what the arguments were)\n",
    "\n",
    "- Thankfully in Scala, there is an idiomatic way to do this via **case classes**\n",
    "\n",
    "- This can be applied in 2 steps. First, define the relevant `case class`. Then, use the keyword `match` to check if the input matches the `case class`\n",
    "\n",
    "  ```scala\n",
    "    trait Expr\n",
    "    case class Number(n: Int) extends Expr\n",
    "    case class Sum(e1: Expr, e2: Expr) extends Expr\n",
    "\n",
    "    def eval(e: Expr): Int = e match\n",
    "      case Number(n) => n\n",
    "      case Sum(e1, e2) => eval(e1) + eval(e2)\n",
    "      case _ => throw new Error(\"wtf is this\")\n",
    "  ```\n",
    "\n",
    "- Patterns must match one of:\n",
    "  - constructors e.g. `Number`, `Sum`\n",
    "  - variable e.g. `e1`\n",
    "  - wildcard pattern e.g. `_`\n",
    "  - constants e.g. `true`\n",
    "  - type tests e.g. `n: Number`\n",
    "\n",
    "- The evaluation resolves in the following order\n",
    "  ```scala\n",
    "    //1\n",
    "    eval(Sum(Number(1), Number(2))) \n",
    "\n",
    "    //2\n",
    "    Sum(Number(1), Number(2)) match\n",
    "      case Number(n) => n\n",
    "      case Sum(e1, e2) => eval(e1) + eval(e2)\n",
    "\n",
    "    //3\n",
    "    eval(Number(1)) + eval(Number(2))\n",
    "\n",
    "    //4\n",
    "    Number(1) match\n",
    "      case Number(n) => n\n",
    "      case Sum(e1, e2) => eval(e1) + eval(e2)\n",
    "    + eval(Number(2))\n",
    "\n",
    "    //4\n",
    "    Number(1) match\n",
    "      case Number(n) => n\n",
    "      case Sum(e1, e2) => eval(e1) + eval(e2)\n",
    "    + eval(Number(2))\n",
    "\n",
    "    //5\n",
    "    1 + eval(Number(2))\n",
    "\n",
    "    //6\n",
    "    3\n",
    "  ```\n",
    "\n"
   ]
  },
  {
   "cell_type": "markdown",
   "metadata": {},
   "source": [
    "- As a convenient alternative, you can place the `eval` function under the `Expr` trait\n",
    "  ```scala\n",
    "  trait Expr:\n",
    "    def eval: Int = this match\n",
    "      case Number(n) => n\n",
    "      case Sum(e1, e2) => e1.eval + e2.eval\n",
    "  ```"
   ]
  },
  {
   "cell_type": "markdown",
   "metadata": {},
   "source": [
    "### Exercise"
   ]
  },
  {
   "cell_type": "markdown",
   "metadata": {},
   "source": [
    "- Write a function show that uses pattern matching to return the\n",
    "representation of a given expressions as a string.\n",
    "\n",
    "  ```scala\n",
    "    def show(e: Expr): String = ???\n",
    "  ```"
   ]
  },
  {
   "cell_type": "markdown",
   "metadata": {},
   "source": [
    "- See `2-slides.scala`"
   ]
  },
  {
   "cell_type": "markdown",
   "metadata": {},
   "source": [
    "### Exercise 2"
   ]
  },
  {
   "cell_type": "markdown",
   "metadata": {},
   "source": [
    "- Add case classes Var for variables x and Prod for products x * y as discussed previously.\n",
    "\n",
    "- Change your show function so that it also deals with products. Pay attention you get operator precedence right but to use as few parentheses as possible\n",
    "\n",
    "- Examples\n",
    "  - Sum(Prod(2, Var(\"x\")), Var(\"y\")) ==> \"2 * x + y\"\n",
    "  - Prod(Sum(2, Var(\"x\")), Var(\"y\")) ==> \"(2 + x) * y\""
   ]
  },
  {
   "cell_type": "markdown",
   "metadata": {},
   "source": [
    "- See 2-slides.scala"
   ]
  },
  {
   "cell_type": "markdown",
   "metadata": {},
   "source": [
    "## Lists"
   ]
  },
  {
   "cell_type": "markdown",
   "metadata": {},
   "source": [
    "- You should have noticed by now that most of Scala revolves around recursive patterns when writing functions. This is because Scala wishes to maintain the state of any input value, and in a functional programming paradigm, you want to ensure that variables are immutable as far as possible\n",
    "\n",
    "- Let's talk about a common data structure in Scala, the `List`\n",
    "\n",
    "- `List` vs `Array`\n",
    "  - Same\n",
    "    - Both of homogeneous, and you need to declare type up front (e.g. `List[Int]`)\n",
    "\n",
    "  - Different\n",
    "    - Lists are immutable, arrays are not\n",
    "    - Lists are recursive, arrays are flat\n",
    "      - i.e. a list can contain another list, an array cannot contain another array\n",
    "\n",
    "- `List` comes with a new operator, known as `Cons` or **construction**\n",
    "  - To get a new list, you can do something like `value :: existing_list`\n",
    "  - Examples:\n",
    "    - `1 :: 2 :: existing_list` ==> List(1, 2, ...)\n",
    "    - `x :: Nil` ==> List(x)\n",
    "    - `List()` ==> Nil\n",
    "    - `List(2 :: existing_list)` ==> List(2, ...)\n",
    " \n",
    "- `List` has 3 built in operations\n",
    "  - List.head returns the first item in the list\n",
    "  - List.tail returns the **list of all remaining items**\n",
    "  - List.isEmpty returns a boolean checking whether your list is empty"
   ]
  },
  {
   "cell_type": "markdown",
   "metadata": {},
   "source": [
    "### Exercise 1"
   ]
  },
  {
   "cell_type": "markdown",
   "metadata": {},
   "source": [
    "- Consider the pattern `x :: y :: List(xs, ys) :: zs`.  What is the condition that describes most accurately the length L of the lists it matches?\n",
    "\n",
    "- Answer\n",
    "  - For a list construction to be valid the right most value must be a valid list (could be empty List())\n",
    "  - Lets suppose that `x` and `y` are values, and `xs`, `ys`, and `zs` are Lists of values\n",
    "  - Recall that `List` must be homogeneous. So no matter what, this is a List of Lists\n",
    "  - Since our 3rd element is explicitly a `List`, even if `x` and `y` are Nil, the will be defaulted to an empty list `List()`\n",
    "  - However, if `zs` is Nil, it will be dropped from the final list (because `xs :: Nil = xs`)\n",
    "\n",
    "  - Therefore, the minimum number of elements must be 3"
   ]
  },
  {
   "cell_type": "markdown",
   "metadata": {},
   "source": [
    "### Exercise 2: Insertion Sort"
   ]
  },
  {
   "cell_type": "markdown",
   "metadata": {},
   "source": [
    "- Suppose we want to sort a list of numbers in ascending order. We implement insertion sort by doing this:\n",
    "  - Suppose we have List(7,3,9,2)\n",
    "  - To sort it, tail and sort the list to obtain List(2, 3, 9)\n",
    "  - Then, traverse list to find the right place for 7\n",
    "\n",
    "  ```scala\n",
    "    def isort(xs: List[Int]): List[Int] = xs match\n",
    "      case List() => List()\n",
    "      case y :: ys => insert(y, isort(ys))\n",
    "\n",
    "    def insert(x: Int, xs: List[Int]): List[Int] = xs match\n",
    "      case List() => ???\n",
    "      case y :: ys => ???\n",
    "  ```\n",
    "\n",
    "  - See `3-slides.scala` for implementation"
   ]
  },
  {
   "cell_type": "markdown",
   "metadata": {},
   "source": [
    "- What is the worst-case complexity of insertion sort relative to the length of the input list N?\n",
    "  - For each element, it takes at most $O(N)$ time\n",
    "  - For the entire list, worst case is $O(N^2)$"
   ]
  },
  {
   "cell_type": "markdown",
   "metadata": {},
   "source": [
    "## Enums"
   ]
  },
  {
   "cell_type": "markdown",
   "metadata": {
    "vscode": {
     "languageId": "plaintext"
    }
   },
   "source": [
    "- We've seen in the last section how to model data with class hierachie. Classes are a useful construct to group functions operating on some common set of values, which are typically declared as fields\n",
    "  - This is super neat, because data is encapsulated with their corresponding functions\n",
    "\n",
    "- But what about cases where we want to store just data (**pure data**), without any associated methods?\n",
    "  - In such cases, the `case class ...` and pattern matching approach works quite well"
   ]
  },
  {
   "cell_type": "markdown",
   "metadata": {},
   "source": [
    "- Recall from the last section that we were trying to write an evaluator. This is the case class hierachy we established. If you need (for whatever reason) to work with individual case class, you can always do `import Expr.*` \n",
    "\n",
    "  ```scala\n",
    "    trait Expr\n",
    "    object Expr:\n",
    "      case class Var(s: String) extends Expr\n",
    "      case class Number(n: Int) extends Expr\n",
    "      case class Sum(e1: Expr, e2: Expr) extends Expr\n",
    "      case class Prod(e1: Expr, e2: Expr) extends Expr\n",
    "  ```\n",
    "\n",
    "- In Scala, a pure data definition like this (i.e. object with no associated method) is known as an **algebraic data type**, or ADT\n",
    "\n",
    "- Since such cases as so common, Scala offers some special syntax to write this easily `enum`\n",
    "\n",
    "  ```scala\n",
    "    enum Expr:\n",
    "      case Var(s: String)\n",
    "      case Number(n: Int)\n",
    "      case Sum(e1: Expr, e2: Expr)\n",
    "      case Prod(e1: Expr, e2: Expr)\n",
    "  ```\n",
    "\n",
    "- Using `match` expressions on `enum` is almost the same syntax;\n",
    "\n",
    "  ```scala\n",
    "    def show(e: Expr): String = e match\n",
    "      case Expr.Var(x) => x\n",
    "      case Expr.Number(n) => n.toString\n",
    "      case Expr.Sum(e1, e2) => s\"${show(e1)} + ${show(e2)}\"\n",
    "      case Expr.Prod(e1, e2) => s\"${showP(e1)} * ${showP(e2)}\"\n",
    "    \n",
    "    def showP(e: Expr): String = e match\n",
    "      case Expr.Sum => s\"(${show(e)})\"\n",
    "      case _ => show(e)\n",
    "  ```"
   ]
  },
  {
   "cell_type": "markdown",
   "metadata": {
    "vscode": {
     "languageId": "plaintext"
    }
   },
   "source": [
    "- In fact, `enum` can also work for classes that don't take parameters!\n",
    "\n",
    "  ```scala\n",
    "    enum Color:\n",
    "      case Red\n",
    "      case Green\n",
    "      case Blue\n",
    "\n",
    "    // same as \n",
    "    enum Color:\n",
    "      case Red, Green Blue\n",
    "  ```\n",
    "\n",
    "- Matching works the same way\n",
    "\n",
    "```scala\n",
    "  def isBlue(color: Color) = color match \n",
    "    case Blue => true\n",
    "    case _ => false\n",
    "```"
   ]
  },
  {
   "cell_type": "markdown",
   "metadata": {},
   "source": [
    "- `enum` definition can even be composed of other enums. This sort of implicit hierachy makes it really easy to organise and define nested type structures\n",
    "  ```scala \n",
    "    enum PaymentMethod:\n",
    "      case CreditCard(kind: Card, holder: String, number: Long, expires: Date)\n",
    "      case PayPal(email: String)\n",
    "      case Cash\n",
    "\n",
    "    enum Card:\n",
    "      case Visa, Mastercard, Amex\n",
    "  ```"
   ]
  },
  {
   "cell_type": "markdown",
   "metadata": {},
   "source": [
    "- Like `enum` in python, Scala enums implicitly match each case to an ordinal value \n",
    "  - Every `enum` class has a `.values` method attached that returns an Array with all the case class names\n",
    "  - You can view the names using this method \n",
    "  - To get the ordinal value of the concrete instantiation, you can use the `ordinal` keyword\n",
    "\n",
    "  ```scala\n",
    "    enum Direction(val dx: Int, val dy: Int):\n",
    "      case Right extends Direction( 1, 0) \n",
    "      case Up extends Direction( 0, 1) //ordinal 1\n",
    "      case Left extends Direction(-1, 0) //ordinal 2\n",
    "      case Down extends Direction( 0, -1) //ordinal 3\n",
    "\n",
    "     def leftTurn = Direction.values((ordinal + 1) % 4)\n",
    "    end Direction\n",
    "\n",
    "    val r = Direction.Right\n",
    "    val u = x.leftTurn // u = Up\n",
    "    val v = (u.dx, u.dy) // v = (1, 0)\n",
    "  ```\n",
    "\n",
    "- Note that any enum `case` that requires parameters to be passed needs the `extend` keyword\n",
    "  - i.e. `case Right extends Direction( 1, 0) ` --> needs `extends`, but `case Var(s: String)` does not\n",
    "\n",
    "- Note that any enum `case` that takes in parameters **DOES NOT** have an associated ordinal number\n",
    "  - i.e. `case Right extends Direction( 1, 0) ` --> has an ordinal number, but `case Var(s: String)` does not"
   ]
  },
  {
   "cell_type": "markdown",
   "metadata": {},
   "source": [
    "## Subtyping and Generics"
   ]
  },
  {
   "cell_type": "markdown",
   "metadata": {},
   "source": [
    "- In this section, we're introducing quite a new concept that Python doesn't support. \n",
    "\n",
    "- We'll look into `bounds` and `variance`"
   ]
  },
  {
   "cell_type": "markdown",
   "metadata": {},
   "source": [
    "### Type Bounds"
   ]
  },
  {
   "cell_type": "markdown",
   "metadata": {},
   "source": [
    "- In Scala, type checks are enforced strictly. So in general, if you declare that a function will accept some input of type A, you should be able to pass subtypes of A, but not supertypes of A\n",
    "  \n",
    "- However, this is still somewhat ambiguous. It is idiomatic (though not compulsory) in Scala that you declare the boundary of the input you are providing\n",
    "\n",
    "- For example, let's suppose we have a `Shape` superclass, with `Circle` and `Triangle` as the subclasses\n",
    "  - We wish to create a function `increment_area` that can work on any subclass of `Shape`, so you don't need to create a different function for each type, and add to it everytime you have a new subclass of Shape\n",
    "  \n",
    "  - Let's further assume we want the `increment_area` to stop working past the `Shape` class\n",
    "\n",
    "  - Then we can ues the same notation, to enforce a mixed boundary of types, where `<:` means less than or equal to type, and `>:` means greater than or equal to type\n",
    "\n",
    "  ```scala    \n",
    "    class Shape \n",
    "\n",
    "    class Circle extends Shape \n",
    "    class Triangle extends Shape\n",
    "\n",
    "    class SubCircle extends Circle\n",
    "\n",
    "    def increment_area[U <: Shape >: SubCircle](x: U): U = { ??? }\n",
    "  ```\n"
   ]
  },
  {
   "cell_type": "markdown",
   "metadata": {},
   "source": [
    "### Covariance"
   ]
  },
  {
   "cell_type": "markdown",
   "metadata": {},
   "source": [
    "- So far, we deal with direct type boundaries; that is, we wish to add types to objects that are \"simple\"\n",
    "\n",
    "- But there are cases where objects can be made up of other objects. Remember, in Scala, everything is an object! So, for example, a function can also have subtypes, a List can also have subtypes etc\n",
    "\n",
    "- With complex objects, it becomes more complicated to discuss typing. Do we always want to have `List[A] <: List[B]` if `A <: B`? Are there cases where we want to have `List[A] <: List[B]` if `A >: B`?"
   ]
  },
  {
   "cell_type": "markdown",
   "metadata": {},
   "source": [
    "- For perspective, we'll consider the case of Arrays in Java vs Scala\n",
    "  - In Java, arrays are covariant. So `Array[A] <: Array[B]` if A <: B\n",
    "  - In Scala, arrays are not covariant."
   ]
  },
  {
   "cell_type": "markdown",
   "metadata": {},
   "source": [
    "- This causes some problems in Java. Let's see how using the Java block below\n",
    "  ```java\n",
    "    NonEmpty [] a = new NonEmpty []{\n",
    "      new NonEmpty(1, new Empty(), new Empty ())};\n",
    "    IntSet [] b = a;\n",
    "    b[0] = new Empty ();\n",
    "    NonEmpty s = a[0];\n",
    "  ```\n",
    "\n",
    "- Notice how "
   ]
  },
  {
   "cell_type": "markdown",
   "metadata": {},
   "source": [
    "- Let's consider this case in Scala\n",
    "\n",
    "```scala\n",
    "  val a: Array[NonEmpty] = Array(NonEmpty(1, Empty(), Empty()))\n",
    "  val b: Array[IntSet] = a\n",
    "  b(0) = Empty()\n",
    "  val s: NonEmpty = a(0)\n",
    "```\n",
    "\n",
    "- When you try out this example, what do you observe?\n",
    "  - You will see an error in line 2, because "
   ]
  },
  {
   "cell_type": "code",
   "execution_count": null,
   "metadata": {},
   "outputs": [],
   "source": []
  },
  {
   "cell_type": "code",
   "execution_count": null,
   "metadata": {},
   "outputs": [],
   "source": []
  },
  {
   "cell_type": "code",
   "execution_count": null,
   "metadata": {},
   "outputs": [],
   "source": []
  },
  {
   "cell_type": "code",
   "execution_count": null,
   "metadata": {},
   "outputs": [],
   "source": []
  },
  {
   "cell_type": "code",
   "execution_count": null,
   "metadata": {},
   "outputs": [],
   "source": []
  },
  {
   "cell_type": "code",
   "execution_count": null,
   "metadata": {},
   "outputs": [],
   "source": []
  },
  {
   "cell_type": "code",
   "execution_count": null,
   "metadata": {},
   "outputs": [],
   "source": []
  },
  {
   "cell_type": "code",
   "execution_count": null,
   "metadata": {},
   "outputs": [],
   "source": []
  },
  {
   "cell_type": "code",
   "execution_count": null,
   "metadata": {},
   "outputs": [],
   "source": []
  },
  {
   "cell_type": "markdown",
   "metadata": {},
   "source": [
    "- Definition of Liskov Substitution: A subtype must always be able to replace a supertype. If A <: B, then everything that B can do, A must be able to do \n",
    "\n",
    "- Imagine functions F(A1): B1 and G(A2): B2. What must be true if F() <: G()?\n",
    "  - A1 >: A2\n",
    "    - Because if I want to substitute G() with F(), everything that I pass to G, I will also pass to F\n",
    "    - Therefore, I must be able to pass A2 to F()\n",
    "    - And for me to be sure that A2 will work in F() as it does in G(), A2 must be a subclass of A1 \n",
    "  - B1 <: B2\n",
    "    - Because if I want to substitute G() with F(), anything that F() returns must be seen as the same thing that G() returns\n",
    "    - That is, anything that I can do with B2 downstream, I must also be able to do with B1 downstream\n",
    "    - Therefore, B1 <: B2"
   ]
  }
 ],
 "metadata": {
  "kernelspec": {
   "display_name": "data_science",
   "language": "python",
   "name": "python3"
  },
  "language_info": {
   "codemirror_mode": {
    "name": "ipython",
    "version": 3
   },
   "file_extension": ".py",
   "mimetype": "text/x-python",
   "name": "python",
   "nbconvert_exporter": "python",
   "pygments_lexer": "ipython3",
   "version": "3.11.8"
  }
 },
 "nbformat": 4,
 "nbformat_minor": 2
}
