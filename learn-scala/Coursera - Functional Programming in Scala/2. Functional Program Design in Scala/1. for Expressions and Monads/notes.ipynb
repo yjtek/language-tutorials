{
 "cells": [
  {
   "cell_type": "markdown",
   "metadata": {},
   "source": [
    "## Recap"
   ]
  },
  {
   "cell_type": "markdown",
   "metadata": {},
   "source": [
    "### Expressing class hierachies"
   ]
  },
  {
   "cell_type": "markdown",
   "metadata": {},
   "source": [
    "- Case classes are Scala’s preferred way to define complex data\n",
    "\n",
    "- As an example, we'll try to represent JSON with Scala's case class\n",
    "  ```\n",
    "  { \n",
    "    \"firstName\" : \"John\",\n",
    "    \"lastName\" : \"Smith\",\n",
    "    \"address\": {\n",
    "      \"streetAddress\": \"21 2nd Street\",\n",
    "      \"state\": \"NY\",\n",
    "      \"postalCode\": 10021\n",
    "    },\n",
    "    \"phoneNumbers\": [\n",
    "      {\"type\": \"home\", \"number\": \"212 555-1234\"},\n",
    "      {\"type\": \"fax\", \"number\": \"646 555-4567\"}\n",
    "    ]\n",
    "  }\n",
    "  ```"
   ]
  },
  {
   "cell_type": "markdown",
   "metadata": {},
   "source": [
    "#### Using abstract class + companion object"
   ]
  },
  {
   "cell_type": "markdown",
   "metadata": {},
   "source": [
    "- Think of the abstract class + companion object design pattern as akin to an `Enum`\n",
    "\n",
    "- You have some abstract class (e.g. `Animal`), and you have some `case class` which are inheriting from `Animal` (e.g. LandAnimal, SeaAnimal)\n",
    "\n",
    "- You don't want to pollute your namespace with these classes, but you want it to be clear how these are related. The abstract class + companion object pattern allows you to do exactly this\n",
    "\n",
    "- The companion object also lets you define specific methods for the abstract class that you can use. This differs from defining an abstract method, where a method defined in the abstract class itself instead of the companion object must be implemented by all classes extending it\n",
    "\n",
    "- Similarly, anything implmented directly in the abstract class is inherited by the subclasses extending it\n",
    "\n",
    "  ```scala\n",
    "  abstract class JSON\n",
    "    def abstractMethod: Nil \n",
    "\n",
    "    val a: Int = 123 //inherited\n",
    "\n",
    "  object JSON:\n",
    "    case class Seq (elems: List[JSON]) extends JSON\n",
    "    case class Obj (bindings: Map[String, JSON]) extends JSON\n",
    "    case class Num (num: Double) extends JSON\n",
    "    case class Str (str: String) extends JSON\n",
    "    case class Bool(b: Boolean) extends JSON\n",
    "    case object Null extends JSON\n",
    "\n",
    "    def abstractClassMethod() = {\n",
    "      println(\"call using JSON.abstractClassMethod()\")\n",
    "    }\n",
    "  ```\n",
    "\n"
   ]
  },
  {
   "cell_type": "markdown",
   "metadata": {},
   "source": [
    "#### Using enums"
   ]
  },
  {
   "cell_type": "markdown",
   "metadata": {},
   "source": [
    "- In most cases, if all you want to represent is some class hierachy, then Enums are a more concise way of doing things\n",
    "  \n",
    "  ```scala\n",
    "    enum JSON:\n",
    "      case Seq (elems: List[JSON])\n",
    "      case Obj (bindings: Map[String, JSON])\n",
    "      case Num (num: Double)\n",
    "      case Str (str: String)\n",
    "      case Bool(b: Boolean)\n",
    "      case Null\n",
    "\n",
    "  val jsData = JSON.Obj(Map(\n",
    "    \"firstName\" -> JSON.Str(\"John\"),\n",
    "    \"lastName\" -> JSON.Str(\"Smith\"),\n",
    "    \"address\" -> JSON.Obj(Map(\n",
    "      \"streetAddress\" -> JSON.Str(\"21 2nd Street\"),\n",
    "      \"state\" -> JSON.Str(\"NY\"),\n",
    "      \"postalCode\" -> JSON.Num(10021)\n",
    "    )),\n",
    "    \"phoneNumbers\" -> JSON.Seq(List(\n",
    "      JSON.Obj(Map(\n",
    "        \"type\" -> JSON.Str(\"home\"), \n",
    "        \"number\" -> JSON.Str(\"212 555-1234\")\n",
    "      )),\n",
    "      JSON.Obj(Map(\n",
    "        \"type\" -> JSON.Str(\"fax\"), \n",
    "        \"number\" -> JSON.Str(\"646 555-4567\")\n",
    "      )) \n",
    "    )) \n",
    "  ))\n",
    "  ```"
   ]
  },
  {
   "cell_type": "markdown",
   "metadata": {},
   "source": [
    "#### Displaying JSON"
   ]
  },
  {
   "cell_type": "markdown",
   "metadata": {},
   "source": [
    "- Using the `JSON` class hierachy, we can write the following method `show(json: JSON): String` that displays a json object\n",
    "\n",
    "```scala\n",
    "def inQuotes(str: String): String = {\n",
    "  \"\\\"\" + str + \"\\\"\"\n",
    "}\n",
    "\n",
    "def show(json: JSON): String = {\n",
    "  json match\n",
    "    case JSON.Seq(elems) =>\n",
    "      elems.map(show).mkString(\"[\", \", \", \"]\")\n",
    "    case JSON.Obj(bindings) =>\n",
    "      val assocs = bindings.map(\n",
    "        (key, value) => s\"${inQuotes(key)}: ${show(value)}\"\n",
    "      )\n",
    "      assocs.mkString(\"{\", \",\\n \", \"}\")\n",
    "    case JSON.Num(num) => num.toString\n",
    "    case JSON.Str(str) => inQuotes(str)\n",
    "    case JSON.Bool(b) => b.toString\n",
    "    case JSON.Null => \"null\"\n",
    "}\n",
    "```"
   ]
  },
  {
   "cell_type": "markdown",
   "metadata": {},
   "source": [
    "### Collections "
   ]
  },
  {
   "cell_type": "markdown",
   "metadata": {},
   "source": [
    "- Scala has a fixed hierachy built-ins to represent collections\n",
    "  - Iterable\n",
    "    - Seq\n",
    "      - List\n",
    "    - Set\n",
    "    - Map\n",
    "\n",
    "- Some core methods of all of these are\n",
    "  - map\n",
    "  - flatMap\n",
    "  - filter\n",
    "  - foldLeft/foldRight\n",
    "\n",
    "```scala\n",
    "  extension[T](xs: List[T])\n",
    "    def map[U](f: T => U): List[U] = {\n",
    "      xs match\n",
    "        case head :: tail => {\n",
    "          f(head) :: tail.map(f)\n",
    "        }\n",
    "        case Nil => Nil\n",
    "    }\n",
    "\n",
    "    def flatMap[U](f: T=>List[U]): List[U] = {\n",
    "      xs match \n",
    "        case head :: tail => {\n",
    "          f(head) ++ tail.flatMap(f)\n",
    "        }\n",
    "        case Nil => Nil\n",
    "    }\n",
    "\n",
    "    def filter(f: T => Boolean): List[T] = {\n",
    "      xs match\n",
    "        case head :: tail => {\n",
    "          if f(head) then head :: tail.filter(f)\n",
    "          else tail.filter(f)\n",
    "        }\n",
    "        case Nil => Nil\n",
    "    }\n",
    "```"
   ]
  },
  {
   "cell_type": "markdown",
   "metadata": {},
   "source": [
    "### for expressions"
   ]
  },
  {
   "cell_type": "markdown",
   "metadata": {},
   "source": [
    "- This is syntactic sugar. The 2 cases below are equal\n",
    "\n",
    "```scala\n",
    "  (1 to n)(i => \n",
    "    (1 until i)(j => \n",
    "      filter isPrime(i+j)\n",
    "      map (i,j)\n",
    "    )\n",
    "  )\n",
    "\n",
    "  for \n",
    "    i <- (1 to n)\n",
    "    j <- (1 to i)\n",
    "    if isPrime(i+j)\n",
    "  yield\n",
    "    (i,j)\n",
    "```"
   ]
  },
  {
   "cell_type": "markdown",
   "metadata": {},
   "source": [
    "- Applying this to the JSON class we defined earlier:\n",
    "\n",
    "```scala\n",
    "  def bindings(x: JSON): List[(String, JSON)] = {\n",
    "    x match\n",
    "      case JSON.Obj(bindings) => bindings.toList\n",
    "      case _ => Nil\n",
    "  }\n",
    "\n",
    "  for \n",
    "    case (\"phoneNumbers\", JSON.Seq(numberInfos)) <- bindings(jsData)\n",
    "    numberInfo <- numberInfos\n",
    "    case (\"number\", JSON.Str(number)) <- bindings(numberInfo)\n",
    "    if number.startsWith(\"212\")\n",
    "  yield\n",
    "    number\n",
    "\n",
    "```"
   ]
  },
  {
   "cell_type": "markdown",
   "metadata": {},
   "source": [
    "## `for` Comprehension"
   ]
  },
  {
   "cell_type": "markdown",
   "metadata": {},
   "source": [
    "- In Scala, the ability to match patterns using `for` loop is a really convenient pattern\n",
    "\n",
    "- Let's imagine we have the following \"database\"\n",
    "\n",
    "  ```scala\n",
    "    val books: List[Book] = List(\n",
    "      Book(\n",
    "        title = \"Structure and Interpretation of Computer Programs\",\n",
    "        authors = List(\"Abelson, Harald\", \"Sussman, Gerald J.\")\n",
    "      ),\n",
    "      Book(\n",
    "        title = \"Introduction to Functional Programming\",\n",
    "        authors = List(\"Bird, Richard\", \"Wadler, Phil\")\n",
    "      ),\n",
    "      Book(\n",
    "        title = \"Effective Java\",\n",
    "        authors = List(\"Bloch, Joshua\")\n",
    "      ),\n",
    "      Book(\n",
    "        title = \"Java Puzzlers\",\n",
    "        authors = List(\"Bloch, Joshua\", \"Gafter, Neal\")\n",
    "      ),\n",
    "      Book(\n",
    "        title = \"Programming in Scala\",\n",
    "        authors = List(\"Odersky, Martin\", \"Spoon, Lex\", \"Venners, Bill\")\n",
    "      )\n",
    "    )\n",
    "  ```\n",
    "\n",
    "- Pattern matching allows us to use a `for` loop to generate the the Seq that we want. Suppose we want all titles where the author's name contains the letter `W`. Then\n",
    "  ```scala\n",
    "    for\n",
    "      b <- books\n",
    "      a <- book.authors\n",
    "      if a.contains(\"W\")\n",
    "    yield\n",
    "      b.title\n",
    "  ```\n",
    "\n",
    "- Let's do something a bit more complex. Find the names of all authors who have written at least two books present in the database.\n",
    "  - See 2-slides.scala"
   ]
  },
  {
   "cell_type": "markdown",
   "metadata": {},
   "source": [
    "## Translation of a `for`"
   ]
  },
  {
   "cell_type": "markdown",
   "metadata": {},
   "source": [
    "- A `for` loop can be used to express many functions, including those that are treated as built ins\n",
    "  \n",
    "  ```scala\n",
    "    def mapFun[T, U](xs: List[T], f: T => U): List[U] = {\n",
    "      for\n",
    "        x <- xs\n",
    "      yield\n",
    "        f(x)\n",
    "    }\n",
    "\n",
    "    def flatMap[T, U](xs: List[T], f: T => Iterable[U]): List[U] = {\n",
    "      for \n",
    "        x <- xs \n",
    "        y <- f(x) \n",
    "      yield \n",
    "        y\n",
    "    }\n",
    "\n",
    "    def filter[T](xs: List[T], p: T => Boolean): List[T] = {\n",
    "      for \n",
    "        x <- xs \n",
    "        if p(x) \n",
    "      yield \n",
    "        x\n",
    "    }\n",
    "  ```\n",
    "\n",
    "- In fact, Scala's interpreter treats for loops as some of these higher order functions\n",
    "\n",
    "```scala\n",
    "  for\n",
    "    i <- 1 until n\n",
    "    j <- 1 until i\n",
    "    if isPrime(i + j)\n",
    "  yield (i, j)\n",
    "\n",
    "  //equivalent to\n",
    "  (1 until n).flatMap(i =>\n",
    "    (1 until i)\n",
    "      .withFilter(j => isPrime(i+j))\n",
    "      .map(j => (i, j)))\n",
    "```"
   ]
  },
  {
   "cell_type": "markdown",
   "metadata": {},
   "source": [
    "### Exercise"
   ]
  },
  {
   "cell_type": "markdown",
   "metadata": {},
   "source": [
    "- Translate the following expression\n",
    "\n",
    "- See `3-slides.scala`\n",
    "\n",
    "  ```scala\n",
    "  for \n",
    "    b <- books \n",
    "    a <- b.authors \n",
    "    if a.startsWith(\"Bird\")\n",
    "  yield b.title\n",
    "  ```"
   ]
  },
  {
   "cell_type": "markdown",
   "metadata": {},
   "source": [
    "### Translation of `for` loops to `flatMap`, `map`, and `withFilter`"
   ]
  },
  {
   "cell_type": "markdown",
   "metadata": {},
   "source": [
    "- This isn't just an arbitrary exercise. As long as the methods `flatMap`, `map`, and `withFilter` exist, Scala will be able to translate the loop into a `for` loop, regardless of type!\n",
    "\n",
    "- So for example, if instead of `Books`, I have some database class that defines the 3 functions, I can use the `for` loop syntax to query the database. Super convenient!\n",
    "\n",
    "- This is the basis for database connection frameworks like Spark"
   ]
  },
  {
   "cell_type": "markdown",
   "metadata": {},
   "source": [
    "## Functional Random Generators"
   ]
  },
  {
   "cell_type": "markdown",
   "metadata": {},
   "source": [
    "- The last point from the previous section deserves more attention. Basically a `for` expression can be applicable for **ANYTHING**, so long as it has an implementation of `map`, `flatMap`, and `withFilter`\n",
    "\n",
    "- Let's take a look at a specific example of this: Generators"
   ]
  },
  {
   "cell_type": "markdown",
   "metadata": {},
   "source": [
    "### Translating `for` in a generic `Generator` class"
   ]
  },
  {
   "cell_type": "markdown",
   "metadata": {},
   "source": [
    "- Let's define a basic generator trait with an abstract `generate` method\n",
    "  ```scala\n",
    "    trait Generator[T+]:\n",
    "      def generate(): T\n",
    "  ```\n",
    "\n",
    "- Using this trait, we can define some basic generators as follows\n",
    "  ```scala\n",
    "    // Integer generator\n",
    "    val integerGenerator = new Generator[Int]: \n",
    "      val rand = java.util.Random()\n",
    "      \n",
    "      def generate(): Int = {\n",
    "        rand.nextInt()\n",
    "      }\n",
    "    \n",
    "    val booleanGenerator = new Generator[Boolean]:\n",
    "      def generate(): Boolean = {\n",
    "        integerGenerator.generate() > 0\n",
    "      }\n",
    "\n",
    "    val pairsGenerator = new Generator[(Int, Int)]:\n",
    "      def generate(): (Int, Int) = {\n",
    "        (integerGenerator.generate(), integerGenerator.generate())\n",
    "      }\n",
    "  ```\n",
    "\n",
    "- However, notice that writing this creates a bunch of boilerplate. Can we simplify? Yes!\n",
    "  ```scala\n",
    "    // Simplified\n",
    "    val booleanGenerator = integerGenerator.map(x => x > 0)\n",
    "\n",
    "    val pairsGenerator = integerGenerator.flatMap(x => integerGenerator.map(y => (x,y)))\n",
    "  ```"
   ]
  },
  {
   "cell_type": "markdown",
   "metadata": {},
   "source": [
    "- This immediately runs into a problem; we have not yet defined the `map` and `flatMap` methods for the generator class! We can define the `map` and `flatMap` methods either via an `extension`, or directly within the `Generator` trait\n",
    "\n",
    "\n",
    "- Note that `map` and `flatMap` should produce a new generator, NOT just mapping some function `f` to a generated value.\n",
    "\n",
    "  ```scala\n",
    "    trait Generator[+T]:\n",
    "      def generate(): T\n",
    "\n",
    "      // Viable as trait methods\n",
    "      def map[S](f: T => S) = new Generator[S] {\n",
    "        def generate(): S = {\n",
    "          f(Generator.this.generate())\n",
    "        }\n",
    "      }\n",
    "\n",
    "      def flatMap[S](f: T => Generator[S]) = new Generator[S]:\n",
    "        def generate(): S = { \n",
    "          f(Generator.this.generate()).generate()\n",
    "        }\n",
    "\n",
    "\n",
    "    // Viable as an extension\n",
    "    extension [T, S](g: Generator[T])\n",
    "      def map(f: T => S) = new Generator[S]:\n",
    "        def generate() = f(g.generate())\n",
    "      \n",
    "      def flatMap(f: T => Generator[S]) = new Generator[S]:\n",
    "        def generate() = f(g.generate()).generate()\n",
    "  ```"
   ]
  },
  {
   "cell_type": "markdown",
   "metadata": {},
   "source": [
    "### Translating the booleanGenerator and pairGenerator objects"
   ]
  },
  {
   "cell_type": "markdown",
   "metadata": {},
   "source": [
    "- With the implementation of `map` and `flatMap`, we can now implement the `booleanGenerator` and `pairGenerator` objects in a single line\n",
    "  ```scala\n",
    "    // Simplified\n",
    "    val booleanGenerator = integerGenerator.map(x => x > 0)\n",
    "\n",
    "    val pairsGenerator = integerGenerator.flatMap(x => integerGenerator.map(y => (x,y)))\n",
    "  ```\n",
    "\n",
    "- Note that these are all equivalent representations!\n",
    "\n",
    "  ```scala\n",
    "    //Equivalent representations of booleanGenerator\n",
    "    val booleans1 = for x <- integerGenerator yield x > 0\n",
    "    val booleans2 = integerGenerator.map(x => x > 0)\n",
    "    val booleans3 = new Generator[Boolean]:\n",
    "      def generate() = ((x: Int) => x > 0)(integerGenerator.generate())\n",
    "    val booleans4 = new Generator[Boolean]:\n",
    "      def generate() = integerGenerator.generate() > 0\n",
    "\n",
    "    //Equivalent representations of pairGenerator\n",
    "    def pairs1[T, U](t: Generator[T], u: Generator[U]): Generator[(T, U)] = {\n",
    "      t.flatMap(\n",
    "        x => u.map(\n",
    "          y => (x, y)\n",
    "        )\n",
    "      )\n",
    "    }\n",
    "\n",
    "    def pairs2[T, U](t: Generator[T], u: Generator[U]): Generator[(T, U)] = {\n",
    "      t.flatMap(\n",
    "        x => new Generator[(T, U)] { \n",
    "          def generate() = (x, u.generate()) \n",
    "        }\n",
    "      )\n",
    "    }\n",
    "\n",
    "    def pairs3[T, U](t: Generator[T], u: Generator[U]): Generator[(T, U)] = {\n",
    "      new Generator[(T, U)]:\n",
    "        def generate() = {\n",
    "          (\n",
    "            new Generator[(T, U)]: \n",
    "              def generate() = (t.generate(), u.generate())\n",
    "          ).generate()\n",
    "      }\n",
    "    }\n",
    "\n",
    "    def pairs4[T, U](t: Generator[T], u: Generator[U]): Generator[(T, U)] = {\n",
    "      new Generator[(T, U)]:\n",
    "        def generate() = (t.generate(), u.generate())\n",
    "    }\n",
    "  ```"
   ]
  },
  {
   "cell_type": "markdown",
   "metadata": {},
   "source": [
    "### Exercise: Writing our own `List` generator"
   ]
  },
  {
   "cell_type": "markdown",
   "metadata": {},
   "source": [
    "- We now know that a generator should implement the `map` and `flatMap` methods to enable us to use the `for` syntactic sugar\n",
    "\n",
    "- This `for` syntax makes it super easy to write new `Generator`s, giving us very fine grained control to build up new functionality\n",
    "  ```scala\n",
    "  def single[T](x: T): Generator[T] = new Generator[T]:\n",
    "    def generate() = x\n",
    "  \n",
    "  def range(lo: Int, hi: Int): Generator[Int] =\n",
    "    for \n",
    "      x <- integers \n",
    "    yield \n",
    "      lo + x.abs % (hi - lo)\n",
    "  \n",
    "  def oneOf[T](xs: T*): Generator[T] =\n",
    "    for \n",
    "      idx <- range(0, xs.length) \n",
    "    yield \n",
    "      xs(idx)\n",
    "  ```"
   ]
  },
  {
   "cell_type": "markdown",
   "metadata": {},
   "source": [
    "- Let's now try writing a generator for a `List[Int]`\n",
    "  - This generates anything from a random list, to a list of arbitrary random length\n",
    "\n",
    "  - See `4-slides.scala`"
   ]
  },
  {
   "cell_type": "markdown",
   "metadata": {},
   "source": [
    "### Exercise: Write our own `Tree` generator"
   ]
  },
  {
   "cell_type": "markdown",
   "metadata": {},
   "source": [
    "- See `4-slides.scala`"
   ]
  },
  {
   "cell_type": "markdown",
   "metadata": {},
   "source": [
    "### Exercise: Using `Generator` in random testing"
   ]
  },
  {
   "cell_type": "markdown",
   "metadata": {},
   "source": [
    "- One application of the `Generator` object is in generating test cases\n",
    "\n",
    "- For example:\n",
    "  ```scala\n",
    "    def test[T](g: Generator[T], numTimes: Int = 100)(test: T => Boolean): Unit =\n",
    "      for i <- 0 until numTimes do\n",
    "        val value = g.generate()\n",
    "        assert(test(value), s”test failed for $value”)\n",
    "      println(s”passed $numTimes tests”)\n",
    "  ```\n",
    "\n",
    "- Example usage. Does the property always hold? Obviously not, because list can be empty\n",
    "\n",
    "  ```scala\n",
    "    test(pairs(lists, lists)) {\n",
    "      (xs, ys) => (xs ++ ys).length > xs.length\n",
    "    }\n",
    "  ```"
   ]
  },
  {
   "cell_type": "markdown",
   "metadata": {},
   "source": [
    "## Monads"
   ]
  },
  {
   "cell_type": "markdown",
   "metadata": {},
   "source": [
    "- We looked at some data structures with `map` and `flatMap` defined (e.g. `Generator`). In fact, this is an entire class of objects known as **monads**\n",
    "\n",
    "- In this section, we'll look at a rigorous definition of what monads are"
   ]
  },
  {
   "cell_type": "markdown",
   "metadata": {},
   "source": [
    "### What are monads?"
   ]
  },
  {
   "cell_type": "markdown",
   "metadata": {},
   "source": [
    "- Let `M` be some Monad. \n",
    "\n",
    "- Then a Monad of type T is any type `M[T]` with 2 operations; `unit` and `flatMap`, whereby\n",
    "\n",
    "  ```scala\n",
    "    extension[T, U](m: M[T]) \n",
    "      def flatMap(f: T => M[U]): M[U]\n",
    "    \n",
    "    def unit[T](x: T): M[T] \n",
    "  ```\n",
    "\n",
    "- For example:\n",
    "  - `List` is a monad\n",
    "    ```scala\n",
    "      val l: List[Int] = List(1,2,3)\n",
    "      l.flatMap(x => List(x)) // will produce List[Int], when f is of type Int => List[Int]\n",
    "      unit(1) = List(1) //define unit(x: Int): List[Int] = ???\n",
    "    ```\n",
    "  - `Set` is a monad\n",
    "    ```scala\n",
    "      val s: Set[Int] = Set(1,2,3)\n",
    "      s.flatMap(x => Set(x)) // will produce Set[Int], when f is of type Int => Set[Int]\n",
    "      unit(1) = Set(1) //define unit(x: Int): List[Int] = ???\n",
    "    ```\n",
    "\n",
    "- You may notice that `map` is not a required method. Why?\n",
    "  - Because it turns out that `map` can be defined in terms of `flatMap` and `unit`. Think of `map` as a special case of `flatMap`\n",
    "  ```scala\n",
    "    type monad[T] = M[T]\n",
    "    \n",
    "    def flatMapFunc[T,U](x: T): M[U] //changes type T to U, and wraps it in monad M\n",
    "    def mapFunc[T,U](x: T): U //changes type T to U\n",
    "\n",
    "    monad.map(mapFunc) //produces M[U]\n",
    "    monad.flatMap(x => unit(flatMapFunc(x))) //flatMapFunc(x) produces M[U], unit(.) produces M[M[U]], flatMap then flattens into M[U]. Therefore, equivalent\n",
    "  ```"
   ]
  },
  {
   "cell_type": "markdown",
   "metadata": {},
   "source": [
    "### What qualifies something as a monad?"
   ]
  },
  {
   "cell_type": "markdown",
   "metadata": {},
   "source": [
    "- A monad has to follow 3 laws (i) Associativity, (ii) Left Unit, and (iii) Right Unit\n",
    "  1. Associativity\n",
    "    - Generally: `m.flatMap(f).flatMap(g) == m.flatMap(f(x).flatMap(g))`\n",
    "    - e.g. `List(1,2,3).flatMap(x => List(x*2)).flatMap(x => List(x*2)) == List(1,2,3).flatMap(x => List(x*2).flatMap(y => List(y*2)))`\n",
    "\n",
    "  2. Left Unit\n",
    "    - Generally: `unit(x).flatMap(f) == f(x)`\n",
    "    - e.g.\n",
    "      ```scala\n",
    "        def f(x: Int): Int = List(x * 2)\n",
    "        unit(1).flatMap(x => f(x)) //unit(1) gives List(1). List(1).flatMap(x => List(x*2)) becomes List(2)\n",
    "        f(1) //gives us List(2)\n",
    "      ```\n",
    "\n",
    "  3. Right Unit\n",
    "    - Generally: `m.flatMap(unit) == m`\n",
    "    - e.g.\n",
    "      ```scala\n",
    "        val m = List(1)\n",
    "        m.flatMap(x => unit(x)) //gives us flatMap of List(List(1)), which is List(1), which is equal to m\n",
    "      ```"
   ]
  },
  {
   "cell_type": "markdown",
   "metadata": {},
   "source": [
    "## Exceptional Monads"
   ]
  },
  {
   "cell_type": "markdown",
   "metadata": {},
   "source": [
    "- To write exceptions in Scala, extend the `Exceptions` base class\n",
    "  ```scala\n",
    "    class BadInput(msg: String) extends Exception(msg)\n",
    "    throw new BadInput(”missing data”)\n",
    "  ```\n",
    "\n",
    "- You have a couple of options when it comes to try...catch... pattern in Scala\n",
    "  - Rely on the usual try/catch pattern, which throws an error on failure\n",
    "    ```scala\n",
    "      def testFunc() = {\n",
    "        try {\n",
    "          something()\n",
    "        } \n",
    "      }\n",
    "    ```\n",
    "\n",
    "  - Use `scala.util.Try`, which lets you see an exception as a \"normal\" result, and so doesn't break your program\n",
    "\n",
    "- See `6-slides.scala`"
   ]
  }
 ],
 "metadata": {
  "language_info": {
   "name": "python"
  }
 },
 "nbformat": 4,
 "nbformat_minor": 2
}
