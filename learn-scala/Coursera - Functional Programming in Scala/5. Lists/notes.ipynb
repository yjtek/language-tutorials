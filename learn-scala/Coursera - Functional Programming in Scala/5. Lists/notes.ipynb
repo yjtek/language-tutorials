{
 "cells": [
  {
   "cell_type": "markdown",
   "metadata": {},
   "source": [
    "## Closer look at lists"
   ]
  },
  {
   "cell_type": "markdown",
   "metadata": {},
   "source": [
    "- We have explored a few of the built-in methods of a `List` in Scala\n",
    "  ```scala\n",
    "    type List[Fruit]\n",
    "    val fruits = List(\"apple\", \"orange\", \"banana\")\n",
    "    val nums = 1 :: 2 :: Nil //Nil is built in\n",
    "\n",
    "    nums match\n",
    "      case x :: y:: _ => x+y //3\n",
    "      case _ => nums\n",
    "    \n",
    "    fruits.isEmpty //false\n",
    "    fruits.length //3\n",
    "\n",
    "    fruits.head //\"apple\"\n",
    "    fruits.last //\"banana\"\n",
    "\n",
    "    fruits.init //List(\"apple\", \"orange\")\n",
    "    fruits.tail //List(\"orange\", \"banana\")\n",
    "\n",
    "    fruits.take(2) //List(\"apple\", \"orange\")\n",
    "    fruits.drop(2) //List(\"banana\")\n",
    "    fruits(2) //\"banana\"\n",
    "\n",
    "    fruits ++ List(\"pineapple\") //List(\"apple\", \"orange\", \"banana\", \"pineapple\")\n",
    "    fruits.reverse //List(\"banana\", \"orange\", \"apple\")\n",
    "    fruits.updated(0, \"mango\") //List(\"mango\", \"orange\", \"banana\")\n",
    "\n",
    "    fruits.indexOf(\"apple\") //0\n",
    "    fruits.contains(\"watermelon\") //false\n",
    "\n",
    "  ```"
   ]
  },
  {
   "cell_type": "markdown",
   "metadata": {},
   "source": [
    "### Implementation of some list methods"
   ]
  },
  {
   "cell_type": "markdown",
   "metadata": {},
   "source": [
    "- To de-mystify some of the methods above, we'll implement some of them from scratch. Let `val l: List[Any]`. We will implement:\n",
    "  - `last(l)`\n",
    "  - `init(l)`\n",
    "  - `l ++ m`\n",
    "  - `l.reverse`\n",
    "  - `removeAt(n: Int, l)`\n",
    "  - `flatten(l)`\n",
    "\n",
    "- See `1-slides.scala`"
   ]
  },
  {
   "cell_type": "markdown",
   "metadata": {},
   "source": []
  }
 ],
 "metadata": {
  "language_info": {
   "name": "python"
  }
 },
 "nbformat": 4,
 "nbformat_minor": 2
}
